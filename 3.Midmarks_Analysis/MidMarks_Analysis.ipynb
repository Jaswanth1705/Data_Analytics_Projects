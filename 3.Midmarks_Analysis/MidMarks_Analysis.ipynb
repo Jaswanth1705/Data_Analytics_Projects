{
 "cells": [
  {
   "cell_type": "code",
   "execution_count": 1,
   "id": "f426affc",
   "metadata": {},
   "outputs": [
    {
     "data": {
      "text/html": [
       "<div>\n",
       "<style scoped>\n",
       "    .dataframe tbody tr th:only-of-type {\n",
       "        vertical-align: middle;\n",
       "    }\n",
       "\n",
       "    .dataframe tbody tr th {\n",
       "        vertical-align: top;\n",
       "    }\n",
       "\n",
       "    .dataframe thead th {\n",
       "        text-align: right;\n",
       "    }\n",
       "</style>\n",
       "<table border=\"1\" class=\"dataframe\">\n",
       "  <thead>\n",
       "    <tr style=\"text-align: right;\">\n",
       "      <th></th>\n",
       "      <th>S.NO</th>\n",
       "      <th>SECTION</th>\n",
       "      <th>DV</th>\n",
       "      <th>M-II</th>\n",
       "      <th>PP</th>\n",
       "      <th>BEEE</th>\n",
       "      <th>FL</th>\n",
       "      <th>FIMS</th>\n",
       "    </tr>\n",
       "  </thead>\n",
       "  <tbody>\n",
       "    <tr>\n",
       "      <th>0</th>\n",
       "      <td>1.0</td>\n",
       "      <td>ALPHA</td>\n",
       "      <td>12</td>\n",
       "      <td>0</td>\n",
       "      <td>17</td>\n",
       "      <td>9</td>\n",
       "      <td>19</td>\n",
       "      <td>15</td>\n",
       "    </tr>\n",
       "    <tr>\n",
       "      <th>1</th>\n",
       "      <td>2.0</td>\n",
       "      <td>ALPHA</td>\n",
       "      <td>19</td>\n",
       "      <td>12</td>\n",
       "      <td>16</td>\n",
       "      <td>16</td>\n",
       "      <td>18</td>\n",
       "      <td>3</td>\n",
       "    </tr>\n",
       "    <tr>\n",
       "      <th>2</th>\n",
       "      <td>3.0</td>\n",
       "      <td>ALPHA</td>\n",
       "      <td>18</td>\n",
       "      <td>14</td>\n",
       "      <td>18</td>\n",
       "      <td>18</td>\n",
       "      <td>18</td>\n",
       "      <td>16</td>\n",
       "    </tr>\n",
       "    <tr>\n",
       "      <th>3</th>\n",
       "      <td>4.0</td>\n",
       "      <td>ALPHA</td>\n",
       "      <td>15</td>\n",
       "      <td>9</td>\n",
       "      <td>19</td>\n",
       "      <td>17</td>\n",
       "      <td>19</td>\n",
       "      <td>15</td>\n",
       "    </tr>\n",
       "    <tr>\n",
       "      <th>4</th>\n",
       "      <td>5.0</td>\n",
       "      <td>ALPHA</td>\n",
       "      <td>18</td>\n",
       "      <td>17</td>\n",
       "      <td>19</td>\n",
       "      <td>19</td>\n",
       "      <td>20</td>\n",
       "      <td>18</td>\n",
       "    </tr>\n",
       "    <tr>\n",
       "      <th>...</th>\n",
       "      <td>...</td>\n",
       "      <td>...</td>\n",
       "      <td>...</td>\n",
       "      <td>...</td>\n",
       "      <td>...</td>\n",
       "      <td>...</td>\n",
       "      <td>...</td>\n",
       "      <td>...</td>\n",
       "    </tr>\n",
       "    <tr>\n",
       "      <th>713</th>\n",
       "      <td>NaN</td>\n",
       "      <td>ZETA</td>\n",
       "      <td>19</td>\n",
       "      <td>8</td>\n",
       "      <td>8</td>\n",
       "      <td>19</td>\n",
       "      <td>17</td>\n",
       "      <td>18</td>\n",
       "    </tr>\n",
       "    <tr>\n",
       "      <th>714</th>\n",
       "      <td>NaN</td>\n",
       "      <td>ZETA</td>\n",
       "      <td>12</td>\n",
       "      <td>1</td>\n",
       "      <td>7</td>\n",
       "      <td>10</td>\n",
       "      <td>20</td>\n",
       "      <td>8</td>\n",
       "    </tr>\n",
       "    <tr>\n",
       "      <th>715</th>\n",
       "      <td>NaN</td>\n",
       "      <td>ZETA</td>\n",
       "      <td>17</td>\n",
       "      <td>6</td>\n",
       "      <td>14</td>\n",
       "      <td>14</td>\n",
       "      <td>17</td>\n",
       "      <td>18</td>\n",
       "    </tr>\n",
       "    <tr>\n",
       "      <th>716</th>\n",
       "      <td>NaN</td>\n",
       "      <td>ZETA</td>\n",
       "      <td>12</td>\n",
       "      <td>1</td>\n",
       "      <td>6</td>\n",
       "      <td>7</td>\n",
       "      <td>15</td>\n",
       "      <td>12</td>\n",
       "    </tr>\n",
       "    <tr>\n",
       "      <th>717</th>\n",
       "      <td>NaN</td>\n",
       "      <td>ZETA</td>\n",
       "      <td>19</td>\n",
       "      <td>14</td>\n",
       "      <td>17</td>\n",
       "      <td>16</td>\n",
       "      <td>20</td>\n",
       "      <td>19</td>\n",
       "    </tr>\n",
       "  </tbody>\n",
       "</table>\n",
       "<p>718 rows × 8 columns</p>\n",
       "</div>"
      ],
      "text/plain": [
       "     S.NO SECTION  DV M-II  PP BEEE  FL FIMS\n",
       "0     1.0   ALPHA  12    0  17    9  19   15\n",
       "1     2.0   ALPHA  19   12  16   16  18    3\n",
       "2     3.0   ALPHA  18   14  18   18  18   16\n",
       "3     4.0   ALPHA  15    9  19   17  19   15\n",
       "4     5.0   ALPHA  18   17  19   19  20   18\n",
       "..    ...     ...  ..  ...  ..  ...  ..  ...\n",
       "713   NaN    ZETA  19    8   8   19  17   18\n",
       "714   NaN    ZETA  12    1   7   10  20    8\n",
       "715   NaN    ZETA  17    6  14   14  17   18\n",
       "716   NaN    ZETA  12    1   6    7  15   12\n",
       "717   NaN    ZETA  19   14  17   16  20   19\n",
       "\n",
       "[718 rows x 8 columns]"
      ]
     },
     "execution_count": 1,
     "metadata": {},
     "output_type": "execute_result"
    }
   ],
   "source": [
    "import pandas as pd\n",
    "df = pd.read_excel(\"MIDMARKS.xlsx\")\n",
    "df"
   ]
  },
  {
   "cell_type": "code",
   "execution_count": 2,
   "id": "80dd6eed",
   "metadata": {},
   "outputs": [
    {
     "name": "stdout",
     "output_type": "stream",
     "text": [
      "<class 'pandas.core.frame.DataFrame'>\n",
      "RangeIndex: 718 entries, 0 to 717\n",
      "Data columns (total 8 columns):\n",
      " #   Column   Non-Null Count  Dtype  \n",
      "---  ------   --------------  -----  \n",
      " 0   S.NO     601 non-null    float64\n",
      " 1   SECTION  691 non-null    object \n",
      " 2   DV       716 non-null    object \n",
      " 3   M-II     716 non-null    object \n",
      " 4   PP       716 non-null    object \n",
      " 5   BEEE     716 non-null    object \n",
      " 6   FL       715 non-null    object \n",
      " 7   FIMS     716 non-null    object \n",
      "dtypes: float64(1), object(7)\n",
      "memory usage: 45.0+ KB\n"
     ]
    }
   ],
   "source": [
    "df.info()"
   ]
  },
  {
   "cell_type": "code",
   "execution_count": 3,
   "id": "cbcaa575",
   "metadata": {},
   "outputs": [
    {
     "data": {
      "text/plain": [
       "<bound method IndexOpsMixin.value_counts of 0      12\n",
       "1      19\n",
       "2      18\n",
       "3      15\n",
       "4      18\n",
       "       ..\n",
       "713    19\n",
       "714    12\n",
       "715    17\n",
       "716    12\n",
       "717    19\n",
       "Name: DV, Length: 718, dtype: object>"
      ]
     },
     "execution_count": 3,
     "metadata": {},
     "output_type": "execute_result"
    }
   ],
   "source": [
    "df.DV.value_counts"
   ]
  },
  {
   "cell_type": "code",
   "execution_count": 4,
   "id": "c263da1b",
   "metadata": {},
   "outputs": [],
   "source": [
    "df.rename(columns={'M-II':'MATHS'},inplace=True)"
   ]
  },
  {
   "cell_type": "code",
   "execution_count": 5,
   "id": "7a50277f",
   "metadata": {},
   "outputs": [
    {
     "data": {
      "text/html": [
       "<div>\n",
       "<style scoped>\n",
       "    .dataframe tbody tr th:only-of-type {\n",
       "        vertical-align: middle;\n",
       "    }\n",
       "\n",
       "    .dataframe tbody tr th {\n",
       "        vertical-align: top;\n",
       "    }\n",
       "\n",
       "    .dataframe thead th {\n",
       "        text-align: right;\n",
       "    }\n",
       "</style>\n",
       "<table border=\"1\" class=\"dataframe\">\n",
       "  <thead>\n",
       "    <tr style=\"text-align: right;\">\n",
       "      <th></th>\n",
       "      <th>S.NO</th>\n",
       "      <th>SECTION</th>\n",
       "      <th>DV</th>\n",
       "      <th>MATHS</th>\n",
       "      <th>PP</th>\n",
       "      <th>BEEE</th>\n",
       "      <th>FL</th>\n",
       "      <th>FIMS</th>\n",
       "    </tr>\n",
       "  </thead>\n",
       "  <tbody>\n",
       "    <tr>\n",
       "      <th>0</th>\n",
       "      <td>1.0</td>\n",
       "      <td>ALPHA</td>\n",
       "      <td>12</td>\n",
       "      <td>0</td>\n",
       "      <td>17</td>\n",
       "      <td>9</td>\n",
       "      <td>19</td>\n",
       "      <td>15</td>\n",
       "    </tr>\n",
       "    <tr>\n",
       "      <th>1</th>\n",
       "      <td>2.0</td>\n",
       "      <td>ALPHA</td>\n",
       "      <td>19</td>\n",
       "      <td>12</td>\n",
       "      <td>16</td>\n",
       "      <td>16</td>\n",
       "      <td>18</td>\n",
       "      <td>3</td>\n",
       "    </tr>\n",
       "    <tr>\n",
       "      <th>2</th>\n",
       "      <td>3.0</td>\n",
       "      <td>ALPHA</td>\n",
       "      <td>18</td>\n",
       "      <td>14</td>\n",
       "      <td>18</td>\n",
       "      <td>18</td>\n",
       "      <td>18</td>\n",
       "      <td>16</td>\n",
       "    </tr>\n",
       "    <tr>\n",
       "      <th>3</th>\n",
       "      <td>4.0</td>\n",
       "      <td>ALPHA</td>\n",
       "      <td>15</td>\n",
       "      <td>9</td>\n",
       "      <td>19</td>\n",
       "      <td>17</td>\n",
       "      <td>19</td>\n",
       "      <td>15</td>\n",
       "    </tr>\n",
       "    <tr>\n",
       "      <th>4</th>\n",
       "      <td>5.0</td>\n",
       "      <td>ALPHA</td>\n",
       "      <td>18</td>\n",
       "      <td>17</td>\n",
       "      <td>19</td>\n",
       "      <td>19</td>\n",
       "      <td>20</td>\n",
       "      <td>18</td>\n",
       "    </tr>\n",
       "    <tr>\n",
       "      <th>...</th>\n",
       "      <td>...</td>\n",
       "      <td>...</td>\n",
       "      <td>...</td>\n",
       "      <td>...</td>\n",
       "      <td>...</td>\n",
       "      <td>...</td>\n",
       "      <td>...</td>\n",
       "      <td>...</td>\n",
       "    </tr>\n",
       "    <tr>\n",
       "      <th>713</th>\n",
       "      <td>NaN</td>\n",
       "      <td>ZETA</td>\n",
       "      <td>19</td>\n",
       "      <td>8</td>\n",
       "      <td>8</td>\n",
       "      <td>19</td>\n",
       "      <td>17</td>\n",
       "      <td>18</td>\n",
       "    </tr>\n",
       "    <tr>\n",
       "      <th>714</th>\n",
       "      <td>NaN</td>\n",
       "      <td>ZETA</td>\n",
       "      <td>12</td>\n",
       "      <td>1</td>\n",
       "      <td>7</td>\n",
       "      <td>10</td>\n",
       "      <td>20</td>\n",
       "      <td>8</td>\n",
       "    </tr>\n",
       "    <tr>\n",
       "      <th>715</th>\n",
       "      <td>NaN</td>\n",
       "      <td>ZETA</td>\n",
       "      <td>17</td>\n",
       "      <td>6</td>\n",
       "      <td>14</td>\n",
       "      <td>14</td>\n",
       "      <td>17</td>\n",
       "      <td>18</td>\n",
       "    </tr>\n",
       "    <tr>\n",
       "      <th>716</th>\n",
       "      <td>NaN</td>\n",
       "      <td>ZETA</td>\n",
       "      <td>12</td>\n",
       "      <td>1</td>\n",
       "      <td>6</td>\n",
       "      <td>7</td>\n",
       "      <td>15</td>\n",
       "      <td>12</td>\n",
       "    </tr>\n",
       "    <tr>\n",
       "      <th>717</th>\n",
       "      <td>NaN</td>\n",
       "      <td>ZETA</td>\n",
       "      <td>19</td>\n",
       "      <td>14</td>\n",
       "      <td>17</td>\n",
       "      <td>16</td>\n",
       "      <td>20</td>\n",
       "      <td>19</td>\n",
       "    </tr>\n",
       "  </tbody>\n",
       "</table>\n",
       "<p>718 rows × 8 columns</p>\n",
       "</div>"
      ],
      "text/plain": [
       "     S.NO SECTION  DV MATHS  PP BEEE  FL FIMS\n",
       "0     1.0   ALPHA  12     0  17    9  19   15\n",
       "1     2.0   ALPHA  19    12  16   16  18    3\n",
       "2     3.0   ALPHA  18    14  18   18  18   16\n",
       "3     4.0   ALPHA  15     9  19   17  19   15\n",
       "4     5.0   ALPHA  18    17  19   19  20   18\n",
       "..    ...     ...  ..   ...  ..  ...  ..  ...\n",
       "713   NaN    ZETA  19     8   8   19  17   18\n",
       "714   NaN    ZETA  12     1   7   10  20    8\n",
       "715   NaN    ZETA  17     6  14   14  17   18\n",
       "716   NaN    ZETA  12     1   6    7  15   12\n",
       "717   NaN    ZETA  19    14  17   16  20   19\n",
       "\n",
       "[718 rows x 8 columns]"
      ]
     },
     "execution_count": 5,
     "metadata": {},
     "output_type": "execute_result"
    }
   ],
   "source": [
    "df"
   ]
  },
  {
   "cell_type": "code",
   "execution_count": 6,
   "id": "86ec341c",
   "metadata": {},
   "outputs": [
    {
     "data": {
      "text/plain": [
       "0      ALPHA\n",
       "1      ALPHA\n",
       "2      ALPHA\n",
       "3      ALPHA\n",
       "4      ALPHA\n",
       "       ...  \n",
       "713     ZETA\n",
       "714     ZETA\n",
       "715     ZETA\n",
       "716     ZETA\n",
       "717     ZETA\n",
       "Name: SECTION, Length: 718, dtype: object"
      ]
     },
     "execution_count": 6,
     "metadata": {},
     "output_type": "execute_result"
    }
   ],
   "source": [
    "df.SECTION.fillna(\"SIGMA\")"
   ]
  },
  {
   "cell_type": "code",
   "execution_count": 7,
   "id": "5120dda2",
   "metadata": {},
   "outputs": [
    {
     "data": {
      "text/plain": [
       "S.NO       117\n",
       "SECTION     27\n",
       "DV           2\n",
       "MATHS        2\n",
       "PP           2\n",
       "BEEE         2\n",
       "FL           3\n",
       "FIMS         2\n",
       "dtype: int64"
      ]
     },
     "execution_count": 7,
     "metadata": {},
     "output_type": "execute_result"
    }
   ],
   "source": [
    "df.isnull().sum()"
   ]
  },
  {
   "cell_type": "code",
   "execution_count": 8,
   "id": "4015efa7",
   "metadata": {},
   "outputs": [
    {
     "data": {
      "text/html": [
       "<div>\n",
       "<style scoped>\n",
       "    .dataframe tbody tr th:only-of-type {\n",
       "        vertical-align: middle;\n",
       "    }\n",
       "\n",
       "    .dataframe tbody tr th {\n",
       "        vertical-align: top;\n",
       "    }\n",
       "\n",
       "    .dataframe thead th {\n",
       "        text-align: right;\n",
       "    }\n",
       "</style>\n",
       "<table border=\"1\" class=\"dataframe\">\n",
       "  <thead>\n",
       "    <tr style=\"text-align: right;\">\n",
       "      <th></th>\n",
       "      <th>S.NO</th>\n",
       "      <th>SECTION</th>\n",
       "      <th>DV</th>\n",
       "      <th>M-II</th>\n",
       "      <th>PP</th>\n",
       "      <th>BEEE</th>\n",
       "      <th>FL</th>\n",
       "      <th>FIMS</th>\n",
       "    </tr>\n",
       "  </thead>\n",
       "  <tbody>\n",
       "    <tr>\n",
       "      <th>0</th>\n",
       "      <td>1.0</td>\n",
       "      <td>ALPHA</td>\n",
       "      <td>12</td>\n",
       "      <td>0</td>\n",
       "      <td>17</td>\n",
       "      <td>9</td>\n",
       "      <td>19</td>\n",
       "      <td>15</td>\n",
       "    </tr>\n",
       "    <tr>\n",
       "      <th>1</th>\n",
       "      <td>2.0</td>\n",
       "      <td>ALPHA</td>\n",
       "      <td>19</td>\n",
       "      <td>12</td>\n",
       "      <td>16</td>\n",
       "      <td>16</td>\n",
       "      <td>18</td>\n",
       "      <td>3</td>\n",
       "    </tr>\n",
       "    <tr>\n",
       "      <th>2</th>\n",
       "      <td>3.0</td>\n",
       "      <td>ALPHA</td>\n",
       "      <td>18</td>\n",
       "      <td>14</td>\n",
       "      <td>18</td>\n",
       "      <td>18</td>\n",
       "      <td>18</td>\n",
       "      <td>16</td>\n",
       "    </tr>\n",
       "    <tr>\n",
       "      <th>3</th>\n",
       "      <td>4.0</td>\n",
       "      <td>ALPHA</td>\n",
       "      <td>15</td>\n",
       "      <td>9</td>\n",
       "      <td>19</td>\n",
       "      <td>17</td>\n",
       "      <td>19</td>\n",
       "      <td>15</td>\n",
       "    </tr>\n",
       "    <tr>\n",
       "      <th>4</th>\n",
       "      <td>5.0</td>\n",
       "      <td>ALPHA</td>\n",
       "      <td>18</td>\n",
       "      <td>17</td>\n",
       "      <td>19</td>\n",
       "      <td>19</td>\n",
       "      <td>20</td>\n",
       "      <td>18</td>\n",
       "    </tr>\n",
       "    <tr>\n",
       "      <th>...</th>\n",
       "      <td>...</td>\n",
       "      <td>...</td>\n",
       "      <td>...</td>\n",
       "      <td>...</td>\n",
       "      <td>...</td>\n",
       "      <td>...</td>\n",
       "      <td>...</td>\n",
       "      <td>...</td>\n",
       "    </tr>\n",
       "    <tr>\n",
       "      <th>713</th>\n",
       "      <td>NaN</td>\n",
       "      <td>ZETA</td>\n",
       "      <td>19</td>\n",
       "      <td>8</td>\n",
       "      <td>8</td>\n",
       "      <td>19</td>\n",
       "      <td>17</td>\n",
       "      <td>18</td>\n",
       "    </tr>\n",
       "    <tr>\n",
       "      <th>714</th>\n",
       "      <td>NaN</td>\n",
       "      <td>ZETA</td>\n",
       "      <td>12</td>\n",
       "      <td>1</td>\n",
       "      <td>7</td>\n",
       "      <td>10</td>\n",
       "      <td>20</td>\n",
       "      <td>8</td>\n",
       "    </tr>\n",
       "    <tr>\n",
       "      <th>715</th>\n",
       "      <td>NaN</td>\n",
       "      <td>ZETA</td>\n",
       "      <td>17</td>\n",
       "      <td>6</td>\n",
       "      <td>14</td>\n",
       "      <td>14</td>\n",
       "      <td>17</td>\n",
       "      <td>18</td>\n",
       "    </tr>\n",
       "    <tr>\n",
       "      <th>716</th>\n",
       "      <td>NaN</td>\n",
       "      <td>ZETA</td>\n",
       "      <td>12</td>\n",
       "      <td>1</td>\n",
       "      <td>6</td>\n",
       "      <td>7</td>\n",
       "      <td>15</td>\n",
       "      <td>12</td>\n",
       "    </tr>\n",
       "    <tr>\n",
       "      <th>717</th>\n",
       "      <td>NaN</td>\n",
       "      <td>ZETA</td>\n",
       "      <td>19</td>\n",
       "      <td>14</td>\n",
       "      <td>17</td>\n",
       "      <td>16</td>\n",
       "      <td>20</td>\n",
       "      <td>19</td>\n",
       "    </tr>\n",
       "  </tbody>\n",
       "</table>\n",
       "<p>718 rows × 8 columns</p>\n",
       "</div>"
      ],
      "text/plain": [
       "     S.NO SECTION  DV M-II  PP BEEE  FL FIMS\n",
       "0     1.0   ALPHA  12    0  17    9  19   15\n",
       "1     2.0   ALPHA  19   12  16   16  18    3\n",
       "2     3.0   ALPHA  18   14  18   18  18   16\n",
       "3     4.0   ALPHA  15    9  19   17  19   15\n",
       "4     5.0   ALPHA  18   17  19   19  20   18\n",
       "..    ...     ...  ..  ...  ..  ...  ..  ...\n",
       "713   NaN    ZETA  19    8   8   19  17   18\n",
       "714   NaN    ZETA  12    1   7   10  20    8\n",
       "715   NaN    ZETA  17    6  14   14  17   18\n",
       "716   NaN    ZETA  12    1   6    7  15   12\n",
       "717   NaN    ZETA  19   14  17   16  20   19\n",
       "\n",
       "[718 rows x 8 columns]"
      ]
     },
     "execution_count": 8,
     "metadata": {},
     "output_type": "execute_result"
    }
   ],
   "source": [
    "import pandas as pd\n",
    "df = pd.read_excel(\"MIDMARKS.xlsx\")\n",
    "df"
   ]
  },
  {
   "cell_type": "code",
   "execution_count": 9,
   "id": "4a577ee3",
   "metadata": {},
   "outputs": [
    {
     "data": {
      "text/html": [
       "<div>\n",
       "<style scoped>\n",
       "    .dataframe tbody tr th:only-of-type {\n",
       "        vertical-align: middle;\n",
       "    }\n",
       "\n",
       "    .dataframe tbody tr th {\n",
       "        vertical-align: top;\n",
       "    }\n",
       "\n",
       "    .dataframe thead th {\n",
       "        text-align: right;\n",
       "    }\n",
       "</style>\n",
       "<table border=\"1\" class=\"dataframe\">\n",
       "  <thead>\n",
       "    <tr style=\"text-align: right;\">\n",
       "      <th></th>\n",
       "      <th>S.NO</th>\n",
       "      <th>SECTION</th>\n",
       "      <th>DV</th>\n",
       "      <th>M-II</th>\n",
       "      <th>PP</th>\n",
       "      <th>BEEE</th>\n",
       "      <th>FL</th>\n",
       "      <th>FIMS</th>\n",
       "    </tr>\n",
       "  </thead>\n",
       "  <tbody>\n",
       "    <tr>\n",
       "      <th>0</th>\n",
       "      <td>1.0</td>\n",
       "      <td>ALPHA</td>\n",
       "      <td>12</td>\n",
       "      <td>0</td>\n",
       "      <td>17</td>\n",
       "      <td>9</td>\n",
       "      <td>19</td>\n",
       "      <td>15</td>\n",
       "    </tr>\n",
       "    <tr>\n",
       "      <th>1</th>\n",
       "      <td>2.0</td>\n",
       "      <td>ALPHA</td>\n",
       "      <td>19</td>\n",
       "      <td>12</td>\n",
       "      <td>16</td>\n",
       "      <td>16</td>\n",
       "      <td>18</td>\n",
       "      <td>3</td>\n",
       "    </tr>\n",
       "    <tr>\n",
       "      <th>2</th>\n",
       "      <td>3.0</td>\n",
       "      <td>ALPHA</td>\n",
       "      <td>18</td>\n",
       "      <td>14</td>\n",
       "      <td>18</td>\n",
       "      <td>18</td>\n",
       "      <td>18</td>\n",
       "      <td>16</td>\n",
       "    </tr>\n",
       "    <tr>\n",
       "      <th>3</th>\n",
       "      <td>4.0</td>\n",
       "      <td>ALPHA</td>\n",
       "      <td>15</td>\n",
       "      <td>9</td>\n",
       "      <td>19</td>\n",
       "      <td>17</td>\n",
       "      <td>19</td>\n",
       "      <td>15</td>\n",
       "    </tr>\n",
       "    <tr>\n",
       "      <th>4</th>\n",
       "      <td>5.0</td>\n",
       "      <td>ALPHA</td>\n",
       "      <td>18</td>\n",
       "      <td>17</td>\n",
       "      <td>19</td>\n",
       "      <td>19</td>\n",
       "      <td>20</td>\n",
       "      <td>18</td>\n",
       "    </tr>\n",
       "    <tr>\n",
       "      <th>...</th>\n",
       "      <td>...</td>\n",
       "      <td>...</td>\n",
       "      <td>...</td>\n",
       "      <td>...</td>\n",
       "      <td>...</td>\n",
       "      <td>...</td>\n",
       "      <td>...</td>\n",
       "      <td>...</td>\n",
       "    </tr>\n",
       "    <tr>\n",
       "      <th>713</th>\n",
       "      <td>NaN</td>\n",
       "      <td>ZETA</td>\n",
       "      <td>19</td>\n",
       "      <td>8</td>\n",
       "      <td>8</td>\n",
       "      <td>19</td>\n",
       "      <td>17</td>\n",
       "      <td>18</td>\n",
       "    </tr>\n",
       "    <tr>\n",
       "      <th>714</th>\n",
       "      <td>NaN</td>\n",
       "      <td>ZETA</td>\n",
       "      <td>12</td>\n",
       "      <td>1</td>\n",
       "      <td>7</td>\n",
       "      <td>10</td>\n",
       "      <td>20</td>\n",
       "      <td>8</td>\n",
       "    </tr>\n",
       "    <tr>\n",
       "      <th>715</th>\n",
       "      <td>NaN</td>\n",
       "      <td>ZETA</td>\n",
       "      <td>17</td>\n",
       "      <td>6</td>\n",
       "      <td>14</td>\n",
       "      <td>14</td>\n",
       "      <td>17</td>\n",
       "      <td>18</td>\n",
       "    </tr>\n",
       "    <tr>\n",
       "      <th>716</th>\n",
       "      <td>NaN</td>\n",
       "      <td>ZETA</td>\n",
       "      <td>12</td>\n",
       "      <td>1</td>\n",
       "      <td>6</td>\n",
       "      <td>7</td>\n",
       "      <td>15</td>\n",
       "      <td>12</td>\n",
       "    </tr>\n",
       "    <tr>\n",
       "      <th>717</th>\n",
       "      <td>NaN</td>\n",
       "      <td>ZETA</td>\n",
       "      <td>19</td>\n",
       "      <td>14</td>\n",
       "      <td>17</td>\n",
       "      <td>16</td>\n",
       "      <td>20</td>\n",
       "      <td>19</td>\n",
       "    </tr>\n",
       "  </tbody>\n",
       "</table>\n",
       "<p>718 rows × 8 columns</p>\n",
       "</div>"
      ],
      "text/plain": [
       "     S.NO SECTION  DV M-II  PP BEEE  FL FIMS\n",
       "0     1.0   ALPHA  12    0  17    9  19   15\n",
       "1     2.0   ALPHA  19   12  16   16  18    3\n",
       "2     3.0   ALPHA  18   14  18   18  18   16\n",
       "3     4.0   ALPHA  15    9  19   17  19   15\n",
       "4     5.0   ALPHA  18   17  19   19  20   18\n",
       "..    ...     ...  ..  ...  ..  ...  ..  ...\n",
       "713   NaN    ZETA  19    8   8   19  17   18\n",
       "714   NaN    ZETA  12    1   7   10  20    8\n",
       "715   NaN    ZETA  17    6  14   14  17   18\n",
       "716   NaN    ZETA  12    1   6    7  15   12\n",
       "717   NaN    ZETA  19   14  17   16  20   19\n",
       "\n",
       "[718 rows x 8 columns]"
      ]
     },
     "execution_count": 9,
     "metadata": {},
     "output_type": "execute_result"
    }
   ],
   "source": [
    "columns_to_fix = ['DV','M-II','PP','BEEE','FL','FIMS']\n",
    "df[columns_to_fix] = df[columns_to_fix].replace({\"AB\":\"0\",\"MP\":\"0\",\"o\":\"0\",\"A\":\"0\"})\n",
    "df"
   ]
  },
  {
   "cell_type": "code",
   "execution_count": 10,
   "id": "c08d14cc",
   "metadata": {},
   "outputs": [
    {
     "data": {
      "text/html": [
       "<div>\n",
       "<style scoped>\n",
       "    .dataframe tbody tr th:only-of-type {\n",
       "        vertical-align: middle;\n",
       "    }\n",
       "\n",
       "    .dataframe tbody tr th {\n",
       "        vertical-align: top;\n",
       "    }\n",
       "\n",
       "    .dataframe thead th {\n",
       "        text-align: right;\n",
       "    }\n",
       "</style>\n",
       "<table border=\"1\" class=\"dataframe\">\n",
       "  <thead>\n",
       "    <tr style=\"text-align: right;\">\n",
       "      <th></th>\n",
       "      <th>S.NO</th>\n",
       "      <th>SECTION</th>\n",
       "      <th>DV</th>\n",
       "      <th>M-II</th>\n",
       "      <th>PP</th>\n",
       "      <th>BEEE</th>\n",
       "      <th>FL</th>\n",
       "      <th>FIMS</th>\n",
       "    </tr>\n",
       "  </thead>\n",
       "  <tbody>\n",
       "    <tr>\n",
       "      <th>0</th>\n",
       "      <td>1.0</td>\n",
       "      <td>ALPHA</td>\n",
       "      <td>12</td>\n",
       "      <td>0</td>\n",
       "      <td>17</td>\n",
       "      <td>9</td>\n",
       "      <td>19</td>\n",
       "      <td>15</td>\n",
       "    </tr>\n",
       "    <tr>\n",
       "      <th>1</th>\n",
       "      <td>2.0</td>\n",
       "      <td>ALPHA</td>\n",
       "      <td>19</td>\n",
       "      <td>12</td>\n",
       "      <td>16</td>\n",
       "      <td>16</td>\n",
       "      <td>18</td>\n",
       "      <td>3</td>\n",
       "    </tr>\n",
       "    <tr>\n",
       "      <th>2</th>\n",
       "      <td>3.0</td>\n",
       "      <td>ALPHA</td>\n",
       "      <td>18</td>\n",
       "      <td>14</td>\n",
       "      <td>18</td>\n",
       "      <td>18</td>\n",
       "      <td>18</td>\n",
       "      <td>16</td>\n",
       "    </tr>\n",
       "    <tr>\n",
       "      <th>3</th>\n",
       "      <td>4.0</td>\n",
       "      <td>ALPHA</td>\n",
       "      <td>15</td>\n",
       "      <td>9</td>\n",
       "      <td>19</td>\n",
       "      <td>17</td>\n",
       "      <td>19</td>\n",
       "      <td>15</td>\n",
       "    </tr>\n",
       "    <tr>\n",
       "      <th>4</th>\n",
       "      <td>5.0</td>\n",
       "      <td>ALPHA</td>\n",
       "      <td>18</td>\n",
       "      <td>17</td>\n",
       "      <td>19</td>\n",
       "      <td>19</td>\n",
       "      <td>20</td>\n",
       "      <td>18</td>\n",
       "    </tr>\n",
       "    <tr>\n",
       "      <th>...</th>\n",
       "      <td>...</td>\n",
       "      <td>...</td>\n",
       "      <td>...</td>\n",
       "      <td>...</td>\n",
       "      <td>...</td>\n",
       "      <td>...</td>\n",
       "      <td>...</td>\n",
       "      <td>...</td>\n",
       "    </tr>\n",
       "    <tr>\n",
       "      <th>713</th>\n",
       "      <td>NaN</td>\n",
       "      <td>ZETA</td>\n",
       "      <td>19</td>\n",
       "      <td>8</td>\n",
       "      <td>8</td>\n",
       "      <td>19</td>\n",
       "      <td>17</td>\n",
       "      <td>18</td>\n",
       "    </tr>\n",
       "    <tr>\n",
       "      <th>714</th>\n",
       "      <td>NaN</td>\n",
       "      <td>ZETA</td>\n",
       "      <td>12</td>\n",
       "      <td>1</td>\n",
       "      <td>7</td>\n",
       "      <td>10</td>\n",
       "      <td>20</td>\n",
       "      <td>8</td>\n",
       "    </tr>\n",
       "    <tr>\n",
       "      <th>715</th>\n",
       "      <td>NaN</td>\n",
       "      <td>ZETA</td>\n",
       "      <td>17</td>\n",
       "      <td>6</td>\n",
       "      <td>14</td>\n",
       "      <td>14</td>\n",
       "      <td>17</td>\n",
       "      <td>18</td>\n",
       "    </tr>\n",
       "    <tr>\n",
       "      <th>716</th>\n",
       "      <td>NaN</td>\n",
       "      <td>ZETA</td>\n",
       "      <td>12</td>\n",
       "      <td>1</td>\n",
       "      <td>6</td>\n",
       "      <td>7</td>\n",
       "      <td>15</td>\n",
       "      <td>12</td>\n",
       "    </tr>\n",
       "    <tr>\n",
       "      <th>717</th>\n",
       "      <td>NaN</td>\n",
       "      <td>ZETA</td>\n",
       "      <td>19</td>\n",
       "      <td>14</td>\n",
       "      <td>17</td>\n",
       "      <td>16</td>\n",
       "      <td>20</td>\n",
       "      <td>19</td>\n",
       "    </tr>\n",
       "  </tbody>\n",
       "</table>\n",
       "<p>718 rows × 8 columns</p>\n",
       "</div>"
      ],
      "text/plain": [
       "     S.NO SECTION  DV M-II  PP BEEE  FL FIMS\n",
       "0     1.0   ALPHA  12    0  17    9  19   15\n",
       "1     2.0   ALPHA  19   12  16   16  18    3\n",
       "2     3.0   ALPHA  18   14  18   18  18   16\n",
       "3     4.0   ALPHA  15    9  19   17  19   15\n",
       "4     5.0   ALPHA  18   17  19   19  20   18\n",
       "..    ...     ...  ..  ...  ..  ...  ..  ...\n",
       "713   NaN    ZETA  19    8   8   19  17   18\n",
       "714   NaN    ZETA  12    1   7   10  20    8\n",
       "715   NaN    ZETA  17    6  14   14  17   18\n",
       "716   NaN    ZETA  12    1   6    7  15   12\n",
       "717   NaN    ZETA  19   14  17   16  20   19\n",
       "\n",
       "[718 rows x 8 columns]"
      ]
     },
     "execution_count": 10,
     "metadata": {},
     "output_type": "execute_result"
    }
   ],
   "source": [
    "df['SECTION']= df['SECTION'].fillna(\"ZETA\")\n",
    "df"
   ]
  },
  {
   "cell_type": "code",
   "execution_count": 11,
   "id": "fec18ad0",
   "metadata": {},
   "outputs": [
    {
     "data": {
      "text/html": [
       "<div>\n",
       "<style scoped>\n",
       "    .dataframe tbody tr th:only-of-type {\n",
       "        vertical-align: middle;\n",
       "    }\n",
       "\n",
       "    .dataframe tbody tr th {\n",
       "        vertical-align: top;\n",
       "    }\n",
       "\n",
       "    .dataframe thead th {\n",
       "        text-align: right;\n",
       "    }\n",
       "</style>\n",
       "<table border=\"1\" class=\"dataframe\">\n",
       "  <thead>\n",
       "    <tr style=\"text-align: right;\">\n",
       "      <th></th>\n",
       "      <th>S.NO</th>\n",
       "      <th>SECTION</th>\n",
       "      <th>DV</th>\n",
       "      <th>M-II</th>\n",
       "      <th>PP</th>\n",
       "      <th>BEEE</th>\n",
       "      <th>FL</th>\n",
       "      <th>FIMS</th>\n",
       "    </tr>\n",
       "  </thead>\n",
       "  <tbody>\n",
       "    <tr>\n",
       "      <th>0</th>\n",
       "      <td>1.0</td>\n",
       "      <td>ALPHA</td>\n",
       "      <td>12</td>\n",
       "      <td>0</td>\n",
       "      <td>17</td>\n",
       "      <td>9</td>\n",
       "      <td>19</td>\n",
       "      <td>15</td>\n",
       "    </tr>\n",
       "    <tr>\n",
       "      <th>1</th>\n",
       "      <td>2.0</td>\n",
       "      <td>ALPHA</td>\n",
       "      <td>19</td>\n",
       "      <td>12</td>\n",
       "      <td>16</td>\n",
       "      <td>16</td>\n",
       "      <td>18</td>\n",
       "      <td>3</td>\n",
       "    </tr>\n",
       "    <tr>\n",
       "      <th>2</th>\n",
       "      <td>3.0</td>\n",
       "      <td>ALPHA</td>\n",
       "      <td>18</td>\n",
       "      <td>14</td>\n",
       "      <td>18</td>\n",
       "      <td>18</td>\n",
       "      <td>18</td>\n",
       "      <td>16</td>\n",
       "    </tr>\n",
       "    <tr>\n",
       "      <th>3</th>\n",
       "      <td>4.0</td>\n",
       "      <td>ALPHA</td>\n",
       "      <td>15</td>\n",
       "      <td>9</td>\n",
       "      <td>19</td>\n",
       "      <td>17</td>\n",
       "      <td>19</td>\n",
       "      <td>15</td>\n",
       "    </tr>\n",
       "    <tr>\n",
       "      <th>4</th>\n",
       "      <td>5.0</td>\n",
       "      <td>ALPHA</td>\n",
       "      <td>18</td>\n",
       "      <td>17</td>\n",
       "      <td>19</td>\n",
       "      <td>19</td>\n",
       "      <td>20</td>\n",
       "      <td>18</td>\n",
       "    </tr>\n",
       "    <tr>\n",
       "      <th>...</th>\n",
       "      <td>...</td>\n",
       "      <td>...</td>\n",
       "      <td>...</td>\n",
       "      <td>...</td>\n",
       "      <td>...</td>\n",
       "      <td>...</td>\n",
       "      <td>...</td>\n",
       "      <td>...</td>\n",
       "    </tr>\n",
       "    <tr>\n",
       "      <th>713</th>\n",
       "      <td>NaN</td>\n",
       "      <td>ZETA</td>\n",
       "      <td>19</td>\n",
       "      <td>8</td>\n",
       "      <td>8</td>\n",
       "      <td>19</td>\n",
       "      <td>17</td>\n",
       "      <td>18</td>\n",
       "    </tr>\n",
       "    <tr>\n",
       "      <th>714</th>\n",
       "      <td>NaN</td>\n",
       "      <td>ZETA</td>\n",
       "      <td>12</td>\n",
       "      <td>1</td>\n",
       "      <td>7</td>\n",
       "      <td>10</td>\n",
       "      <td>20</td>\n",
       "      <td>8</td>\n",
       "    </tr>\n",
       "    <tr>\n",
       "      <th>715</th>\n",
       "      <td>NaN</td>\n",
       "      <td>ZETA</td>\n",
       "      <td>17</td>\n",
       "      <td>6</td>\n",
       "      <td>14</td>\n",
       "      <td>14</td>\n",
       "      <td>17</td>\n",
       "      <td>18</td>\n",
       "    </tr>\n",
       "    <tr>\n",
       "      <th>716</th>\n",
       "      <td>NaN</td>\n",
       "      <td>ZETA</td>\n",
       "      <td>12</td>\n",
       "      <td>1</td>\n",
       "      <td>6</td>\n",
       "      <td>7</td>\n",
       "      <td>15</td>\n",
       "      <td>12</td>\n",
       "    </tr>\n",
       "    <tr>\n",
       "      <th>717</th>\n",
       "      <td>NaN</td>\n",
       "      <td>ZETA</td>\n",
       "      <td>19</td>\n",
       "      <td>14</td>\n",
       "      <td>17</td>\n",
       "      <td>16</td>\n",
       "      <td>20</td>\n",
       "      <td>19</td>\n",
       "    </tr>\n",
       "  </tbody>\n",
       "</table>\n",
       "<p>718 rows × 8 columns</p>\n",
       "</div>"
      ],
      "text/plain": [
       "     S.NO SECTION  DV M-II  PP BEEE  FL FIMS\n",
       "0     1.0   ALPHA  12    0  17    9  19   15\n",
       "1     2.0   ALPHA  19   12  16   16  18    3\n",
       "2     3.0   ALPHA  18   14  18   18  18   16\n",
       "3     4.0   ALPHA  15    9  19   17  19   15\n",
       "4     5.0   ALPHA  18   17  19   19  20   18\n",
       "..    ...     ...  ..  ...  ..  ...  ..  ...\n",
       "713   NaN    ZETA  19    8   8   19  17   18\n",
       "714   NaN    ZETA  12    1   7   10  20    8\n",
       "715   NaN    ZETA  17    6  14   14  17   18\n",
       "716   NaN    ZETA  12    1   6    7  15   12\n",
       "717   NaN    ZETA  19   14  17   16  20   19\n",
       "\n",
       "[718 rows x 8 columns]"
      ]
     },
     "execution_count": 11,
     "metadata": {},
     "output_type": "execute_result"
    }
   ],
   "source": [
    "roman_replacements = {\n",
    "    \"I\":\"1\",\n",
    "    \"II\":\"2\",\n",
    "    \"III\":\"3\",\n",
    "    \"IV\":\"4\",\n",
    "    \"V\":\"5\"\n",
    "}\n",
    "df.replace(roman_replacements, inplace=True)\n",
    "df"
   ]
  },
  {
   "cell_type": "code",
   "execution_count": 12,
   "id": "a9c87641",
   "metadata": {},
   "outputs": [
    {
     "data": {
      "text/plain": [
       "0      19\n",
       "1      18\n",
       "2      18\n",
       "3      19\n",
       "4      20\n",
       "       ..\n",
       "713    17\n",
       "714    20\n",
       "715    17\n",
       "716    15\n",
       "717    20\n",
       "Name: FL, Length: 718, dtype: object"
      ]
     },
     "execution_count": 12,
     "metadata": {},
     "output_type": "execute_result"
    }
   ],
   "source": [
    "df.FL.fillna(0)"
   ]
  },
  {
   "cell_type": "code",
   "execution_count": 13,
   "id": "73832b4b",
   "metadata": {},
   "outputs": [
    {
     "name": "stdout",
     "output_type": "stream",
     "text": [
      "Updated file saved as: Updated_MIDMARKS.xlsx\n"
     ]
    },
    {
     "name": "stderr",
     "output_type": "stream",
     "text": [
      "C:\\Users\\maddu\\AppData\\Local\\Temp\\ipykernel_20576\\4029737183.py:5: FutureWarning: A value is trying to be set on a copy of a DataFrame or Series through chained assignment using an inplace method.\n",
      "The behavior will change in pandas 3.0. This inplace method will never work because the intermediate object on which we are setting values always behaves as a copy.\n",
      "\n",
      "For example, when doing 'df[col].method(value, inplace=True)', try using 'df.method({col: value}, inplace=True)' or df[col] = df[col].method(value) instead, to perform the operation inplace on the original object.\n",
      "\n",
      "\n",
      "  sheet1_df[\"SECTION\"].fillna(\"SIGMA\", inplace=True)\n"
     ]
    }
   ],
   "source": [
    "import pandas as pd\n",
    "file_path = \"MIDMARKS.xlsx\"\n",
    "xls = pd.ExcelFile(file_path)\n",
    "sheet1_df = pd.read_excel(xls, sheet_name=\"SEM2 MID 1 - ALPHA\")\n",
    "sheet1_df[\"SECTION\"].fillna(\"SIGMA\", inplace=True)\n",
    "columns_to_fix = [\"DV\", \"M-II\", \"PP\", \"BEEE\", \"FL\", \"FIMS\"]\n",
    "sheet1_df[columns_to_fix] = sheet1_df[columns_to_fix].replace({\"AB\": \"o\", \"MP\": \"o\"})\n",
    "roman_replacements = {\n",
    "    \"I\": \"1\",\n",
    "    \"II\": \"2\",\n",
    "    \"III\": \"3\",\n",
    "    \"IV\": \"4\",\n",
    "    \"V\": \"5\"\n",
    "}\n",
    "sheet1_df.replace(roman_replacements, inplace=True)\n",
    "updated_file_path = \"Updated_MIDMARKS.xlsx\"\n",
    "sheet1_df.to_excel(updated_file_path, index=False)\n",
    "print(f\"Updated file saved as: {updated_file_path}\")"
   ]
  },
  {
   "cell_type": "code",
   "execution_count": 14,
   "id": "a431c86c",
   "metadata": {},
   "outputs": [
    {
     "data": {
      "text/html": [
       "<div>\n",
       "<style scoped>\n",
       "    .dataframe tbody tr th:only-of-type {\n",
       "        vertical-align: middle;\n",
       "    }\n",
       "\n",
       "    .dataframe tbody tr th {\n",
       "        vertical-align: top;\n",
       "    }\n",
       "\n",
       "    .dataframe thead th {\n",
       "        text-align: right;\n",
       "    }\n",
       "</style>\n",
       "<table border=\"1\" class=\"dataframe\">\n",
       "  <thead>\n",
       "    <tr style=\"text-align: right;\">\n",
       "      <th></th>\n",
       "      <th>S.NO</th>\n",
       "      <th>SECTION</th>\n",
       "      <th>DV</th>\n",
       "      <th>M-II</th>\n",
       "      <th>PP</th>\n",
       "      <th>BEEE</th>\n",
       "      <th>FL</th>\n",
       "      <th>FIMS</th>\n",
       "    </tr>\n",
       "  </thead>\n",
       "  <tbody>\n",
       "    <tr>\n",
       "      <th>0</th>\n",
       "      <td>1.0</td>\n",
       "      <td>ALPHA</td>\n",
       "      <td>12</td>\n",
       "      <td>0</td>\n",
       "      <td>17</td>\n",
       "      <td>9</td>\n",
       "      <td>19</td>\n",
       "      <td>15</td>\n",
       "    </tr>\n",
       "    <tr>\n",
       "      <th>1</th>\n",
       "      <td>2.0</td>\n",
       "      <td>ALPHA</td>\n",
       "      <td>19</td>\n",
       "      <td>12</td>\n",
       "      <td>16</td>\n",
       "      <td>16</td>\n",
       "      <td>18</td>\n",
       "      <td>3</td>\n",
       "    </tr>\n",
       "    <tr>\n",
       "      <th>2</th>\n",
       "      <td>3.0</td>\n",
       "      <td>ALPHA</td>\n",
       "      <td>18</td>\n",
       "      <td>14</td>\n",
       "      <td>18</td>\n",
       "      <td>18</td>\n",
       "      <td>18</td>\n",
       "      <td>16</td>\n",
       "    </tr>\n",
       "    <tr>\n",
       "      <th>3</th>\n",
       "      <td>4.0</td>\n",
       "      <td>ALPHA</td>\n",
       "      <td>15</td>\n",
       "      <td>9</td>\n",
       "      <td>19</td>\n",
       "      <td>17</td>\n",
       "      <td>19</td>\n",
       "      <td>15</td>\n",
       "    </tr>\n",
       "    <tr>\n",
       "      <th>4</th>\n",
       "      <td>5.0</td>\n",
       "      <td>ALPHA</td>\n",
       "      <td>18</td>\n",
       "      <td>17</td>\n",
       "      <td>19</td>\n",
       "      <td>19</td>\n",
       "      <td>20</td>\n",
       "      <td>18</td>\n",
       "    </tr>\n",
       "    <tr>\n",
       "      <th>...</th>\n",
       "      <td>...</td>\n",
       "      <td>...</td>\n",
       "      <td>...</td>\n",
       "      <td>...</td>\n",
       "      <td>...</td>\n",
       "      <td>...</td>\n",
       "      <td>...</td>\n",
       "      <td>...</td>\n",
       "    </tr>\n",
       "    <tr>\n",
       "      <th>596</th>\n",
       "      <td>597.0</td>\n",
       "      <td>SIGMA</td>\n",
       "      <td>20</td>\n",
       "      <td>20</td>\n",
       "      <td>20</td>\n",
       "      <td>20</td>\n",
       "      <td>20</td>\n",
       "      <td>20</td>\n",
       "    </tr>\n",
       "    <tr>\n",
       "      <th>597</th>\n",
       "      <td>598.0</td>\n",
       "      <td>SIGMA</td>\n",
       "      <td>20</td>\n",
       "      <td>20</td>\n",
       "      <td>20</td>\n",
       "      <td>19</td>\n",
       "      <td>19</td>\n",
       "      <td>18</td>\n",
       "    </tr>\n",
       "    <tr>\n",
       "      <th>598</th>\n",
       "      <td>599.0</td>\n",
       "      <td>SIGMA</td>\n",
       "      <td>20</td>\n",
       "      <td>20</td>\n",
       "      <td>17</td>\n",
       "      <td>17</td>\n",
       "      <td>19</td>\n",
       "      <td>18</td>\n",
       "    </tr>\n",
       "    <tr>\n",
       "      <th>599</th>\n",
       "      <td>600.0</td>\n",
       "      <td>SIGMA</td>\n",
       "      <td>14</td>\n",
       "      <td>12</td>\n",
       "      <td>11</td>\n",
       "      <td>9</td>\n",
       "      <td>18</td>\n",
       "      <td>17</td>\n",
       "    </tr>\n",
       "    <tr>\n",
       "      <th>600</th>\n",
       "      <td>601.0</td>\n",
       "      <td>SIGMA</td>\n",
       "      <td>20</td>\n",
       "      <td>19</td>\n",
       "      <td>20</td>\n",
       "      <td>18</td>\n",
       "      <td>18</td>\n",
       "      <td>19</td>\n",
       "    </tr>\n",
       "  </tbody>\n",
       "</table>\n",
       "<p>599 rows × 8 columns</p>\n",
       "</div>"
      ],
      "text/plain": [
       "      S.NO SECTION  DV M-II  PP BEEE  FL FIMS\n",
       "0      1.0   ALPHA  12    0  17    9  19   15\n",
       "1      2.0   ALPHA  19   12  16   16  18    3\n",
       "2      3.0   ALPHA  18   14  18   18  18   16\n",
       "3      4.0   ALPHA  15    9  19   17  19   15\n",
       "4      5.0   ALPHA  18   17  19   19  20   18\n",
       "..     ...     ...  ..  ...  ..  ...  ..  ...\n",
       "596  597.0   SIGMA  20   20  20   20  20   20\n",
       "597  598.0   SIGMA  20   20  20   19  19   18\n",
       "598  599.0   SIGMA  20   20  17   17  19   18\n",
       "599  600.0   SIGMA  14   12  11    9  18   17\n",
       "600  601.0   SIGMA  20   19  20   18  18   19\n",
       "\n",
       "[599 rows x 8 columns]"
      ]
     },
     "execution_count": 14,
     "metadata": {},
     "output_type": "execute_result"
    }
   ],
   "source": [
    "df = df.dropna()\n",
    "df"
   ]
  },
  {
   "cell_type": "code",
   "execution_count": 15,
   "id": "63ca16a2",
   "metadata": {},
   "outputs": [
    {
     "data": {
      "text/html": [
       "<div>\n",
       "<style scoped>\n",
       "    .dataframe tbody tr th:only-of-type {\n",
       "        vertical-align: middle;\n",
       "    }\n",
       "\n",
       "    .dataframe tbody tr th {\n",
       "        vertical-align: top;\n",
       "    }\n",
       "\n",
       "    .dataframe thead th {\n",
       "        text-align: right;\n",
       "    }\n",
       "</style>\n",
       "<table border=\"1\" class=\"dataframe\">\n",
       "  <thead>\n",
       "    <tr style=\"text-align: right;\">\n",
       "      <th></th>\n",
       "      <th>S.NO</th>\n",
       "      <th>SECTION</th>\n",
       "      <th>DV</th>\n",
       "      <th>M-II</th>\n",
       "      <th>PP</th>\n",
       "      <th>BEEE</th>\n",
       "      <th>FL</th>\n",
       "      <th>FIMS</th>\n",
       "    </tr>\n",
       "  </thead>\n",
       "  <tbody>\n",
       "    <tr>\n",
       "      <th>0</th>\n",
       "      <td>1.0</td>\n",
       "      <td>ALPHA</td>\n",
       "      <td>12</td>\n",
       "      <td>0</td>\n",
       "      <td>17</td>\n",
       "      <td>9</td>\n",
       "      <td>19</td>\n",
       "      <td>15</td>\n",
       "    </tr>\n",
       "    <tr>\n",
       "      <th>1</th>\n",
       "      <td>2.0</td>\n",
       "      <td>ALPHA</td>\n",
       "      <td>19</td>\n",
       "      <td>12</td>\n",
       "      <td>16</td>\n",
       "      <td>16</td>\n",
       "      <td>18</td>\n",
       "      <td>3</td>\n",
       "    </tr>\n",
       "    <tr>\n",
       "      <th>2</th>\n",
       "      <td>3.0</td>\n",
       "      <td>ALPHA</td>\n",
       "      <td>18</td>\n",
       "      <td>14</td>\n",
       "      <td>18</td>\n",
       "      <td>18</td>\n",
       "      <td>18</td>\n",
       "      <td>16</td>\n",
       "    </tr>\n",
       "    <tr>\n",
       "      <th>3</th>\n",
       "      <td>4.0</td>\n",
       "      <td>ALPHA</td>\n",
       "      <td>15</td>\n",
       "      <td>9</td>\n",
       "      <td>19</td>\n",
       "      <td>17</td>\n",
       "      <td>19</td>\n",
       "      <td>15</td>\n",
       "    </tr>\n",
       "    <tr>\n",
       "      <th>4</th>\n",
       "      <td>5.0</td>\n",
       "      <td>ALPHA</td>\n",
       "      <td>18</td>\n",
       "      <td>17</td>\n",
       "      <td>19</td>\n",
       "      <td>19</td>\n",
       "      <td>20</td>\n",
       "      <td>18</td>\n",
       "    </tr>\n",
       "    <tr>\n",
       "      <th>...</th>\n",
       "      <td>...</td>\n",
       "      <td>...</td>\n",
       "      <td>...</td>\n",
       "      <td>...</td>\n",
       "      <td>...</td>\n",
       "      <td>...</td>\n",
       "      <td>...</td>\n",
       "      <td>...</td>\n",
       "    </tr>\n",
       "    <tr>\n",
       "      <th>596</th>\n",
       "      <td>597.0</td>\n",
       "      <td>SIGMA</td>\n",
       "      <td>20</td>\n",
       "      <td>20</td>\n",
       "      <td>20</td>\n",
       "      <td>20</td>\n",
       "      <td>20</td>\n",
       "      <td>20</td>\n",
       "    </tr>\n",
       "    <tr>\n",
       "      <th>597</th>\n",
       "      <td>598.0</td>\n",
       "      <td>SIGMA</td>\n",
       "      <td>20</td>\n",
       "      <td>20</td>\n",
       "      <td>20</td>\n",
       "      <td>19</td>\n",
       "      <td>19</td>\n",
       "      <td>18</td>\n",
       "    </tr>\n",
       "    <tr>\n",
       "      <th>598</th>\n",
       "      <td>599.0</td>\n",
       "      <td>SIGMA</td>\n",
       "      <td>20</td>\n",
       "      <td>20</td>\n",
       "      <td>17</td>\n",
       "      <td>17</td>\n",
       "      <td>19</td>\n",
       "      <td>18</td>\n",
       "    </tr>\n",
       "    <tr>\n",
       "      <th>599</th>\n",
       "      <td>600.0</td>\n",
       "      <td>SIGMA</td>\n",
       "      <td>14</td>\n",
       "      <td>12</td>\n",
       "      <td>11</td>\n",
       "      <td>9</td>\n",
       "      <td>18</td>\n",
       "      <td>17</td>\n",
       "    </tr>\n",
       "    <tr>\n",
       "      <th>600</th>\n",
       "      <td>601.0</td>\n",
       "      <td>SIGMA</td>\n",
       "      <td>20</td>\n",
       "      <td>19</td>\n",
       "      <td>20</td>\n",
       "      <td>18</td>\n",
       "      <td>18</td>\n",
       "      <td>19</td>\n",
       "    </tr>\n",
       "  </tbody>\n",
       "</table>\n",
       "<p>599 rows × 8 columns</p>\n",
       "</div>"
      ],
      "text/plain": [
       "      S.NO SECTION  DV M-II  PP BEEE  FL FIMS\n",
       "0      1.0   ALPHA  12    0  17    9  19   15\n",
       "1      2.0   ALPHA  19   12  16   16  18    3\n",
       "2      3.0   ALPHA  18   14  18   18  18   16\n",
       "3      4.0   ALPHA  15    9  19   17  19   15\n",
       "4      5.0   ALPHA  18   17  19   19  20   18\n",
       "..     ...     ...  ..  ...  ..  ...  ..  ...\n",
       "596  597.0   SIGMA  20   20  20   20  20   20\n",
       "597  598.0   SIGMA  20   20  20   19  19   18\n",
       "598  599.0   SIGMA  20   20  17   17  19   18\n",
       "599  600.0   SIGMA  14   12  11    9  18   17\n",
       "600  601.0   SIGMA  20   19  20   18  18   19\n",
       "\n",
       "[599 rows x 8 columns]"
      ]
     },
     "execution_count": 15,
     "metadata": {},
     "output_type": "execute_result"
    }
   ],
   "source": [
    "df"
   ]
  },
  {
   "cell_type": "code",
   "execution_count": 16,
   "id": "c1a382df",
   "metadata": {},
   "outputs": [
    {
     "name": "stdout",
     "output_type": "stream",
     "text": [
      "<class 'pandas.core.frame.DataFrame'>\n",
      "Index: 599 entries, 0 to 600\n",
      "Data columns (total 8 columns):\n",
      " #   Column   Non-Null Count  Dtype  \n",
      "---  ------   --------------  -----  \n",
      " 0   S.NO     599 non-null    float64\n",
      " 1   SECTION  599 non-null    object \n",
      " 2   DV       599 non-null    object \n",
      " 3   M-II     599 non-null    object \n",
      " 4   PP       599 non-null    object \n",
      " 5   BEEE     599 non-null    object \n",
      " 6   FL       599 non-null    object \n",
      " 7   FIMS     599 non-null    object \n",
      "dtypes: float64(1), object(7)\n",
      "memory usage: 42.1+ KB\n"
     ]
    }
   ],
   "source": [
    "df.info()"
   ]
  },
  {
   "cell_type": "markdown",
   "id": "f4f9efb8",
   "metadata": {},
   "source": [
    "# DV + MATHS marks are added together and new column created as Total"
   ]
  },
  {
   "cell_type": "code",
   "execution_count": 18,
   "id": "901160cf",
   "metadata": {},
   "outputs": [
    {
     "name": "stdout",
     "output_type": "stream",
     "text": [
      "File with 'Total Value' column saved to MIDMARKS_WITH_TOTAL.xlsx\n"
     ]
    }
   ],
   "source": [
    "import pandas as pd\n",
    "\n",
    "file_path = 'MIDMARKS.xlsx' \n",
    "df = pd.read_excel(file_path)\n",
    "\n",
    "columns_to_sum = [\"DV\", \"M-II\", \"PP\", \"BEEE\", \"FL\", \"FIMS\"]\n",
    "\n",
    "\n",
    "df[columns_to_sum] = df[columns_to_sum].apply(pd.to_numeric, errors='coerce')\n",
    "\n",
    "df[\"Total Value\"] = df[columns_to_sum].sum(axis=1)\n",
    "\n",
    "\n",
    "output_file_path = 'MIDMARKS_WITH_TOTAL.xlsx'  \n",
    "df.to_excel(output_file_path, index=False)\n",
    "\n",
    "print(f\"File with 'Total Value' column saved to {output_file_path}\")"
   ]
  },
  {
   "cell_type": "code",
   "execution_count": 19,
   "id": "a507ed31",
   "metadata": {},
   "outputs": [
    {
     "data": {
      "text/html": [
       "<div>\n",
       "<style scoped>\n",
       "    .dataframe tbody tr th:only-of-type {\n",
       "        vertical-align: middle;\n",
       "    }\n",
       "\n",
       "    .dataframe tbody tr th {\n",
       "        vertical-align: top;\n",
       "    }\n",
       "\n",
       "    .dataframe thead th {\n",
       "        text-align: right;\n",
       "    }\n",
       "</style>\n",
       "<table border=\"1\" class=\"dataframe\">\n",
       "  <thead>\n",
       "    <tr style=\"text-align: right;\">\n",
       "      <th></th>\n",
       "      <th>S.NO</th>\n",
       "      <th>SECTION</th>\n",
       "      <th>DV</th>\n",
       "      <th>M-II</th>\n",
       "      <th>PP</th>\n",
       "      <th>BEEE</th>\n",
       "      <th>FL</th>\n",
       "      <th>FIMS</th>\n",
       "      <th>Total Value</th>\n",
       "    </tr>\n",
       "  </thead>\n",
       "  <tbody>\n",
       "    <tr>\n",
       "      <th>0</th>\n",
       "      <td>1.0</td>\n",
       "      <td>ALPHA</td>\n",
       "      <td>12.0</td>\n",
       "      <td>0.0</td>\n",
       "      <td>17.0</td>\n",
       "      <td>9.0</td>\n",
       "      <td>19.0</td>\n",
       "      <td>15.0</td>\n",
       "      <td>72.0</td>\n",
       "    </tr>\n",
       "    <tr>\n",
       "      <th>1</th>\n",
       "      <td>2.0</td>\n",
       "      <td>ALPHA</td>\n",
       "      <td>19.0</td>\n",
       "      <td>12.0</td>\n",
       "      <td>16.0</td>\n",
       "      <td>16.0</td>\n",
       "      <td>18.0</td>\n",
       "      <td>3.0</td>\n",
       "      <td>84.0</td>\n",
       "    </tr>\n",
       "    <tr>\n",
       "      <th>2</th>\n",
       "      <td>3.0</td>\n",
       "      <td>ALPHA</td>\n",
       "      <td>18.0</td>\n",
       "      <td>14.0</td>\n",
       "      <td>18.0</td>\n",
       "      <td>18.0</td>\n",
       "      <td>18.0</td>\n",
       "      <td>16.0</td>\n",
       "      <td>102.0</td>\n",
       "    </tr>\n",
       "    <tr>\n",
       "      <th>3</th>\n",
       "      <td>4.0</td>\n",
       "      <td>ALPHA</td>\n",
       "      <td>15.0</td>\n",
       "      <td>9.0</td>\n",
       "      <td>19.0</td>\n",
       "      <td>17.0</td>\n",
       "      <td>19.0</td>\n",
       "      <td>15.0</td>\n",
       "      <td>94.0</td>\n",
       "    </tr>\n",
       "    <tr>\n",
       "      <th>4</th>\n",
       "      <td>5.0</td>\n",
       "      <td>ALPHA</td>\n",
       "      <td>18.0</td>\n",
       "      <td>17.0</td>\n",
       "      <td>19.0</td>\n",
       "      <td>19.0</td>\n",
       "      <td>20.0</td>\n",
       "      <td>18.0</td>\n",
       "      <td>111.0</td>\n",
       "    </tr>\n",
       "    <tr>\n",
       "      <th>...</th>\n",
       "      <td>...</td>\n",
       "      <td>...</td>\n",
       "      <td>...</td>\n",
       "      <td>...</td>\n",
       "      <td>...</td>\n",
       "      <td>...</td>\n",
       "      <td>...</td>\n",
       "      <td>...</td>\n",
       "      <td>...</td>\n",
       "    </tr>\n",
       "    <tr>\n",
       "      <th>713</th>\n",
       "      <td>NaN</td>\n",
       "      <td>ZETA</td>\n",
       "      <td>19.0</td>\n",
       "      <td>8.0</td>\n",
       "      <td>8.0</td>\n",
       "      <td>19.0</td>\n",
       "      <td>17.0</td>\n",
       "      <td>18.0</td>\n",
       "      <td>89.0</td>\n",
       "    </tr>\n",
       "    <tr>\n",
       "      <th>714</th>\n",
       "      <td>NaN</td>\n",
       "      <td>ZETA</td>\n",
       "      <td>12.0</td>\n",
       "      <td>1.0</td>\n",
       "      <td>7.0</td>\n",
       "      <td>10.0</td>\n",
       "      <td>20.0</td>\n",
       "      <td>8.0</td>\n",
       "      <td>58.0</td>\n",
       "    </tr>\n",
       "    <tr>\n",
       "      <th>715</th>\n",
       "      <td>NaN</td>\n",
       "      <td>ZETA</td>\n",
       "      <td>17.0</td>\n",
       "      <td>6.0</td>\n",
       "      <td>14.0</td>\n",
       "      <td>14.0</td>\n",
       "      <td>17.0</td>\n",
       "      <td>18.0</td>\n",
       "      <td>86.0</td>\n",
       "    </tr>\n",
       "    <tr>\n",
       "      <th>716</th>\n",
       "      <td>NaN</td>\n",
       "      <td>ZETA</td>\n",
       "      <td>12.0</td>\n",
       "      <td>1.0</td>\n",
       "      <td>6.0</td>\n",
       "      <td>7.0</td>\n",
       "      <td>15.0</td>\n",
       "      <td>12.0</td>\n",
       "      <td>53.0</td>\n",
       "    </tr>\n",
       "    <tr>\n",
       "      <th>717</th>\n",
       "      <td>NaN</td>\n",
       "      <td>ZETA</td>\n",
       "      <td>19.0</td>\n",
       "      <td>14.0</td>\n",
       "      <td>17.0</td>\n",
       "      <td>16.0</td>\n",
       "      <td>20.0</td>\n",
       "      <td>19.0</td>\n",
       "      <td>105.0</td>\n",
       "    </tr>\n",
       "  </tbody>\n",
       "</table>\n",
       "<p>718 rows × 9 columns</p>\n",
       "</div>"
      ],
      "text/plain": [
       "     S.NO SECTION    DV  M-II    PP  BEEE    FL  FIMS  Total Value\n",
       "0     1.0   ALPHA  12.0   0.0  17.0   9.0  19.0  15.0         72.0\n",
       "1     2.0   ALPHA  19.0  12.0  16.0  16.0  18.0   3.0         84.0\n",
       "2     3.0   ALPHA  18.0  14.0  18.0  18.0  18.0  16.0        102.0\n",
       "3     4.0   ALPHA  15.0   9.0  19.0  17.0  19.0  15.0         94.0\n",
       "4     5.0   ALPHA  18.0  17.0  19.0  19.0  20.0  18.0        111.0\n",
       "..    ...     ...   ...   ...   ...   ...   ...   ...          ...\n",
       "713   NaN    ZETA  19.0   8.0   8.0  19.0  17.0  18.0         89.0\n",
       "714   NaN    ZETA  12.0   1.0   7.0  10.0  20.0   8.0         58.0\n",
       "715   NaN    ZETA  17.0   6.0  14.0  14.0  17.0  18.0         86.0\n",
       "716   NaN    ZETA  12.0   1.0   6.0   7.0  15.0  12.0         53.0\n",
       "717   NaN    ZETA  19.0  14.0  17.0  16.0  20.0  19.0        105.0\n",
       "\n",
       "[718 rows x 9 columns]"
      ]
     },
     "execution_count": 19,
     "metadata": {},
     "output_type": "execute_result"
    }
   ],
   "source": [
    "df"
   ]
  },
  {
   "cell_type": "code",
   "execution_count": 20,
   "id": "11ead0dc",
   "metadata": {},
   "outputs": [
    {
     "data": {
      "text/html": [
       "<div>\n",
       "<style scoped>\n",
       "    .dataframe tbody tr th:only-of-type {\n",
       "        vertical-align: middle;\n",
       "    }\n",
       "\n",
       "    .dataframe tbody tr th {\n",
       "        vertical-align: top;\n",
       "    }\n",
       "\n",
       "    .dataframe thead th {\n",
       "        text-align: right;\n",
       "    }\n",
       "</style>\n",
       "<table border=\"1\" class=\"dataframe\">\n",
       "  <thead>\n",
       "    <tr style=\"text-align: right;\">\n",
       "      <th></th>\n",
       "      <th>S.NO</th>\n",
       "      <th>SECTION</th>\n",
       "      <th>DV</th>\n",
       "      <th>M-II</th>\n",
       "      <th>PP</th>\n",
       "      <th>BEEE</th>\n",
       "      <th>FL</th>\n",
       "      <th>FIMS</th>\n",
       "      <th>Total Value</th>\n",
       "    </tr>\n",
       "  </thead>\n",
       "  <tbody>\n",
       "    <tr>\n",
       "      <th>0</th>\n",
       "      <td>1.0</td>\n",
       "      <td>ALPHA</td>\n",
       "      <td>12.0</td>\n",
       "      <td>0.0</td>\n",
       "      <td>17.0</td>\n",
       "      <td>9.0</td>\n",
       "      <td>19.0</td>\n",
       "      <td>15.0</td>\n",
       "      <td>72.0</td>\n",
       "    </tr>\n",
       "    <tr>\n",
       "      <th>1</th>\n",
       "      <td>2.0</td>\n",
       "      <td>ALPHA</td>\n",
       "      <td>19.0</td>\n",
       "      <td>12.0</td>\n",
       "      <td>16.0</td>\n",
       "      <td>16.0</td>\n",
       "      <td>18.0</td>\n",
       "      <td>3.0</td>\n",
       "      <td>84.0</td>\n",
       "    </tr>\n",
       "    <tr>\n",
       "      <th>2</th>\n",
       "      <td>3.0</td>\n",
       "      <td>ALPHA</td>\n",
       "      <td>18.0</td>\n",
       "      <td>14.0</td>\n",
       "      <td>18.0</td>\n",
       "      <td>18.0</td>\n",
       "      <td>18.0</td>\n",
       "      <td>16.0</td>\n",
       "      <td>102.0</td>\n",
       "    </tr>\n",
       "    <tr>\n",
       "      <th>3</th>\n",
       "      <td>4.0</td>\n",
       "      <td>ALPHA</td>\n",
       "      <td>15.0</td>\n",
       "      <td>9.0</td>\n",
       "      <td>19.0</td>\n",
       "      <td>17.0</td>\n",
       "      <td>19.0</td>\n",
       "      <td>15.0</td>\n",
       "      <td>94.0</td>\n",
       "    </tr>\n",
       "    <tr>\n",
       "      <th>4</th>\n",
       "      <td>5.0</td>\n",
       "      <td>ALPHA</td>\n",
       "      <td>18.0</td>\n",
       "      <td>17.0</td>\n",
       "      <td>19.0</td>\n",
       "      <td>19.0</td>\n",
       "      <td>20.0</td>\n",
       "      <td>18.0</td>\n",
       "      <td>111.0</td>\n",
       "    </tr>\n",
       "    <tr>\n",
       "      <th>5</th>\n",
       "      <td>6.0</td>\n",
       "      <td>ALPHA</td>\n",
       "      <td>17.0</td>\n",
       "      <td>16.0</td>\n",
       "      <td>18.0</td>\n",
       "      <td>10.0</td>\n",
       "      <td>15.0</td>\n",
       "      <td>9.0</td>\n",
       "      <td>85.0</td>\n",
       "    </tr>\n",
       "    <tr>\n",
       "      <th>6</th>\n",
       "      <td>7.0</td>\n",
       "      <td>ALPHA</td>\n",
       "      <td>15.0</td>\n",
       "      <td>10.0</td>\n",
       "      <td>20.0</td>\n",
       "      <td>20.0</td>\n",
       "      <td>15.0</td>\n",
       "      <td>14.0</td>\n",
       "      <td>94.0</td>\n",
       "    </tr>\n",
       "    <tr>\n",
       "      <th>7</th>\n",
       "      <td>8.0</td>\n",
       "      <td>ALPHA</td>\n",
       "      <td>17.0</td>\n",
       "      <td>17.0</td>\n",
       "      <td>19.0</td>\n",
       "      <td>20.0</td>\n",
       "      <td>19.0</td>\n",
       "      <td>13.0</td>\n",
       "      <td>105.0</td>\n",
       "    </tr>\n",
       "    <tr>\n",
       "      <th>8</th>\n",
       "      <td>9.0</td>\n",
       "      <td>ALPHA</td>\n",
       "      <td>10.0</td>\n",
       "      <td>18.0</td>\n",
       "      <td>NaN</td>\n",
       "      <td>20.0</td>\n",
       "      <td>19.0</td>\n",
       "      <td>15.0</td>\n",
       "      <td>82.0</td>\n",
       "    </tr>\n",
       "    <tr>\n",
       "      <th>9</th>\n",
       "      <td>10.0</td>\n",
       "      <td>ALPHA</td>\n",
       "      <td>18.0</td>\n",
       "      <td>19.0</td>\n",
       "      <td>20.0</td>\n",
       "      <td>20.0</td>\n",
       "      <td>20.0</td>\n",
       "      <td>15.0</td>\n",
       "      <td>112.0</td>\n",
       "    </tr>\n",
       "  </tbody>\n",
       "</table>\n",
       "</div>"
      ],
      "text/plain": [
       "   S.NO SECTION    DV  M-II    PP  BEEE    FL  FIMS  Total Value\n",
       "0   1.0   ALPHA  12.0   0.0  17.0   9.0  19.0  15.0         72.0\n",
       "1   2.0   ALPHA  19.0  12.0  16.0  16.0  18.0   3.0         84.0\n",
       "2   3.0   ALPHA  18.0  14.0  18.0  18.0  18.0  16.0        102.0\n",
       "3   4.0   ALPHA  15.0   9.0  19.0  17.0  19.0  15.0         94.0\n",
       "4   5.0   ALPHA  18.0  17.0  19.0  19.0  20.0  18.0        111.0\n",
       "5   6.0   ALPHA  17.0  16.0  18.0  10.0  15.0   9.0         85.0\n",
       "6   7.0   ALPHA  15.0  10.0  20.0  20.0  15.0  14.0         94.0\n",
       "7   8.0   ALPHA  17.0  17.0  19.0  20.0  19.0  13.0        105.0\n",
       "8   9.0   ALPHA  10.0  18.0   NaN  20.0  19.0  15.0         82.0\n",
       "9  10.0   ALPHA  18.0  19.0  20.0  20.0  20.0  15.0        112.0"
      ]
     },
     "execution_count": 20,
     "metadata": {},
     "output_type": "execute_result"
    }
   ],
   "source": [
    "df.sort_values(\"Total Value\", ascending=True)\n",
    "df.head(10)"
   ]
  },
  {
   "cell_type": "markdown",
   "id": "a66359aa",
   "metadata": {},
   "source": [
    "# ADDED all subjects marks as new column as Total Value "
   ]
  },
  {
   "cell_type": "code",
   "execution_count": 22,
   "id": "eca2ce65",
   "metadata": {},
   "outputs": [
    {
     "data": {
      "text/html": [
       "<div>\n",
       "<style scoped>\n",
       "    .dataframe tbody tr th:only-of-type {\n",
       "        vertical-align: middle;\n",
       "    }\n",
       "\n",
       "    .dataframe tbody tr th {\n",
       "        vertical-align: top;\n",
       "    }\n",
       "\n",
       "    .dataframe thead th {\n",
       "        text-align: right;\n",
       "    }\n",
       "</style>\n",
       "<table border=\"1\" class=\"dataframe\">\n",
       "  <thead>\n",
       "    <tr style=\"text-align: right;\">\n",
       "      <th></th>\n",
       "      <th>S.NO</th>\n",
       "      <th>SECTION</th>\n",
       "      <th>DV</th>\n",
       "      <th>M-II</th>\n",
       "      <th>PP</th>\n",
       "      <th>BEEE</th>\n",
       "      <th>FL</th>\n",
       "      <th>FIMS</th>\n",
       "      <th>Total Value</th>\n",
       "      <th>Grade</th>\n",
       "    </tr>\n",
       "  </thead>\n",
       "  <tbody>\n",
       "    <tr>\n",
       "      <th>0</th>\n",
       "      <td>1.0</td>\n",
       "      <td>ALPHA</td>\n",
       "      <td>12.0</td>\n",
       "      <td>0.0</td>\n",
       "      <td>17.0</td>\n",
       "      <td>9.0</td>\n",
       "      <td>19.0</td>\n",
       "      <td>15.0</td>\n",
       "      <td>72.0</td>\n",
       "      <td>B+</td>\n",
       "    </tr>\n",
       "    <tr>\n",
       "      <th>1</th>\n",
       "      <td>2.0</td>\n",
       "      <td>ALPHA</td>\n",
       "      <td>19.0</td>\n",
       "      <td>12.0</td>\n",
       "      <td>16.0</td>\n",
       "      <td>16.0</td>\n",
       "      <td>18.0</td>\n",
       "      <td>3.0</td>\n",
       "      <td>84.0</td>\n",
       "      <td>A</td>\n",
       "    </tr>\n",
       "    <tr>\n",
       "      <th>2</th>\n",
       "      <td>3.0</td>\n",
       "      <td>ALPHA</td>\n",
       "      <td>18.0</td>\n",
       "      <td>14.0</td>\n",
       "      <td>18.0</td>\n",
       "      <td>18.0</td>\n",
       "      <td>18.0</td>\n",
       "      <td>16.0</td>\n",
       "      <td>102.0</td>\n",
       "      <td>A+</td>\n",
       "    </tr>\n",
       "    <tr>\n",
       "      <th>3</th>\n",
       "      <td>4.0</td>\n",
       "      <td>ALPHA</td>\n",
       "      <td>15.0</td>\n",
       "      <td>9.0</td>\n",
       "      <td>19.0</td>\n",
       "      <td>17.0</td>\n",
       "      <td>19.0</td>\n",
       "      <td>15.0</td>\n",
       "      <td>94.0</td>\n",
       "      <td>A+</td>\n",
       "    </tr>\n",
       "    <tr>\n",
       "      <th>4</th>\n",
       "      <td>5.0</td>\n",
       "      <td>ALPHA</td>\n",
       "      <td>18.0</td>\n",
       "      <td>17.0</td>\n",
       "      <td>19.0</td>\n",
       "      <td>19.0</td>\n",
       "      <td>20.0</td>\n",
       "      <td>18.0</td>\n",
       "      <td>111.0</td>\n",
       "      <td>A+</td>\n",
       "    </tr>\n",
       "    <tr>\n",
       "      <th>...</th>\n",
       "      <td>...</td>\n",
       "      <td>...</td>\n",
       "      <td>...</td>\n",
       "      <td>...</td>\n",
       "      <td>...</td>\n",
       "      <td>...</td>\n",
       "      <td>...</td>\n",
       "      <td>...</td>\n",
       "      <td>...</td>\n",
       "      <td>...</td>\n",
       "    </tr>\n",
       "    <tr>\n",
       "      <th>713</th>\n",
       "      <td>NaN</td>\n",
       "      <td>ZETA</td>\n",
       "      <td>19.0</td>\n",
       "      <td>8.0</td>\n",
       "      <td>8.0</td>\n",
       "      <td>19.0</td>\n",
       "      <td>17.0</td>\n",
       "      <td>18.0</td>\n",
       "      <td>89.0</td>\n",
       "      <td>A</td>\n",
       "    </tr>\n",
       "    <tr>\n",
       "      <th>714</th>\n",
       "      <td>NaN</td>\n",
       "      <td>ZETA</td>\n",
       "      <td>12.0</td>\n",
       "      <td>1.0</td>\n",
       "      <td>7.0</td>\n",
       "      <td>10.0</td>\n",
       "      <td>20.0</td>\n",
       "      <td>8.0</td>\n",
       "      <td>58.0</td>\n",
       "      <td>C</td>\n",
       "    </tr>\n",
       "    <tr>\n",
       "      <th>715</th>\n",
       "      <td>NaN</td>\n",
       "      <td>ZETA</td>\n",
       "      <td>17.0</td>\n",
       "      <td>6.0</td>\n",
       "      <td>14.0</td>\n",
       "      <td>14.0</td>\n",
       "      <td>17.0</td>\n",
       "      <td>18.0</td>\n",
       "      <td>86.0</td>\n",
       "      <td>A</td>\n",
       "    </tr>\n",
       "    <tr>\n",
       "      <th>716</th>\n",
       "      <td>NaN</td>\n",
       "      <td>ZETA</td>\n",
       "      <td>12.0</td>\n",
       "      <td>1.0</td>\n",
       "      <td>6.0</td>\n",
       "      <td>7.0</td>\n",
       "      <td>15.0</td>\n",
       "      <td>12.0</td>\n",
       "      <td>53.0</td>\n",
       "      <td>C</td>\n",
       "    </tr>\n",
       "    <tr>\n",
       "      <th>717</th>\n",
       "      <td>NaN</td>\n",
       "      <td>ZETA</td>\n",
       "      <td>19.0</td>\n",
       "      <td>14.0</td>\n",
       "      <td>17.0</td>\n",
       "      <td>16.0</td>\n",
       "      <td>20.0</td>\n",
       "      <td>19.0</td>\n",
       "      <td>105.0</td>\n",
       "      <td>A+</td>\n",
       "    </tr>\n",
       "  </tbody>\n",
       "</table>\n",
       "<p>718 rows × 10 columns</p>\n",
       "</div>"
      ],
      "text/plain": [
       "     S.NO SECTION    DV  M-II    PP  BEEE    FL  FIMS  Total Value Grade\n",
       "0     1.0   ALPHA  12.0   0.0  17.0   9.0  19.0  15.0         72.0    B+\n",
       "1     2.0   ALPHA  19.0  12.0  16.0  16.0  18.0   3.0         84.0     A\n",
       "2     3.0   ALPHA  18.0  14.0  18.0  18.0  18.0  16.0        102.0    A+\n",
       "3     4.0   ALPHA  15.0   9.0  19.0  17.0  19.0  15.0         94.0    A+\n",
       "4     5.0   ALPHA  18.0  17.0  19.0  19.0  20.0  18.0        111.0    A+\n",
       "..    ...     ...   ...   ...   ...   ...   ...   ...          ...   ...\n",
       "713   NaN    ZETA  19.0   8.0   8.0  19.0  17.0  18.0         89.0     A\n",
       "714   NaN    ZETA  12.0   1.0   7.0  10.0  20.0   8.0         58.0     C\n",
       "715   NaN    ZETA  17.0   6.0  14.0  14.0  17.0  18.0         86.0     A\n",
       "716   NaN    ZETA  12.0   1.0   6.0   7.0  15.0  12.0         53.0     C\n",
       "717   NaN    ZETA  19.0  14.0  17.0  16.0  20.0  19.0        105.0    A+\n",
       "\n",
       "[718 rows x 10 columns]"
      ]
     },
     "execution_count": 22,
     "metadata": {},
     "output_type": "execute_result"
    }
   ],
   "source": [
    "def assign_grade(total):\n",
    "    if total >= 90:\n",
    "        return 'A+'\n",
    "    elif total >= 80:\n",
    "        return 'A'\n",
    "    elif total >= 70:\n",
    "        return 'B+'\n",
    "    elif total >= 60:\n",
    "        return 'B'\n",
    "    elif total >= 50:\n",
    "        return 'C'\n",
    "    else:\n",
    "        return 'F'\n",
    "\n",
    "\n",
    "df[\"Grade\"] = df[\"Total Value\"].apply(assign_grade)\n",
    "\n",
    "output_file_path = 'MIDMARKS_WITH_GRADES.xlsx' \n",
    "df.to_excel(output_file_path, index=False)\n",
    "\n",
    "df"
   ]
  },
  {
   "cell_type": "markdown",
   "id": "165f9355",
   "metadata": {},
   "source": [
    "# Based on required marks grades are assigned to total marks"
   ]
  },
  {
   "cell_type": "code",
   "execution_count": 24,
   "id": "9efda767",
   "metadata": {},
   "outputs": [
    {
     "data": {
      "text/html": [
       "<div>\n",
       "<style scoped>\n",
       "    .dataframe tbody tr th:only-of-type {\n",
       "        vertical-align: middle;\n",
       "    }\n",
       "\n",
       "    .dataframe tbody tr th {\n",
       "        vertical-align: top;\n",
       "    }\n",
       "\n",
       "    .dataframe thead th {\n",
       "        text-align: right;\n",
       "    }\n",
       "</style>\n",
       "<table border=\"1\" class=\"dataframe\">\n",
       "  <thead>\n",
       "    <tr style=\"text-align: right;\">\n",
       "      <th></th>\n",
       "      <th>S.NO</th>\n",
       "      <th>SECTION</th>\n",
       "      <th>DV</th>\n",
       "      <th>M-II</th>\n",
       "      <th>PP</th>\n",
       "      <th>BEEE</th>\n",
       "      <th>FL</th>\n",
       "      <th>FIMS</th>\n",
       "      <th>Total Value</th>\n",
       "      <th>Grade</th>\n",
       "      <th>Percentage</th>\n",
       "    </tr>\n",
       "  </thead>\n",
       "  <tbody>\n",
       "    <tr>\n",
       "      <th>0</th>\n",
       "      <td>1.0</td>\n",
       "      <td>ALPHA</td>\n",
       "      <td>12.0</td>\n",
       "      <td>0.0</td>\n",
       "      <td>17.0</td>\n",
       "      <td>9.0</td>\n",
       "      <td>19.0</td>\n",
       "      <td>15.0</td>\n",
       "      <td>72.0</td>\n",
       "      <td>B+</td>\n",
       "      <td>12.000000</td>\n",
       "    </tr>\n",
       "    <tr>\n",
       "      <th>1</th>\n",
       "      <td>2.0</td>\n",
       "      <td>ALPHA</td>\n",
       "      <td>19.0</td>\n",
       "      <td>12.0</td>\n",
       "      <td>16.0</td>\n",
       "      <td>16.0</td>\n",
       "      <td>18.0</td>\n",
       "      <td>3.0</td>\n",
       "      <td>84.0</td>\n",
       "      <td>A</td>\n",
       "      <td>14.000000</td>\n",
       "    </tr>\n",
       "    <tr>\n",
       "      <th>2</th>\n",
       "      <td>3.0</td>\n",
       "      <td>ALPHA</td>\n",
       "      <td>18.0</td>\n",
       "      <td>14.0</td>\n",
       "      <td>18.0</td>\n",
       "      <td>18.0</td>\n",
       "      <td>18.0</td>\n",
       "      <td>16.0</td>\n",
       "      <td>102.0</td>\n",
       "      <td>A+</td>\n",
       "      <td>17.000000</td>\n",
       "    </tr>\n",
       "    <tr>\n",
       "      <th>3</th>\n",
       "      <td>4.0</td>\n",
       "      <td>ALPHA</td>\n",
       "      <td>15.0</td>\n",
       "      <td>9.0</td>\n",
       "      <td>19.0</td>\n",
       "      <td>17.0</td>\n",
       "      <td>19.0</td>\n",
       "      <td>15.0</td>\n",
       "      <td>94.0</td>\n",
       "      <td>A+</td>\n",
       "      <td>15.666667</td>\n",
       "    </tr>\n",
       "    <tr>\n",
       "      <th>4</th>\n",
       "      <td>5.0</td>\n",
       "      <td>ALPHA</td>\n",
       "      <td>18.0</td>\n",
       "      <td>17.0</td>\n",
       "      <td>19.0</td>\n",
       "      <td>19.0</td>\n",
       "      <td>20.0</td>\n",
       "      <td>18.0</td>\n",
       "      <td>111.0</td>\n",
       "      <td>A+</td>\n",
       "      <td>18.500000</td>\n",
       "    </tr>\n",
       "    <tr>\n",
       "      <th>...</th>\n",
       "      <td>...</td>\n",
       "      <td>...</td>\n",
       "      <td>...</td>\n",
       "      <td>...</td>\n",
       "      <td>...</td>\n",
       "      <td>...</td>\n",
       "      <td>...</td>\n",
       "      <td>...</td>\n",
       "      <td>...</td>\n",
       "      <td>...</td>\n",
       "      <td>...</td>\n",
       "    </tr>\n",
       "    <tr>\n",
       "      <th>713</th>\n",
       "      <td>NaN</td>\n",
       "      <td>ZETA</td>\n",
       "      <td>19.0</td>\n",
       "      <td>8.0</td>\n",
       "      <td>8.0</td>\n",
       "      <td>19.0</td>\n",
       "      <td>17.0</td>\n",
       "      <td>18.0</td>\n",
       "      <td>89.0</td>\n",
       "      <td>A</td>\n",
       "      <td>14.833333</td>\n",
       "    </tr>\n",
       "    <tr>\n",
       "      <th>714</th>\n",
       "      <td>NaN</td>\n",
       "      <td>ZETA</td>\n",
       "      <td>12.0</td>\n",
       "      <td>1.0</td>\n",
       "      <td>7.0</td>\n",
       "      <td>10.0</td>\n",
       "      <td>20.0</td>\n",
       "      <td>8.0</td>\n",
       "      <td>58.0</td>\n",
       "      <td>C</td>\n",
       "      <td>9.666667</td>\n",
       "    </tr>\n",
       "    <tr>\n",
       "      <th>715</th>\n",
       "      <td>NaN</td>\n",
       "      <td>ZETA</td>\n",
       "      <td>17.0</td>\n",
       "      <td>6.0</td>\n",
       "      <td>14.0</td>\n",
       "      <td>14.0</td>\n",
       "      <td>17.0</td>\n",
       "      <td>18.0</td>\n",
       "      <td>86.0</td>\n",
       "      <td>A</td>\n",
       "      <td>14.333333</td>\n",
       "    </tr>\n",
       "    <tr>\n",
       "      <th>716</th>\n",
       "      <td>NaN</td>\n",
       "      <td>ZETA</td>\n",
       "      <td>12.0</td>\n",
       "      <td>1.0</td>\n",
       "      <td>6.0</td>\n",
       "      <td>7.0</td>\n",
       "      <td>15.0</td>\n",
       "      <td>12.0</td>\n",
       "      <td>53.0</td>\n",
       "      <td>C</td>\n",
       "      <td>8.833333</td>\n",
       "    </tr>\n",
       "    <tr>\n",
       "      <th>717</th>\n",
       "      <td>NaN</td>\n",
       "      <td>ZETA</td>\n",
       "      <td>19.0</td>\n",
       "      <td>14.0</td>\n",
       "      <td>17.0</td>\n",
       "      <td>16.0</td>\n",
       "      <td>20.0</td>\n",
       "      <td>19.0</td>\n",
       "      <td>105.0</td>\n",
       "      <td>A+</td>\n",
       "      <td>17.500000</td>\n",
       "    </tr>\n",
       "  </tbody>\n",
       "</table>\n",
       "<p>718 rows × 11 columns</p>\n",
       "</div>"
      ],
      "text/plain": [
       "     S.NO SECTION    DV  M-II    PP  BEEE    FL  FIMS  Total Value Grade  \\\n",
       "0     1.0   ALPHA  12.0   0.0  17.0   9.0  19.0  15.0         72.0    B+   \n",
       "1     2.0   ALPHA  19.0  12.0  16.0  16.0  18.0   3.0         84.0     A   \n",
       "2     3.0   ALPHA  18.0  14.0  18.0  18.0  18.0  16.0        102.0    A+   \n",
       "3     4.0   ALPHA  15.0   9.0  19.0  17.0  19.0  15.0         94.0    A+   \n",
       "4     5.0   ALPHA  18.0  17.0  19.0  19.0  20.0  18.0        111.0    A+   \n",
       "..    ...     ...   ...   ...   ...   ...   ...   ...          ...   ...   \n",
       "713   NaN    ZETA  19.0   8.0   8.0  19.0  17.0  18.0         89.0     A   \n",
       "714   NaN    ZETA  12.0   1.0   7.0  10.0  20.0   8.0         58.0     C   \n",
       "715   NaN    ZETA  17.0   6.0  14.0  14.0  17.0  18.0         86.0     A   \n",
       "716   NaN    ZETA  12.0   1.0   6.0   7.0  15.0  12.0         53.0     C   \n",
       "717   NaN    ZETA  19.0  14.0  17.0  16.0  20.0  19.0        105.0    A+   \n",
       "\n",
       "     Percentage  \n",
       "0     12.000000  \n",
       "1     14.000000  \n",
       "2     17.000000  \n",
       "3     15.666667  \n",
       "4     18.500000  \n",
       "..          ...  \n",
       "713   14.833333  \n",
       "714    9.666667  \n",
       "715   14.333333  \n",
       "716    8.833333  \n",
       "717   17.500000  \n",
       "\n",
       "[718 rows x 11 columns]"
      ]
     },
     "execution_count": 24,
     "metadata": {},
     "output_type": "execute_result"
    }
   ],
   "source": [
    "max_total_marks = 600  \n",
    "\n",
    "\n",
    "df[\"Percentage\"] = (df[\"Total Value\"] / max_total_marks) * 100\n",
    "\n",
    "\n",
    "output_file_path = 'MIDMARKS_WITH_PERCENTAGE.xlsx'  \n",
    "df.to_excel(output_file_path, index=False)\n",
    "\n",
    "df"
   ]
  },
  {
   "cell_type": "code",
   "execution_count": 25,
   "id": "8d490fd8",
   "metadata": {},
   "outputs": [
    {
     "data": {
      "text/html": [
       "<div>\n",
       "<style scoped>\n",
       "    .dataframe tbody tr th:only-of-type {\n",
       "        vertical-align: middle;\n",
       "    }\n",
       "\n",
       "    .dataframe tbody tr th {\n",
       "        vertical-align: top;\n",
       "    }\n",
       "\n",
       "    .dataframe thead th {\n",
       "        text-align: right;\n",
       "    }\n",
       "</style>\n",
       "<table border=\"1\" class=\"dataframe\">\n",
       "  <thead>\n",
       "    <tr style=\"text-align: right;\">\n",
       "      <th></th>\n",
       "      <th>S.NO</th>\n",
       "      <th>SECTION</th>\n",
       "      <th>DV</th>\n",
       "      <th>M-II</th>\n",
       "      <th>PP</th>\n",
       "      <th>BEEE</th>\n",
       "      <th>FL</th>\n",
       "      <th>FIMS</th>\n",
       "      <th>Total Value</th>\n",
       "      <th>Grade</th>\n",
       "      <th>Percentage</th>\n",
       "    </tr>\n",
       "  </thead>\n",
       "  <tbody>\n",
       "    <tr>\n",
       "      <th>0</th>\n",
       "      <td>1.0</td>\n",
       "      <td>ALPHA</td>\n",
       "      <td>12.0</td>\n",
       "      <td>0.0</td>\n",
       "      <td>17.0</td>\n",
       "      <td>9.0</td>\n",
       "      <td>19.0</td>\n",
       "      <td>15.0</td>\n",
       "      <td>72.0</td>\n",
       "      <td>B+</td>\n",
       "      <td>12.0</td>\n",
       "    </tr>\n",
       "    <tr>\n",
       "      <th>1</th>\n",
       "      <td>2.0</td>\n",
       "      <td>ALPHA</td>\n",
       "      <td>19.0</td>\n",
       "      <td>12.0</td>\n",
       "      <td>16.0</td>\n",
       "      <td>16.0</td>\n",
       "      <td>18.0</td>\n",
       "      <td>3.0</td>\n",
       "      <td>84.0</td>\n",
       "      <td>A</td>\n",
       "      <td>14.0</td>\n",
       "    </tr>\n",
       "    <tr>\n",
       "      <th>2</th>\n",
       "      <td>3.0</td>\n",
       "      <td>ALPHA</td>\n",
       "      <td>18.0</td>\n",
       "      <td>14.0</td>\n",
       "      <td>18.0</td>\n",
       "      <td>18.0</td>\n",
       "      <td>18.0</td>\n",
       "      <td>16.0</td>\n",
       "      <td>102.0</td>\n",
       "      <td>A+</td>\n",
       "      <td>17.0</td>\n",
       "    </tr>\n",
       "    <tr>\n",
       "      <th>3</th>\n",
       "      <td>4.0</td>\n",
       "      <td>ALPHA</td>\n",
       "      <td>15.0</td>\n",
       "      <td>9.0</td>\n",
       "      <td>19.0</td>\n",
       "      <td>17.0</td>\n",
       "      <td>19.0</td>\n",
       "      <td>15.0</td>\n",
       "      <td>94.0</td>\n",
       "      <td>A+</td>\n",
       "      <td>16.0</td>\n",
       "    </tr>\n",
       "    <tr>\n",
       "      <th>4</th>\n",
       "      <td>5.0</td>\n",
       "      <td>ALPHA</td>\n",
       "      <td>18.0</td>\n",
       "      <td>17.0</td>\n",
       "      <td>19.0</td>\n",
       "      <td>19.0</td>\n",
       "      <td>20.0</td>\n",
       "      <td>18.0</td>\n",
       "      <td>111.0</td>\n",
       "      <td>A+</td>\n",
       "      <td>18.0</td>\n",
       "    </tr>\n",
       "    <tr>\n",
       "      <th>...</th>\n",
       "      <td>...</td>\n",
       "      <td>...</td>\n",
       "      <td>...</td>\n",
       "      <td>...</td>\n",
       "      <td>...</td>\n",
       "      <td>...</td>\n",
       "      <td>...</td>\n",
       "      <td>...</td>\n",
       "      <td>...</td>\n",
       "      <td>...</td>\n",
       "      <td>...</td>\n",
       "    </tr>\n",
       "    <tr>\n",
       "      <th>713</th>\n",
       "      <td>NaN</td>\n",
       "      <td>ZETA</td>\n",
       "      <td>19.0</td>\n",
       "      <td>8.0</td>\n",
       "      <td>8.0</td>\n",
       "      <td>19.0</td>\n",
       "      <td>17.0</td>\n",
       "      <td>18.0</td>\n",
       "      <td>89.0</td>\n",
       "      <td>A</td>\n",
       "      <td>15.0</td>\n",
       "    </tr>\n",
       "    <tr>\n",
       "      <th>714</th>\n",
       "      <td>NaN</td>\n",
       "      <td>ZETA</td>\n",
       "      <td>12.0</td>\n",
       "      <td>1.0</td>\n",
       "      <td>7.0</td>\n",
       "      <td>10.0</td>\n",
       "      <td>20.0</td>\n",
       "      <td>8.0</td>\n",
       "      <td>58.0</td>\n",
       "      <td>C</td>\n",
       "      <td>10.0</td>\n",
       "    </tr>\n",
       "    <tr>\n",
       "      <th>715</th>\n",
       "      <td>NaN</td>\n",
       "      <td>ZETA</td>\n",
       "      <td>17.0</td>\n",
       "      <td>6.0</td>\n",
       "      <td>14.0</td>\n",
       "      <td>14.0</td>\n",
       "      <td>17.0</td>\n",
       "      <td>18.0</td>\n",
       "      <td>86.0</td>\n",
       "      <td>A</td>\n",
       "      <td>14.0</td>\n",
       "    </tr>\n",
       "    <tr>\n",
       "      <th>716</th>\n",
       "      <td>NaN</td>\n",
       "      <td>ZETA</td>\n",
       "      <td>12.0</td>\n",
       "      <td>1.0</td>\n",
       "      <td>6.0</td>\n",
       "      <td>7.0</td>\n",
       "      <td>15.0</td>\n",
       "      <td>12.0</td>\n",
       "      <td>53.0</td>\n",
       "      <td>C</td>\n",
       "      <td>9.0</td>\n",
       "    </tr>\n",
       "    <tr>\n",
       "      <th>717</th>\n",
       "      <td>NaN</td>\n",
       "      <td>ZETA</td>\n",
       "      <td>19.0</td>\n",
       "      <td>14.0</td>\n",
       "      <td>17.0</td>\n",
       "      <td>16.0</td>\n",
       "      <td>20.0</td>\n",
       "      <td>19.0</td>\n",
       "      <td>105.0</td>\n",
       "      <td>A+</td>\n",
       "      <td>18.0</td>\n",
       "    </tr>\n",
       "  </tbody>\n",
       "</table>\n",
       "<p>718 rows × 11 columns</p>\n",
       "</div>"
      ],
      "text/plain": [
       "     S.NO SECTION    DV  M-II    PP  BEEE    FL  FIMS  Total Value Grade  \\\n",
       "0     1.0   ALPHA  12.0   0.0  17.0   9.0  19.0  15.0         72.0    B+   \n",
       "1     2.0   ALPHA  19.0  12.0  16.0  16.0  18.0   3.0         84.0     A   \n",
       "2     3.0   ALPHA  18.0  14.0  18.0  18.0  18.0  16.0        102.0    A+   \n",
       "3     4.0   ALPHA  15.0   9.0  19.0  17.0  19.0  15.0         94.0    A+   \n",
       "4     5.0   ALPHA  18.0  17.0  19.0  19.0  20.0  18.0        111.0    A+   \n",
       "..    ...     ...   ...   ...   ...   ...   ...   ...          ...   ...   \n",
       "713   NaN    ZETA  19.0   8.0   8.0  19.0  17.0  18.0         89.0     A   \n",
       "714   NaN    ZETA  12.0   1.0   7.0  10.0  20.0   8.0         58.0     C   \n",
       "715   NaN    ZETA  17.0   6.0  14.0  14.0  17.0  18.0         86.0     A   \n",
       "716   NaN    ZETA  12.0   1.0   6.0   7.0  15.0  12.0         53.0     C   \n",
       "717   NaN    ZETA  19.0  14.0  17.0  16.0  20.0  19.0        105.0    A+   \n",
       "\n",
       "     Percentage  \n",
       "0          12.0  \n",
       "1          14.0  \n",
       "2          17.0  \n",
       "3          16.0  \n",
       "4          18.0  \n",
       "..          ...  \n",
       "713        15.0  \n",
       "714        10.0  \n",
       "715        14.0  \n",
       "716         9.0  \n",
       "717        18.0  \n",
       "\n",
       "[718 rows x 11 columns]"
      ]
     },
     "execution_count": 25,
     "metadata": {},
     "output_type": "execute_result"
    }
   ],
   "source": [
    "max_total_marks = 600  \n",
    "df[\"Percentage\"] = (df[\"Total Value\"] / max_total_marks) * 100\n",
    "df[\"Percentage\"] = df[\"Percentage\"].round()\n",
    "df.to_excel(output_file_path, index=False)\n",
    "df"
   ]
  },
  {
   "cell_type": "markdown",
   "id": "39d62ade",
   "metadata": {},
   "source": [
    "# we added new column as percentage"
   ]
  },
  {
   "cell_type": "code",
   "execution_count": 27,
   "id": "f2ab91a9",
   "metadata": {},
   "outputs": [
    {
     "data": {
      "text/html": [
       "<div>\n",
       "<style scoped>\n",
       "    .dataframe tbody tr th:only-of-type {\n",
       "        vertical-align: middle;\n",
       "    }\n",
       "\n",
       "    .dataframe tbody tr th {\n",
       "        vertical-align: top;\n",
       "    }\n",
       "\n",
       "    .dataframe thead th {\n",
       "        text-align: right;\n",
       "    }\n",
       "</style>\n",
       "<table border=\"1\" class=\"dataframe\">\n",
       "  <thead>\n",
       "    <tr style=\"text-align: right;\">\n",
       "      <th></th>\n",
       "      <th>S.NO</th>\n",
       "      <th>SECTION</th>\n",
       "      <th>DV</th>\n",
       "      <th>M-II</th>\n",
       "      <th>PP</th>\n",
       "      <th>BEEE</th>\n",
       "      <th>FL</th>\n",
       "      <th>FIMS</th>\n",
       "      <th>Total Value</th>\n",
       "      <th>Grade</th>\n",
       "      <th>Percentage</th>\n",
       "    </tr>\n",
       "  </thead>\n",
       "  <tbody>\n",
       "    <tr>\n",
       "      <th>0</th>\n",
       "      <td>1.0</td>\n",
       "      <td>ALPHA</td>\n",
       "      <td>12.0</td>\n",
       "      <td>0.0</td>\n",
       "      <td>17.0</td>\n",
       "      <td>9.0</td>\n",
       "      <td>19.0</td>\n",
       "      <td>15.0</td>\n",
       "      <td>72.0</td>\n",
       "      <td>B+</td>\n",
       "      <td>12.0</td>\n",
       "    </tr>\n",
       "    <tr>\n",
       "      <th>1</th>\n",
       "      <td>2.0</td>\n",
       "      <td>ALPHA</td>\n",
       "      <td>19.0</td>\n",
       "      <td>12.0</td>\n",
       "      <td>16.0</td>\n",
       "      <td>16.0</td>\n",
       "      <td>18.0</td>\n",
       "      <td>3.0</td>\n",
       "      <td>84.0</td>\n",
       "      <td>A</td>\n",
       "      <td>14.0</td>\n",
       "    </tr>\n",
       "    <tr>\n",
       "      <th>2</th>\n",
       "      <td>3.0</td>\n",
       "      <td>ALPHA</td>\n",
       "      <td>18.0</td>\n",
       "      <td>14.0</td>\n",
       "      <td>18.0</td>\n",
       "      <td>18.0</td>\n",
       "      <td>18.0</td>\n",
       "      <td>16.0</td>\n",
       "      <td>102.0</td>\n",
       "      <td>A+</td>\n",
       "      <td>17.0</td>\n",
       "    </tr>\n",
       "    <tr>\n",
       "      <th>3</th>\n",
       "      <td>4.0</td>\n",
       "      <td>ALPHA</td>\n",
       "      <td>15.0</td>\n",
       "      <td>9.0</td>\n",
       "      <td>19.0</td>\n",
       "      <td>17.0</td>\n",
       "      <td>19.0</td>\n",
       "      <td>15.0</td>\n",
       "      <td>94.0</td>\n",
       "      <td>A+</td>\n",
       "      <td>16.0</td>\n",
       "    </tr>\n",
       "    <tr>\n",
       "      <th>4</th>\n",
       "      <td>5.0</td>\n",
       "      <td>ALPHA</td>\n",
       "      <td>18.0</td>\n",
       "      <td>17.0</td>\n",
       "      <td>19.0</td>\n",
       "      <td>19.0</td>\n",
       "      <td>20.0</td>\n",
       "      <td>18.0</td>\n",
       "      <td>111.0</td>\n",
       "      <td>A+</td>\n",
       "      <td>18.0</td>\n",
       "    </tr>\n",
       "    <tr>\n",
       "      <th>...</th>\n",
       "      <td>...</td>\n",
       "      <td>...</td>\n",
       "      <td>...</td>\n",
       "      <td>...</td>\n",
       "      <td>...</td>\n",
       "      <td>...</td>\n",
       "      <td>...</td>\n",
       "      <td>...</td>\n",
       "      <td>...</td>\n",
       "      <td>...</td>\n",
       "      <td>...</td>\n",
       "    </tr>\n",
       "    <tr>\n",
       "      <th>713</th>\n",
       "      <td>NaN</td>\n",
       "      <td>ZETA</td>\n",
       "      <td>19.0</td>\n",
       "      <td>8.0</td>\n",
       "      <td>8.0</td>\n",
       "      <td>19.0</td>\n",
       "      <td>17.0</td>\n",
       "      <td>18.0</td>\n",
       "      <td>89.0</td>\n",
       "      <td>A</td>\n",
       "      <td>15.0</td>\n",
       "    </tr>\n",
       "    <tr>\n",
       "      <th>714</th>\n",
       "      <td>NaN</td>\n",
       "      <td>ZETA</td>\n",
       "      <td>12.0</td>\n",
       "      <td>1.0</td>\n",
       "      <td>7.0</td>\n",
       "      <td>10.0</td>\n",
       "      <td>20.0</td>\n",
       "      <td>8.0</td>\n",
       "      <td>58.0</td>\n",
       "      <td>C</td>\n",
       "      <td>10.0</td>\n",
       "    </tr>\n",
       "    <tr>\n",
       "      <th>715</th>\n",
       "      <td>NaN</td>\n",
       "      <td>ZETA</td>\n",
       "      <td>17.0</td>\n",
       "      <td>6.0</td>\n",
       "      <td>14.0</td>\n",
       "      <td>14.0</td>\n",
       "      <td>17.0</td>\n",
       "      <td>18.0</td>\n",
       "      <td>86.0</td>\n",
       "      <td>A</td>\n",
       "      <td>14.0</td>\n",
       "    </tr>\n",
       "    <tr>\n",
       "      <th>716</th>\n",
       "      <td>NaN</td>\n",
       "      <td>ZETA</td>\n",
       "      <td>12.0</td>\n",
       "      <td>1.0</td>\n",
       "      <td>6.0</td>\n",
       "      <td>7.0</td>\n",
       "      <td>15.0</td>\n",
       "      <td>12.0</td>\n",
       "      <td>53.0</td>\n",
       "      <td>C</td>\n",
       "      <td>9.0</td>\n",
       "    </tr>\n",
       "    <tr>\n",
       "      <th>717</th>\n",
       "      <td>NaN</td>\n",
       "      <td>ZETA</td>\n",
       "      <td>19.0</td>\n",
       "      <td>14.0</td>\n",
       "      <td>17.0</td>\n",
       "      <td>16.0</td>\n",
       "      <td>20.0</td>\n",
       "      <td>19.0</td>\n",
       "      <td>105.0</td>\n",
       "      <td>A+</td>\n",
       "      <td>18.0</td>\n",
       "    </tr>\n",
       "  </tbody>\n",
       "</table>\n",
       "<p>718 rows × 11 columns</p>\n",
       "</div>"
      ],
      "text/plain": [
       "     S.NO SECTION    DV  M-II    PP  BEEE    FL  FIMS  Total Value Grade  \\\n",
       "0     1.0   ALPHA  12.0   0.0  17.0   9.0  19.0  15.0         72.0    B+   \n",
       "1     2.0   ALPHA  19.0  12.0  16.0  16.0  18.0   3.0         84.0     A   \n",
       "2     3.0   ALPHA  18.0  14.0  18.0  18.0  18.0  16.0        102.0    A+   \n",
       "3     4.0   ALPHA  15.0   9.0  19.0  17.0  19.0  15.0         94.0    A+   \n",
       "4     5.0   ALPHA  18.0  17.0  19.0  19.0  20.0  18.0        111.0    A+   \n",
       "..    ...     ...   ...   ...   ...   ...   ...   ...          ...   ...   \n",
       "713   NaN    ZETA  19.0   8.0   8.0  19.0  17.0  18.0         89.0     A   \n",
       "714   NaN    ZETA  12.0   1.0   7.0  10.0  20.0   8.0         58.0     C   \n",
       "715   NaN    ZETA  17.0   6.0  14.0  14.0  17.0  18.0         86.0     A   \n",
       "716   NaN    ZETA  12.0   1.0   6.0   7.0  15.0  12.0         53.0     C   \n",
       "717   NaN    ZETA  19.0  14.0  17.0  16.0  20.0  19.0        105.0    A+   \n",
       "\n",
       "     Percentage  \n",
       "0          12.0  \n",
       "1          14.0  \n",
       "2          17.0  \n",
       "3          16.0  \n",
       "4          18.0  \n",
       "..          ...  \n",
       "713        15.0  \n",
       "714        10.0  \n",
       "715        14.0  \n",
       "716         9.0  \n",
       "717        18.0  \n",
       "\n",
       "[718 rows x 11 columns]"
      ]
     },
     "execution_count": 27,
     "metadata": {},
     "output_type": "execute_result"
    }
   ],
   "source": [
    "max_total_marks = 600  \n",
    "df[\"Percentage\"] = (df[\"Total Value\"] / max_total_marks) * 100\n",
    "df[\"Percentage\"] = df[\"Percentage\"].round()\n",
    "df.to_excel(output_file_path, index=True)\n",
    "df"
   ]
  },
  {
   "cell_type": "code",
   "execution_count": 28,
   "id": "a90686c8",
   "metadata": {},
   "outputs": [
    {
     "data": {
      "text/html": [
       "<div>\n",
       "<style scoped>\n",
       "    .dataframe tbody tr th:only-of-type {\n",
       "        vertical-align: middle;\n",
       "    }\n",
       "\n",
       "    .dataframe tbody tr th {\n",
       "        vertical-align: top;\n",
       "    }\n",
       "\n",
       "    .dataframe thead th {\n",
       "        text-align: right;\n",
       "    }\n",
       "</style>\n",
       "<table border=\"1\" class=\"dataframe\">\n",
       "  <thead>\n",
       "    <tr style=\"text-align: right;\">\n",
       "      <th></th>\n",
       "      <th>S.NO</th>\n",
       "      <th>SECTION</th>\n",
       "      <th>DV</th>\n",
       "      <th>M-II</th>\n",
       "      <th>PP</th>\n",
       "      <th>BEEE</th>\n",
       "      <th>FL</th>\n",
       "      <th>FIMS</th>\n",
       "      <th>Total Value</th>\n",
       "      <th>Grade</th>\n",
       "      <th>Percentage</th>\n",
       "    </tr>\n",
       "  </thead>\n",
       "  <tbody>\n",
       "    <tr>\n",
       "      <th>0</th>\n",
       "      <td>1.0</td>\n",
       "      <td>ALPHA</td>\n",
       "      <td>12.0</td>\n",
       "      <td>0.0</td>\n",
       "      <td>17.0</td>\n",
       "      <td>9.0</td>\n",
       "      <td>19.0</td>\n",
       "      <td>15.0</td>\n",
       "      <td>72.0</td>\n",
       "      <td>B+</td>\n",
       "      <td>60.000000</td>\n",
       "    </tr>\n",
       "    <tr>\n",
       "      <th>1</th>\n",
       "      <td>2.0</td>\n",
       "      <td>ALPHA</td>\n",
       "      <td>19.0</td>\n",
       "      <td>12.0</td>\n",
       "      <td>16.0</td>\n",
       "      <td>16.0</td>\n",
       "      <td>18.0</td>\n",
       "      <td>3.0</td>\n",
       "      <td>84.0</td>\n",
       "      <td>A</td>\n",
       "      <td>70.000000</td>\n",
       "    </tr>\n",
       "    <tr>\n",
       "      <th>2</th>\n",
       "      <td>3.0</td>\n",
       "      <td>ALPHA</td>\n",
       "      <td>18.0</td>\n",
       "      <td>14.0</td>\n",
       "      <td>18.0</td>\n",
       "      <td>18.0</td>\n",
       "      <td>18.0</td>\n",
       "      <td>16.0</td>\n",
       "      <td>102.0</td>\n",
       "      <td>A+</td>\n",
       "      <td>85.000000</td>\n",
       "    </tr>\n",
       "    <tr>\n",
       "      <th>3</th>\n",
       "      <td>4.0</td>\n",
       "      <td>ALPHA</td>\n",
       "      <td>15.0</td>\n",
       "      <td>9.0</td>\n",
       "      <td>19.0</td>\n",
       "      <td>17.0</td>\n",
       "      <td>19.0</td>\n",
       "      <td>15.0</td>\n",
       "      <td>94.0</td>\n",
       "      <td>A+</td>\n",
       "      <td>78.333333</td>\n",
       "    </tr>\n",
       "    <tr>\n",
       "      <th>4</th>\n",
       "      <td>5.0</td>\n",
       "      <td>ALPHA</td>\n",
       "      <td>18.0</td>\n",
       "      <td>17.0</td>\n",
       "      <td>19.0</td>\n",
       "      <td>19.0</td>\n",
       "      <td>20.0</td>\n",
       "      <td>18.0</td>\n",
       "      <td>111.0</td>\n",
       "      <td>A+</td>\n",
       "      <td>92.500000</td>\n",
       "    </tr>\n",
       "    <tr>\n",
       "      <th>...</th>\n",
       "      <td>...</td>\n",
       "      <td>...</td>\n",
       "      <td>...</td>\n",
       "      <td>...</td>\n",
       "      <td>...</td>\n",
       "      <td>...</td>\n",
       "      <td>...</td>\n",
       "      <td>...</td>\n",
       "      <td>...</td>\n",
       "      <td>...</td>\n",
       "      <td>...</td>\n",
       "    </tr>\n",
       "    <tr>\n",
       "      <th>713</th>\n",
       "      <td>NaN</td>\n",
       "      <td>ZETA</td>\n",
       "      <td>19.0</td>\n",
       "      <td>8.0</td>\n",
       "      <td>8.0</td>\n",
       "      <td>19.0</td>\n",
       "      <td>17.0</td>\n",
       "      <td>18.0</td>\n",
       "      <td>89.0</td>\n",
       "      <td>A</td>\n",
       "      <td>74.166667</td>\n",
       "    </tr>\n",
       "    <tr>\n",
       "      <th>714</th>\n",
       "      <td>NaN</td>\n",
       "      <td>ZETA</td>\n",
       "      <td>12.0</td>\n",
       "      <td>1.0</td>\n",
       "      <td>7.0</td>\n",
       "      <td>10.0</td>\n",
       "      <td>20.0</td>\n",
       "      <td>8.0</td>\n",
       "      <td>58.0</td>\n",
       "      <td>C</td>\n",
       "      <td>48.333333</td>\n",
       "    </tr>\n",
       "    <tr>\n",
       "      <th>715</th>\n",
       "      <td>NaN</td>\n",
       "      <td>ZETA</td>\n",
       "      <td>17.0</td>\n",
       "      <td>6.0</td>\n",
       "      <td>14.0</td>\n",
       "      <td>14.0</td>\n",
       "      <td>17.0</td>\n",
       "      <td>18.0</td>\n",
       "      <td>86.0</td>\n",
       "      <td>A</td>\n",
       "      <td>71.666667</td>\n",
       "    </tr>\n",
       "    <tr>\n",
       "      <th>716</th>\n",
       "      <td>NaN</td>\n",
       "      <td>ZETA</td>\n",
       "      <td>12.0</td>\n",
       "      <td>1.0</td>\n",
       "      <td>6.0</td>\n",
       "      <td>7.0</td>\n",
       "      <td>15.0</td>\n",
       "      <td>12.0</td>\n",
       "      <td>53.0</td>\n",
       "      <td>C</td>\n",
       "      <td>44.166667</td>\n",
       "    </tr>\n",
       "    <tr>\n",
       "      <th>717</th>\n",
       "      <td>NaN</td>\n",
       "      <td>ZETA</td>\n",
       "      <td>19.0</td>\n",
       "      <td>14.0</td>\n",
       "      <td>17.0</td>\n",
       "      <td>16.0</td>\n",
       "      <td>20.0</td>\n",
       "      <td>19.0</td>\n",
       "      <td>105.0</td>\n",
       "      <td>A+</td>\n",
       "      <td>87.500000</td>\n",
       "    </tr>\n",
       "  </tbody>\n",
       "</table>\n",
       "<p>718 rows × 11 columns</p>\n",
       "</div>"
      ],
      "text/plain": [
       "     S.NO SECTION    DV  M-II    PP  BEEE    FL  FIMS  Total Value Grade  \\\n",
       "0     1.0   ALPHA  12.0   0.0  17.0   9.0  19.0  15.0         72.0    B+   \n",
       "1     2.0   ALPHA  19.0  12.0  16.0  16.0  18.0   3.0         84.0     A   \n",
       "2     3.0   ALPHA  18.0  14.0  18.0  18.0  18.0  16.0        102.0    A+   \n",
       "3     4.0   ALPHA  15.0   9.0  19.0  17.0  19.0  15.0         94.0    A+   \n",
       "4     5.0   ALPHA  18.0  17.0  19.0  19.0  20.0  18.0        111.0    A+   \n",
       "..    ...     ...   ...   ...   ...   ...   ...   ...          ...   ...   \n",
       "713   NaN    ZETA  19.0   8.0   8.0  19.0  17.0  18.0         89.0     A   \n",
       "714   NaN    ZETA  12.0   1.0   7.0  10.0  20.0   8.0         58.0     C   \n",
       "715   NaN    ZETA  17.0   6.0  14.0  14.0  17.0  18.0         86.0     A   \n",
       "716   NaN    ZETA  12.0   1.0   6.0   7.0  15.0  12.0         53.0     C   \n",
       "717   NaN    ZETA  19.0  14.0  17.0  16.0  20.0  19.0        105.0    A+   \n",
       "\n",
       "     Percentage  \n",
       "0     60.000000  \n",
       "1     70.000000  \n",
       "2     85.000000  \n",
       "3     78.333333  \n",
       "4     92.500000  \n",
       "..          ...  \n",
       "713   74.166667  \n",
       "714   48.333333  \n",
       "715   71.666667  \n",
       "716   44.166667  \n",
       "717   87.500000  \n",
       "\n",
       "[718 rows x 11 columns]"
      ]
     },
     "execution_count": 28,
     "metadata": {},
     "output_type": "execute_result"
    }
   ],
   "source": [
    "df['Percentage'] = (df['Total Value'] / 120) * 100\n",
    "df"
   ]
  },
  {
   "cell_type": "code",
   "execution_count": 29,
   "id": "1d6caaea",
   "metadata": {},
   "outputs": [
    {
     "data": {
      "text/html": [
       "<div>\n",
       "<style scoped>\n",
       "    .dataframe tbody tr th:only-of-type {\n",
       "        vertical-align: middle;\n",
       "    }\n",
       "\n",
       "    .dataframe tbody tr th {\n",
       "        vertical-align: top;\n",
       "    }\n",
       "\n",
       "    .dataframe thead th {\n",
       "        text-align: right;\n",
       "    }\n",
       "</style>\n",
       "<table border=\"1\" class=\"dataframe\">\n",
       "  <thead>\n",
       "    <tr style=\"text-align: right;\">\n",
       "      <th></th>\n",
       "      <th>S.NO</th>\n",
       "      <th>SECTION</th>\n",
       "      <th>DV</th>\n",
       "      <th>M-II</th>\n",
       "      <th>PP</th>\n",
       "      <th>BEEE</th>\n",
       "      <th>FL</th>\n",
       "      <th>FIMS</th>\n",
       "      <th>Total Value</th>\n",
       "      <th>Grade</th>\n",
       "      <th>Percentage</th>\n",
       "    </tr>\n",
       "  </thead>\n",
       "  <tbody>\n",
       "    <tr>\n",
       "      <th>0</th>\n",
       "      <td>1.0</td>\n",
       "      <td>ALPHA</td>\n",
       "      <td>12.0</td>\n",
       "      <td>0.0</td>\n",
       "      <td>17.0</td>\n",
       "      <td>9.0</td>\n",
       "      <td>19.0</td>\n",
       "      <td>15.0</td>\n",
       "      <td>72.0</td>\n",
       "      <td>B+</td>\n",
       "      <td>60.0</td>\n",
       "    </tr>\n",
       "    <tr>\n",
       "      <th>1</th>\n",
       "      <td>2.0</td>\n",
       "      <td>ALPHA</td>\n",
       "      <td>19.0</td>\n",
       "      <td>12.0</td>\n",
       "      <td>16.0</td>\n",
       "      <td>16.0</td>\n",
       "      <td>18.0</td>\n",
       "      <td>3.0</td>\n",
       "      <td>84.0</td>\n",
       "      <td>A</td>\n",
       "      <td>95.0</td>\n",
       "    </tr>\n",
       "    <tr>\n",
       "      <th>2</th>\n",
       "      <td>3.0</td>\n",
       "      <td>ALPHA</td>\n",
       "      <td>18.0</td>\n",
       "      <td>14.0</td>\n",
       "      <td>18.0</td>\n",
       "      <td>18.0</td>\n",
       "      <td>18.0</td>\n",
       "      <td>16.0</td>\n",
       "      <td>102.0</td>\n",
       "      <td>A+</td>\n",
       "      <td>90.0</td>\n",
       "    </tr>\n",
       "    <tr>\n",
       "      <th>3</th>\n",
       "      <td>4.0</td>\n",
       "      <td>ALPHA</td>\n",
       "      <td>15.0</td>\n",
       "      <td>9.0</td>\n",
       "      <td>19.0</td>\n",
       "      <td>17.0</td>\n",
       "      <td>19.0</td>\n",
       "      <td>15.0</td>\n",
       "      <td>94.0</td>\n",
       "      <td>A+</td>\n",
       "      <td>75.0</td>\n",
       "    </tr>\n",
       "    <tr>\n",
       "      <th>4</th>\n",
       "      <td>5.0</td>\n",
       "      <td>ALPHA</td>\n",
       "      <td>18.0</td>\n",
       "      <td>17.0</td>\n",
       "      <td>19.0</td>\n",
       "      <td>19.0</td>\n",
       "      <td>20.0</td>\n",
       "      <td>18.0</td>\n",
       "      <td>111.0</td>\n",
       "      <td>A+</td>\n",
       "      <td>90.0</td>\n",
       "    </tr>\n",
       "    <tr>\n",
       "      <th>...</th>\n",
       "      <td>...</td>\n",
       "      <td>...</td>\n",
       "      <td>...</td>\n",
       "      <td>...</td>\n",
       "      <td>...</td>\n",
       "      <td>...</td>\n",
       "      <td>...</td>\n",
       "      <td>...</td>\n",
       "      <td>...</td>\n",
       "      <td>...</td>\n",
       "      <td>...</td>\n",
       "    </tr>\n",
       "    <tr>\n",
       "      <th>713</th>\n",
       "      <td>NaN</td>\n",
       "      <td>ZETA</td>\n",
       "      <td>19.0</td>\n",
       "      <td>8.0</td>\n",
       "      <td>8.0</td>\n",
       "      <td>19.0</td>\n",
       "      <td>17.0</td>\n",
       "      <td>18.0</td>\n",
       "      <td>89.0</td>\n",
       "      <td>A</td>\n",
       "      <td>95.0</td>\n",
       "    </tr>\n",
       "    <tr>\n",
       "      <th>714</th>\n",
       "      <td>NaN</td>\n",
       "      <td>ZETA</td>\n",
       "      <td>12.0</td>\n",
       "      <td>1.0</td>\n",
       "      <td>7.0</td>\n",
       "      <td>10.0</td>\n",
       "      <td>20.0</td>\n",
       "      <td>8.0</td>\n",
       "      <td>58.0</td>\n",
       "      <td>C</td>\n",
       "      <td>60.0</td>\n",
       "    </tr>\n",
       "    <tr>\n",
       "      <th>715</th>\n",
       "      <td>NaN</td>\n",
       "      <td>ZETA</td>\n",
       "      <td>17.0</td>\n",
       "      <td>6.0</td>\n",
       "      <td>14.0</td>\n",
       "      <td>14.0</td>\n",
       "      <td>17.0</td>\n",
       "      <td>18.0</td>\n",
       "      <td>86.0</td>\n",
       "      <td>A</td>\n",
       "      <td>85.0</td>\n",
       "    </tr>\n",
       "    <tr>\n",
       "      <th>716</th>\n",
       "      <td>NaN</td>\n",
       "      <td>ZETA</td>\n",
       "      <td>12.0</td>\n",
       "      <td>1.0</td>\n",
       "      <td>6.0</td>\n",
       "      <td>7.0</td>\n",
       "      <td>15.0</td>\n",
       "      <td>12.0</td>\n",
       "      <td>53.0</td>\n",
       "      <td>C</td>\n",
       "      <td>60.0</td>\n",
       "    </tr>\n",
       "    <tr>\n",
       "      <th>717</th>\n",
       "      <td>NaN</td>\n",
       "      <td>ZETA</td>\n",
       "      <td>19.0</td>\n",
       "      <td>14.0</td>\n",
       "      <td>17.0</td>\n",
       "      <td>16.0</td>\n",
       "      <td>20.0</td>\n",
       "      <td>19.0</td>\n",
       "      <td>105.0</td>\n",
       "      <td>A+</td>\n",
       "      <td>95.0</td>\n",
       "    </tr>\n",
       "  </tbody>\n",
       "</table>\n",
       "<p>718 rows × 11 columns</p>\n",
       "</div>"
      ],
      "text/plain": [
       "     S.NO SECTION    DV  M-II    PP  BEEE    FL  FIMS  Total Value Grade  \\\n",
       "0     1.0   ALPHA  12.0   0.0  17.0   9.0  19.0  15.0         72.0    B+   \n",
       "1     2.0   ALPHA  19.0  12.0  16.0  16.0  18.0   3.0         84.0     A   \n",
       "2     3.0   ALPHA  18.0  14.0  18.0  18.0  18.0  16.0        102.0    A+   \n",
       "3     4.0   ALPHA  15.0   9.0  19.0  17.0  19.0  15.0         94.0    A+   \n",
       "4     5.0   ALPHA  18.0  17.0  19.0  19.0  20.0  18.0        111.0    A+   \n",
       "..    ...     ...   ...   ...   ...   ...   ...   ...          ...   ...   \n",
       "713   NaN    ZETA  19.0   8.0   8.0  19.0  17.0  18.0         89.0     A   \n",
       "714   NaN    ZETA  12.0   1.0   7.0  10.0  20.0   8.0         58.0     C   \n",
       "715   NaN    ZETA  17.0   6.0  14.0  14.0  17.0  18.0         86.0     A   \n",
       "716   NaN    ZETA  12.0   1.0   6.0   7.0  15.0  12.0         53.0     C   \n",
       "717   NaN    ZETA  19.0  14.0  17.0  16.0  20.0  19.0        105.0    A+   \n",
       "\n",
       "     Percentage  \n",
       "0          60.0  \n",
       "1          95.0  \n",
       "2          90.0  \n",
       "3          75.0  \n",
       "4          90.0  \n",
       "..          ...  \n",
       "713        95.0  \n",
       "714        60.0  \n",
       "715        85.0  \n",
       "716        60.0  \n",
       "717        95.0  \n",
       "\n",
       "[718 rows x 11 columns]"
      ]
     },
     "execution_count": 29,
     "metadata": {},
     "output_type": "execute_result"
    }
   ],
   "source": [
    "df['Percentage'] = (df['DV'] / 20) * 100\n",
    "df"
   ]
  },
  {
   "cell_type": "code",
   "execution_count": 30,
   "id": "a52025c4",
   "metadata": {},
   "outputs": [],
   "source": [
    "#df['Percentage'] = df['Percentage'].round().astype(int)\n",
    "#df"
   ]
  },
  {
   "cell_type": "code",
   "execution_count": 31,
   "id": "c359e5af",
   "metadata": {},
   "outputs": [
    {
     "data": {
      "text/html": [
       "<div>\n",
       "<style scoped>\n",
       "    .dataframe tbody tr th:only-of-type {\n",
       "        vertical-align: middle;\n",
       "    }\n",
       "\n",
       "    .dataframe tbody tr th {\n",
       "        vertical-align: top;\n",
       "    }\n",
       "\n",
       "    .dataframe thead th {\n",
       "        text-align: right;\n",
       "    }\n",
       "</style>\n",
       "<table border=\"1\" class=\"dataframe\">\n",
       "  <thead>\n",
       "    <tr style=\"text-align: right;\">\n",
       "      <th></th>\n",
       "      <th>S.NO</th>\n",
       "      <th>SECTION</th>\n",
       "      <th>DV</th>\n",
       "      <th>M-II</th>\n",
       "      <th>PP</th>\n",
       "      <th>BEEE</th>\n",
       "      <th>FL</th>\n",
       "      <th>FIMS</th>\n",
       "      <th>Total Value</th>\n",
       "      <th>Grade</th>\n",
       "      <th>Percentage</th>\n",
       "    </tr>\n",
       "  </thead>\n",
       "  <tbody>\n",
       "    <tr>\n",
       "      <th>0</th>\n",
       "      <td>1.0</td>\n",
       "      <td>ALPHA</td>\n",
       "      <td>12.0</td>\n",
       "      <td>0.0</td>\n",
       "      <td>17.0</td>\n",
       "      <td>9.0</td>\n",
       "      <td>19.0</td>\n",
       "      <td>15.0</td>\n",
       "      <td>72.0</td>\n",
       "      <td>D</td>\n",
       "      <td>60.0</td>\n",
       "    </tr>\n",
       "    <tr>\n",
       "      <th>1</th>\n",
       "      <td>2.0</td>\n",
       "      <td>ALPHA</td>\n",
       "      <td>19.0</td>\n",
       "      <td>12.0</td>\n",
       "      <td>16.0</td>\n",
       "      <td>16.0</td>\n",
       "      <td>18.0</td>\n",
       "      <td>3.0</td>\n",
       "      <td>84.0</td>\n",
       "      <td>A</td>\n",
       "      <td>95.0</td>\n",
       "    </tr>\n",
       "    <tr>\n",
       "      <th>2</th>\n",
       "      <td>3.0</td>\n",
       "      <td>ALPHA</td>\n",
       "      <td>18.0</td>\n",
       "      <td>14.0</td>\n",
       "      <td>18.0</td>\n",
       "      <td>18.0</td>\n",
       "      <td>18.0</td>\n",
       "      <td>16.0</td>\n",
       "      <td>102.0</td>\n",
       "      <td>A</td>\n",
       "      <td>90.0</td>\n",
       "    </tr>\n",
       "    <tr>\n",
       "      <th>3</th>\n",
       "      <td>4.0</td>\n",
       "      <td>ALPHA</td>\n",
       "      <td>15.0</td>\n",
       "      <td>9.0</td>\n",
       "      <td>19.0</td>\n",
       "      <td>17.0</td>\n",
       "      <td>19.0</td>\n",
       "      <td>15.0</td>\n",
       "      <td>94.0</td>\n",
       "      <td>C</td>\n",
       "      <td>75.0</td>\n",
       "    </tr>\n",
       "    <tr>\n",
       "      <th>4</th>\n",
       "      <td>5.0</td>\n",
       "      <td>ALPHA</td>\n",
       "      <td>18.0</td>\n",
       "      <td>17.0</td>\n",
       "      <td>19.0</td>\n",
       "      <td>19.0</td>\n",
       "      <td>20.0</td>\n",
       "      <td>18.0</td>\n",
       "      <td>111.0</td>\n",
       "      <td>A</td>\n",
       "      <td>90.0</td>\n",
       "    </tr>\n",
       "    <tr>\n",
       "      <th>...</th>\n",
       "      <td>...</td>\n",
       "      <td>...</td>\n",
       "      <td>...</td>\n",
       "      <td>...</td>\n",
       "      <td>...</td>\n",
       "      <td>...</td>\n",
       "      <td>...</td>\n",
       "      <td>...</td>\n",
       "      <td>...</td>\n",
       "      <td>...</td>\n",
       "      <td>...</td>\n",
       "    </tr>\n",
       "    <tr>\n",
       "      <th>713</th>\n",
       "      <td>NaN</td>\n",
       "      <td>ZETA</td>\n",
       "      <td>19.0</td>\n",
       "      <td>8.0</td>\n",
       "      <td>8.0</td>\n",
       "      <td>19.0</td>\n",
       "      <td>17.0</td>\n",
       "      <td>18.0</td>\n",
       "      <td>89.0</td>\n",
       "      <td>A</td>\n",
       "      <td>95.0</td>\n",
       "    </tr>\n",
       "    <tr>\n",
       "      <th>714</th>\n",
       "      <td>NaN</td>\n",
       "      <td>ZETA</td>\n",
       "      <td>12.0</td>\n",
       "      <td>1.0</td>\n",
       "      <td>7.0</td>\n",
       "      <td>10.0</td>\n",
       "      <td>20.0</td>\n",
       "      <td>8.0</td>\n",
       "      <td>58.0</td>\n",
       "      <td>D</td>\n",
       "      <td>60.0</td>\n",
       "    </tr>\n",
       "    <tr>\n",
       "      <th>715</th>\n",
       "      <td>NaN</td>\n",
       "      <td>ZETA</td>\n",
       "      <td>17.0</td>\n",
       "      <td>6.0</td>\n",
       "      <td>14.0</td>\n",
       "      <td>14.0</td>\n",
       "      <td>17.0</td>\n",
       "      <td>18.0</td>\n",
       "      <td>86.0</td>\n",
       "      <td>B</td>\n",
       "      <td>85.0</td>\n",
       "    </tr>\n",
       "    <tr>\n",
       "      <th>716</th>\n",
       "      <td>NaN</td>\n",
       "      <td>ZETA</td>\n",
       "      <td>12.0</td>\n",
       "      <td>1.0</td>\n",
       "      <td>6.0</td>\n",
       "      <td>7.0</td>\n",
       "      <td>15.0</td>\n",
       "      <td>12.0</td>\n",
       "      <td>53.0</td>\n",
       "      <td>D</td>\n",
       "      <td>60.0</td>\n",
       "    </tr>\n",
       "    <tr>\n",
       "      <th>717</th>\n",
       "      <td>NaN</td>\n",
       "      <td>ZETA</td>\n",
       "      <td>19.0</td>\n",
       "      <td>14.0</td>\n",
       "      <td>17.0</td>\n",
       "      <td>16.0</td>\n",
       "      <td>20.0</td>\n",
       "      <td>19.0</td>\n",
       "      <td>105.0</td>\n",
       "      <td>A</td>\n",
       "      <td>95.0</td>\n",
       "    </tr>\n",
       "  </tbody>\n",
       "</table>\n",
       "<p>718 rows × 11 columns</p>\n",
       "</div>"
      ],
      "text/plain": [
       "     S.NO SECTION    DV  M-II    PP  BEEE    FL  FIMS  Total Value Grade  \\\n",
       "0     1.0   ALPHA  12.0   0.0  17.0   9.0  19.0  15.0         72.0     D   \n",
       "1     2.0   ALPHA  19.0  12.0  16.0  16.0  18.0   3.0         84.0     A   \n",
       "2     3.0   ALPHA  18.0  14.0  18.0  18.0  18.0  16.0        102.0     A   \n",
       "3     4.0   ALPHA  15.0   9.0  19.0  17.0  19.0  15.0         94.0     C   \n",
       "4     5.0   ALPHA  18.0  17.0  19.0  19.0  20.0  18.0        111.0     A   \n",
       "..    ...     ...   ...   ...   ...   ...   ...   ...          ...   ...   \n",
       "713   NaN    ZETA  19.0   8.0   8.0  19.0  17.0  18.0         89.0     A   \n",
       "714   NaN    ZETA  12.0   1.0   7.0  10.0  20.0   8.0         58.0     D   \n",
       "715   NaN    ZETA  17.0   6.0  14.0  14.0  17.0  18.0         86.0     B   \n",
       "716   NaN    ZETA  12.0   1.0   6.0   7.0  15.0  12.0         53.0     D   \n",
       "717   NaN    ZETA  19.0  14.0  17.0  16.0  20.0  19.0        105.0     A   \n",
       "\n",
       "     Percentage  \n",
       "0          60.0  \n",
       "1          95.0  \n",
       "2          90.0  \n",
       "3          75.0  \n",
       "4          90.0  \n",
       "..          ...  \n",
       "713        95.0  \n",
       "714        60.0  \n",
       "715        85.0  \n",
       "716        60.0  \n",
       "717        95.0  \n",
       "\n",
       "[718 rows x 11 columns]"
      ]
     },
     "execution_count": 31,
     "metadata": {},
     "output_type": "execute_result"
    }
   ],
   "source": [
    "def assign_grade(percentage):\n",
    "    if percentage >= 90:\n",
    "        return 'A'\n",
    "    elif percentage >= 80:\n",
    "        return 'B'\n",
    "    elif percentage >= 70:\n",
    "        return 'C'\n",
    "    elif percentage >= 60:\n",
    "        return 'D'\n",
    "    else:\n",
    "        return 'F'\n",
    "\n",
    "df['Grade'] = df['Percentage'].apply(assign_grade)\n",
    "\n",
    "df"
   ]
  },
  {
   "cell_type": "code",
   "execution_count": 32,
   "id": "f8be91e1",
   "metadata": {},
   "outputs": [
    {
     "name": "stdout",
     "output_type": "stream",
     "text": [
      "Count of 'A' grades per section:\n",
      "SECTION\n",
      "OMEGA      54\n",
      "GAMMA      37\n",
      "SIGMA      31\n",
      "ZETA       28\n",
      "DELTA      21\n",
      "ALPHA      20\n",
      "EPSILON    19\n",
      "BETA        8\n",
      "Name: count, dtype: int64\n",
      "\n",
      "The section with the most 'A' grades is: OMEGA with 54 'A' grades.\n"
     ]
    }
   ],
   "source": [
    "a_grades = df[df[\"Grade\"] == \"A\"]\n",
    "section_a_grades_count = a_grades[\"SECTION\"].value_counts()\n",
    "print(\"Count of 'A' grades per section:\")\n",
    "print(section_a_grades_count)\n",
    "top_section = section_a_grades_count.idxmax()\n",
    "top_section_count = section_a_grades_count.max()\n",
    "print(f\"\\nThe section with the most 'A' grades is: {top_section} with {top_section_count} 'A' grades.\")\n",
    "output_file_path = 'MIDMARKS_WITH_GRADES.xlsx'\n",
    "df.to_excel(output_file_path, index=False)"
   ]
  },
  {
   "cell_type": "code",
   "execution_count": 33,
   "id": "57fe4cbf",
   "metadata": {},
   "outputs": [
    {
     "data": {
      "text/html": [
       "<div>\n",
       "<style scoped>\n",
       "    .dataframe tbody tr th:only-of-type {\n",
       "        vertical-align: middle;\n",
       "    }\n",
       "\n",
       "    .dataframe tbody tr th {\n",
       "        vertical-align: top;\n",
       "    }\n",
       "\n",
       "    .dataframe thead th {\n",
       "        text-align: right;\n",
       "    }\n",
       "</style>\n",
       "<table border=\"1\" class=\"dataframe\">\n",
       "  <thead>\n",
       "    <tr style=\"text-align: right;\">\n",
       "      <th></th>\n",
       "      <th>index</th>\n",
       "      <th>S.NO</th>\n",
       "      <th>SECTION</th>\n",
       "      <th>DV</th>\n",
       "      <th>M-II</th>\n",
       "      <th>PP</th>\n",
       "      <th>BEEE</th>\n",
       "      <th>FL</th>\n",
       "      <th>FIMS</th>\n",
       "      <th>Total Value</th>\n",
       "      <th>Grade</th>\n",
       "      <th>Percentage</th>\n",
       "    </tr>\n",
       "  </thead>\n",
       "  <tbody>\n",
       "    <tr>\n",
       "      <th>0</th>\n",
       "      <td>2</td>\n",
       "      <td>3.0</td>\n",
       "      <td>ALPHA</td>\n",
       "      <td>18.0</td>\n",
       "      <td>14.0</td>\n",
       "      <td>18.0</td>\n",
       "      <td>18.0</td>\n",
       "      <td>18.0</td>\n",
       "      <td>16.0</td>\n",
       "      <td>102.0</td>\n",
       "      <td>A</td>\n",
       "      <td>90.0</td>\n",
       "    </tr>\n",
       "    <tr>\n",
       "      <th>1</th>\n",
       "      <td>4</td>\n",
       "      <td>5.0</td>\n",
       "      <td>ALPHA</td>\n",
       "      <td>18.0</td>\n",
       "      <td>17.0</td>\n",
       "      <td>19.0</td>\n",
       "      <td>19.0</td>\n",
       "      <td>20.0</td>\n",
       "      <td>18.0</td>\n",
       "      <td>111.0</td>\n",
       "      <td>A</td>\n",
       "      <td>90.0</td>\n",
       "    </tr>\n",
       "    <tr>\n",
       "      <th>2</th>\n",
       "      <td>7</td>\n",
       "      <td>8.0</td>\n",
       "      <td>ALPHA</td>\n",
       "      <td>17.0</td>\n",
       "      <td>17.0</td>\n",
       "      <td>19.0</td>\n",
       "      <td>20.0</td>\n",
       "      <td>19.0</td>\n",
       "      <td>13.0</td>\n",
       "      <td>105.0</td>\n",
       "      <td>B</td>\n",
       "      <td>85.0</td>\n",
       "    </tr>\n",
       "    <tr>\n",
       "      <th>3</th>\n",
       "      <td>9</td>\n",
       "      <td>10.0</td>\n",
       "      <td>ALPHA</td>\n",
       "      <td>18.0</td>\n",
       "      <td>19.0</td>\n",
       "      <td>20.0</td>\n",
       "      <td>20.0</td>\n",
       "      <td>20.0</td>\n",
       "      <td>15.0</td>\n",
       "      <td>112.0</td>\n",
       "      <td>A</td>\n",
       "      <td>90.0</td>\n",
       "    </tr>\n",
       "    <tr>\n",
       "      <th>4</th>\n",
       "      <td>10</td>\n",
       "      <td>11.0</td>\n",
       "      <td>ALPHA</td>\n",
       "      <td>17.0</td>\n",
       "      <td>18.0</td>\n",
       "      <td>20.0</td>\n",
       "      <td>18.0</td>\n",
       "      <td>20.0</td>\n",
       "      <td>18.0</td>\n",
       "      <td>111.0</td>\n",
       "      <td>B</td>\n",
       "      <td>85.0</td>\n",
       "    </tr>\n",
       "    <tr>\n",
       "      <th>...</th>\n",
       "      <td>...</td>\n",
       "      <td>...</td>\n",
       "      <td>...</td>\n",
       "      <td>...</td>\n",
       "      <td>...</td>\n",
       "      <td>...</td>\n",
       "      <td>...</td>\n",
       "      <td>...</td>\n",
       "      <td>...</td>\n",
       "      <td>...</td>\n",
       "      <td>...</td>\n",
       "      <td>...</td>\n",
       "    </tr>\n",
       "    <tr>\n",
       "      <th>188</th>\n",
       "      <td>694</td>\n",
       "      <td>NaN</td>\n",
       "      <td>ZETA</td>\n",
       "      <td>20.0</td>\n",
       "      <td>19.0</td>\n",
       "      <td>14.0</td>\n",
       "      <td>20.0</td>\n",
       "      <td>20.0</td>\n",
       "      <td>19.0</td>\n",
       "      <td>112.0</td>\n",
       "      <td>A</td>\n",
       "      <td>100.0</td>\n",
       "    </tr>\n",
       "    <tr>\n",
       "      <th>189</th>\n",
       "      <td>697</td>\n",
       "      <td>NaN</td>\n",
       "      <td>ZETA</td>\n",
       "      <td>18.0</td>\n",
       "      <td>15.0</td>\n",
       "      <td>15.0</td>\n",
       "      <td>20.0</td>\n",
       "      <td>20.0</td>\n",
       "      <td>19.0</td>\n",
       "      <td>107.0</td>\n",
       "      <td>A</td>\n",
       "      <td>90.0</td>\n",
       "    </tr>\n",
       "    <tr>\n",
       "      <th>190</th>\n",
       "      <td>698</td>\n",
       "      <td>NaN</td>\n",
       "      <td>ZETA</td>\n",
       "      <td>18.0</td>\n",
       "      <td>17.0</td>\n",
       "      <td>15.0</td>\n",
       "      <td>16.0</td>\n",
       "      <td>20.0</td>\n",
       "      <td>16.0</td>\n",
       "      <td>102.0</td>\n",
       "      <td>A</td>\n",
       "      <td>90.0</td>\n",
       "    </tr>\n",
       "    <tr>\n",
       "      <th>191</th>\n",
       "      <td>709</td>\n",
       "      <td>NaN</td>\n",
       "      <td>ZETA</td>\n",
       "      <td>19.0</td>\n",
       "      <td>17.0</td>\n",
       "      <td>12.0</td>\n",
       "      <td>17.0</td>\n",
       "      <td>20.0</td>\n",
       "      <td>16.0</td>\n",
       "      <td>101.0</td>\n",
       "      <td>A</td>\n",
       "      <td>95.0</td>\n",
       "    </tr>\n",
       "    <tr>\n",
       "      <th>192</th>\n",
       "      <td>717</td>\n",
       "      <td>NaN</td>\n",
       "      <td>ZETA</td>\n",
       "      <td>19.0</td>\n",
       "      <td>14.0</td>\n",
       "      <td>17.0</td>\n",
       "      <td>16.0</td>\n",
       "      <td>20.0</td>\n",
       "      <td>19.0</td>\n",
       "      <td>105.0</td>\n",
       "      <td>A</td>\n",
       "      <td>95.0</td>\n",
       "    </tr>\n",
       "  </tbody>\n",
       "</table>\n",
       "<p>193 rows × 12 columns</p>\n",
       "</div>"
      ],
      "text/plain": [
       "     index  S.NO SECTION    DV  M-II    PP  BEEE    FL  FIMS  Total Value  \\\n",
       "0        2   3.0   ALPHA  18.0  14.0  18.0  18.0  18.0  16.0        102.0   \n",
       "1        4   5.0   ALPHA  18.0  17.0  19.0  19.0  20.0  18.0        111.0   \n",
       "2        7   8.0   ALPHA  17.0  17.0  19.0  20.0  19.0  13.0        105.0   \n",
       "3        9  10.0   ALPHA  18.0  19.0  20.0  20.0  20.0  15.0        112.0   \n",
       "4       10  11.0   ALPHA  17.0  18.0  20.0  18.0  20.0  18.0        111.0   \n",
       "..     ...   ...     ...   ...   ...   ...   ...   ...   ...          ...   \n",
       "188    694   NaN    ZETA  20.0  19.0  14.0  20.0  20.0  19.0        112.0   \n",
       "189    697   NaN    ZETA  18.0  15.0  15.0  20.0  20.0  19.0        107.0   \n",
       "190    698   NaN    ZETA  18.0  17.0  15.0  16.0  20.0  16.0        102.0   \n",
       "191    709   NaN    ZETA  19.0  17.0  12.0  17.0  20.0  16.0        101.0   \n",
       "192    717   NaN    ZETA  19.0  14.0  17.0  16.0  20.0  19.0        105.0   \n",
       "\n",
       "    Grade  Percentage  \n",
       "0       A        90.0  \n",
       "1       A        90.0  \n",
       "2       B        85.0  \n",
       "3       A        90.0  \n",
       "4       B        85.0  \n",
       "..    ...         ...  \n",
       "188     A       100.0  \n",
       "189     A        90.0  \n",
       "190     A        90.0  \n",
       "191     A        95.0  \n",
       "192     A        95.0  \n",
       "\n",
       "[193 rows x 12 columns]"
      ]
     },
     "execution_count": 33,
     "metadata": {},
     "output_type": "execute_result"
    }
   ],
   "source": [
    "df1=df.loc[(df['Total Value'] >= 100) & (df['Total Value'] <= 600)]\n",
    "df1=df1.reset_index()\n",
    "df1"
   ]
  },
  {
   "cell_type": "code",
   "execution_count": 34,
   "id": "4698f646",
   "metadata": {},
   "outputs": [
    {
     "data": {
      "text/plain": [
       "DV\n",
       "False    642\n",
       "True      76\n",
       "Name: count, dtype: int64"
      ]
     },
     "execution_count": 34,
     "metadata": {},
     "output_type": "execute_result"
    }
   ],
   "source": [
    "df1=(df['DV']<10)\n",
    "df1.value_counts()"
   ]
  },
  {
   "cell_type": "markdown",
   "id": "5df456f0",
   "metadata": {},
   "source": [
    "0.106 failure PERCENTAGE"
   ]
  },
  {
   "cell_type": "code",
   "execution_count": 36,
   "id": "52b114db",
   "metadata": {},
   "outputs": [
    {
     "data": {
      "text/plain": [
       "M-II\n",
       "False    383\n",
       "True     335\n",
       "Name: count, dtype: int64"
      ]
     },
     "execution_count": 36,
     "metadata": {},
     "output_type": "execute_result"
    }
   ],
   "source": [
    "df1=(df['M-II']<10)\n",
    "df1.value_counts()"
   ]
  },
  {
   "cell_type": "code",
   "execution_count": 37,
   "id": "d744ec0f",
   "metadata": {},
   "outputs": [
    {
     "data": {
      "text/plain": [
       "PP\n",
       "False    520\n",
       "True     198\n",
       "Name: count, dtype: int64"
      ]
     },
     "execution_count": 37,
     "metadata": {},
     "output_type": "execute_result"
    }
   ],
   "source": [
    "df1=(df['PP']<10)\n",
    "df1.value_counts()"
   ]
  },
  {
   "cell_type": "code",
   "execution_count": 38,
   "id": "c112ad7f",
   "metadata": {},
   "outputs": [
    {
     "data": {
      "text/plain": [
       "FL\n",
       "False    690\n",
       "True      28\n",
       "Name: count, dtype: int64"
      ]
     },
     "execution_count": 38,
     "metadata": {},
     "output_type": "execute_result"
    }
   ],
   "source": [
    "df1=(df['FL']<10)\n",
    "df1.value_counts()"
   ]
  },
  {
   "cell_type": "code",
   "execution_count": 39,
   "id": "e2e98ab4",
   "metadata": {},
   "outputs": [
    {
     "data": {
      "text/plain": [
       "BEEE\n",
       "False    546\n",
       "True     172\n",
       "Name: count, dtype: int64"
      ]
     },
     "execution_count": 39,
     "metadata": {},
     "output_type": "execute_result"
    }
   ],
   "source": [
    "df1=(df['BEEE']<10)\n",
    "df1.value_counts()"
   ]
  },
  {
   "cell_type": "code",
   "execution_count": 40,
   "id": "8cb4c54a",
   "metadata": {},
   "outputs": [
    {
     "data": {
      "text/plain": [
       "FIMS\n",
       "False    622\n",
       "True      96\n",
       "Name: count, dtype: int64"
      ]
     },
     "execution_count": 40,
     "metadata": {},
     "output_type": "execute_result"
    }
   ],
   "source": [
    "df1=(df['FIMS']<10)\n",
    "df1.value_counts()"
   ]
  },
  {
   "cell_type": "code",
   "execution_count": 41,
   "id": "fca2c5b0",
   "metadata": {},
   "outputs": [
    {
     "data": {
      "text/plain": [
       "False    701\n",
       "True      17\n",
       "Name: count, dtype: int64"
      ]
     },
     "execution_count": 41,
     "metadata": {},
     "output_type": "execute_result"
    }
   ],
   "source": [
    "df1=(df['DV']<10)&(df['SECTION']=='ALPHA')\n",
    "df1.value_counts()"
   ]
  },
  {
   "cell_type": "markdown",
   "id": "c1235a5c",
   "metadata": {},
   "source": [
    "0.188 failure PERCENTAGE"
   ]
  },
  {
   "cell_type": "code",
   "execution_count": 43,
   "id": "5c2e94fb",
   "metadata": {},
   "outputs": [
    {
     "data": {
      "text/plain": [
       "False    701\n",
       "True      17\n",
       "Name: count, dtype: int64"
      ]
     },
     "execution_count": 43,
     "metadata": {},
     "output_type": "execute_result"
    }
   ],
   "source": [
    "df1=(df['DV']<10)&(df['SECTION']=='BETA')\n",
    "df1.value_counts()"
   ]
  },
  {
   "cell_type": "code",
   "execution_count": 44,
   "id": "a3d95813",
   "metadata": {},
   "outputs": [
    {
     "data": {
      "text/plain": [
       "False    710\n",
       "True       8\n",
       "Name: count, dtype: int64"
      ]
     },
     "execution_count": 44,
     "metadata": {},
     "output_type": "execute_result"
    }
   ],
   "source": [
    "df1=(df['DV']<10)&(df['SECTION']=='GAMMA')\n",
    "df1.value_counts()"
   ]
  },
  {
   "cell_type": "code",
   "execution_count": 45,
   "id": "f1614432",
   "metadata": {},
   "outputs": [
    {
     "data": {
      "text/plain": [
       "False    706\n",
       "True      12\n",
       "Name: count, dtype: int64"
      ]
     },
     "execution_count": 45,
     "metadata": {},
     "output_type": "execute_result"
    }
   ],
   "source": [
    "df1=(df['DV']<10)&(df['SECTION']=='DELTA')\n",
    "df1.value_counts()"
   ]
  },
  {
   "cell_type": "code",
   "execution_count": 46,
   "id": "9c8ddd2c",
   "metadata": {},
   "outputs": [
    {
     "data": {
      "text/plain": [
       "False    710\n",
       "True       8\n",
       "Name: count, dtype: int64"
      ]
     },
     "execution_count": 46,
     "metadata": {},
     "output_type": "execute_result"
    }
   ],
   "source": [
    "df1=(df['DV']<10)&(df['SECTION']=='OMEGA')\n",
    "df1.value_counts()"
   ]
  },
  {
   "cell_type": "code",
   "execution_count": 47,
   "id": "3a03d69a",
   "metadata": {},
   "outputs": [
    {
     "data": {
      "text/plain": [
       "False    715\n",
       "True       3\n",
       "Name: count, dtype: int64"
      ]
     },
     "execution_count": 47,
     "metadata": {},
     "output_type": "execute_result"
    }
   ],
   "source": [
    "df1=(df['DV']<10)&(df['SECTION']=='EPSILON')\n",
    "df1.value_counts()"
   ]
  },
  {
   "cell_type": "code",
   "execution_count": 48,
   "id": "dbb4f752",
   "metadata": {},
   "outputs": [
    {
     "data": {
      "text/plain": [
       "False    711\n",
       "True       7\n",
       "Name: count, dtype: int64"
      ]
     },
     "execution_count": 48,
     "metadata": {},
     "output_type": "execute_result"
    }
   ],
   "source": [
    "df1=(df['DV']<10)&(df['SECTION']=='ZETA')\n",
    "df1.value_counts()"
   ]
  },
  {
   "cell_type": "code",
   "execution_count": 49,
   "id": "e7538718",
   "metadata": {},
   "outputs": [
    {
     "data": {
      "text/plain": [
       "False    715\n",
       "True       3\n",
       "Name: count, dtype: int64"
      ]
     },
     "execution_count": 49,
     "metadata": {},
     "output_type": "execute_result"
    }
   ],
   "source": [
    "df1=(df['DV']<10)&(df['SECTION']=='SIGMA')\n",
    "df1.value_counts()"
   ]
  },
  {
   "cell_type": "code",
   "execution_count": 50,
   "id": "91571f1f",
   "metadata": {},
   "outputs": [
    {
     "data": {
      "text/plain": [
       "False    707\n",
       "True      11\n",
       "Name: count, dtype: int64"
      ]
     },
     "execution_count": 50,
     "metadata": {},
     "output_type": "execute_result"
    }
   ],
   "source": [
    "df1=(df['PP']<10)&(df['SECTION']=='ALPHA')\n",
    "df1.value_counts()"
   ]
  },
  {
   "cell_type": "code",
   "execution_count": 51,
   "id": "5672b347",
   "metadata": {},
   "outputs": [
    {
     "data": {
      "text/plain": [
       "False    711\n",
       "True       7\n",
       "Name: count, dtype: int64"
      ]
     },
     "execution_count": 51,
     "metadata": {},
     "output_type": "execute_result"
    }
   ],
   "source": [
    "df1=(df['PP']<10)&(df['SECTION']=='BETA')\n",
    "df1.value_counts()"
   ]
  },
  {
   "cell_type": "code",
   "execution_count": 52,
   "id": "665080de",
   "metadata": {},
   "outputs": [
    {
     "data": {
      "text/plain": [
       "False    685\n",
       "True      33\n",
       "Name: count, dtype: int64"
      ]
     },
     "execution_count": 52,
     "metadata": {},
     "output_type": "execute_result"
    }
   ],
   "source": [
    "df1=(df['PP']<10)&(df['SECTION']=='GAMMA')\n",
    "df1.value_counts()"
   ]
  },
  {
   "cell_type": "code",
   "execution_count": 53,
   "id": "ce69f1b8",
   "metadata": {},
   "outputs": [
    {
     "data": {
      "text/plain": [
       "False    691\n",
       "True      27\n",
       "Name: count, dtype: int64"
      ]
     },
     "execution_count": 53,
     "metadata": {},
     "output_type": "execute_result"
    }
   ],
   "source": [
    "df1=(df['PP']<10)&(df['SECTION']=='DELTA')\n",
    "df1.value_counts()"
   ]
  },
  {
   "cell_type": "code",
   "execution_count": 54,
   "id": "a43e90cf",
   "metadata": {},
   "outputs": [
    {
     "data": {
      "text/plain": [
       "False    705\n",
       "True      13\n",
       "Name: count, dtype: int64"
      ]
     },
     "execution_count": 54,
     "metadata": {},
     "output_type": "execute_result"
    }
   ],
   "source": [
    "df1=(df['PP']<10)&(df['SECTION']=='OMEGA')\n",
    "df1.value_counts()"
   ]
  },
  {
   "cell_type": "code",
   "execution_count": 55,
   "id": "76d43d0a",
   "metadata": {},
   "outputs": [
    {
     "data": {
      "text/plain": [
       "False    670\n",
       "True      48\n",
       "Name: count, dtype: int64"
      ]
     },
     "execution_count": 55,
     "metadata": {},
     "output_type": "execute_result"
    }
   ],
   "source": [
    "df1=(df['PP']<10)&(df['SECTION']=='EPSILON')\n",
    "df1.value_counts()"
   ]
  },
  {
   "cell_type": "code",
   "execution_count": 56,
   "id": "4dc7060f",
   "metadata": {},
   "outputs": [
    {
     "data": {
      "text/plain": [
       "False    670\n",
       "True      48\n",
       "Name: count, dtype: int64"
      ]
     },
     "execution_count": 56,
     "metadata": {},
     "output_type": "execute_result"
    }
   ],
   "source": [
    "df1=(df['PP']<10)&(df['SECTION']=='ZETA')\n",
    "df1.value_counts()"
   ]
  },
  {
   "cell_type": "code",
   "execution_count": 57,
   "id": "b49c4fa9",
   "metadata": {},
   "outputs": [
    {
     "data": {
      "text/plain": [
       "False    710\n",
       "True       8\n",
       "Name: count, dtype: int64"
      ]
     },
     "execution_count": 57,
     "metadata": {},
     "output_type": "execute_result"
    }
   ],
   "source": [
    "df1=(df['PP']<10)&(df['SECTION']=='SIGMA')\n",
    "df1.value_counts()"
   ]
  },
  {
   "cell_type": "code",
   "execution_count": 58,
   "id": "0feb0867",
   "metadata": {},
   "outputs": [
    {
     "data": {
      "text/plain": [
       "False    711\n",
       "True       7\n",
       "Name: count, dtype: int64"
      ]
     },
     "execution_count": 58,
     "metadata": {},
     "output_type": "execute_result"
    }
   ],
   "source": [
    "df1=(df['BEEE']<10)&(df['SECTION']=='ALPHA')\n",
    "df1.value_counts()"
   ]
  },
  {
   "cell_type": "code",
   "execution_count": 59,
   "id": "4bba6928",
   "metadata": {},
   "outputs": [
    {
     "data": {
      "text/plain": [
       "False    678\n",
       "True      40\n",
       "Name: count, dtype: int64"
      ]
     },
     "execution_count": 59,
     "metadata": {},
     "output_type": "execute_result"
    }
   ],
   "source": [
    "df1=(df['BEEE']<10)&(df['SECTION']=='BETA')\n",
    "df1.value_counts()"
   ]
  },
  {
   "cell_type": "code",
   "execution_count": 60,
   "id": "dc9bd4b9",
   "metadata": {},
   "outputs": [
    {
     "data": {
      "text/plain": [
       "False    704\n",
       "True      14\n",
       "Name: count, dtype: int64"
      ]
     },
     "execution_count": 60,
     "metadata": {},
     "output_type": "execute_result"
    }
   ],
   "source": [
    "df1=(df['BEEE']<10)&(df['SECTION']=='GAMMA')\n",
    "df1.value_counts()"
   ]
  },
  {
   "cell_type": "code",
   "execution_count": 61,
   "id": "d7bf8b7a",
   "metadata": {},
   "outputs": [
    {
     "data": {
      "text/plain": [
       "False    674\n",
       "True      44\n",
       "Name: count, dtype: int64"
      ]
     },
     "execution_count": 61,
     "metadata": {},
     "output_type": "execute_result"
    }
   ],
   "source": [
    "df1=(df['BEEE']<10)&(df['SECTION']=='DELTA')\n",
    "df1.value_counts()"
   ]
  },
  {
   "cell_type": "code",
   "execution_count": 62,
   "id": "face85d1",
   "metadata": {},
   "outputs": [
    {
     "data": {
      "text/plain": [
       "False    703\n",
       "True      15\n",
       "Name: count, dtype: int64"
      ]
     },
     "execution_count": 62,
     "metadata": {},
     "output_type": "execute_result"
    }
   ],
   "source": [
    "df1=(df['BEEE']<10)&(df['SECTION']=='OMEGA')\n",
    "df1.value_counts()"
   ]
  },
  {
   "cell_type": "code",
   "execution_count": 63,
   "id": "80531ba7",
   "metadata": {},
   "outputs": [
    {
     "data": {
      "text/plain": [
       "False    702\n",
       "True      16\n",
       "Name: count, dtype: int64"
      ]
     },
     "execution_count": 63,
     "metadata": {},
     "output_type": "execute_result"
    }
   ],
   "source": [
    "df1=(df['BEEE']<10)&(df['SECTION']=='EPSILON')\n",
    "df1.value_counts()"
   ]
  },
  {
   "cell_type": "code",
   "execution_count": 64,
   "id": "97b7b459",
   "metadata": {},
   "outputs": [
    {
     "data": {
      "text/plain": [
       "False    702\n",
       "True      16\n",
       "Name: count, dtype: int64"
      ]
     },
     "execution_count": 64,
     "metadata": {},
     "output_type": "execute_result"
    }
   ],
   "source": [
    "df1=(df['BEEE']<10)&(df['SECTION']=='ZETA')\n",
    "df1.value_counts()"
   ]
  },
  {
   "cell_type": "code",
   "execution_count": 65,
   "id": "33290209",
   "metadata": {},
   "outputs": [
    {
     "data": {
      "text/plain": [
       "False    704\n",
       "True      14\n",
       "Name: count, dtype: int64"
      ]
     },
     "execution_count": 65,
     "metadata": {},
     "output_type": "execute_result"
    }
   ],
   "source": [
    "df1=(df['BEEE']<10)&(df['SECTION']=='SIGMA')\n",
    "df1.value_counts()"
   ]
  },
  {
   "cell_type": "code",
   "execution_count": 66,
   "id": "a0cfc0ec",
   "metadata": {},
   "outputs": [
    {
     "data": {
      "text/plain": [
       "False    718\n",
       "Name: count, dtype: int64"
      ]
     },
     "execution_count": 66,
     "metadata": {},
     "output_type": "execute_result"
    }
   ],
   "source": [
    "df1=(df['FL']<10)&(df['SECTION']=='ALPHA')\n",
    "df1.value_counts()"
   ]
  },
  {
   "cell_type": "code",
   "execution_count": 67,
   "id": "724b2d7e",
   "metadata": {},
   "outputs": [
    {
     "data": {
      "text/plain": [
       "False    718\n",
       "Name: count, dtype: int64"
      ]
     },
     "execution_count": 67,
     "metadata": {},
     "output_type": "execute_result"
    }
   ],
   "source": [
    "df1=(df['FL']<10)&(df['SECTION']=='BETA')\n",
    "df1.value_counts()"
   ]
  },
  {
   "cell_type": "code",
   "execution_count": 68,
   "id": "44ac921c",
   "metadata": {},
   "outputs": [
    {
     "data": {
      "text/plain": [
       "False    718\n",
       "Name: count, dtype: int64"
      ]
     },
     "execution_count": 68,
     "metadata": {},
     "output_type": "execute_result"
    }
   ],
   "source": [
    "df1=(df['FL']<10)&(df['SECTION']=='GAMMA')\n",
    "df1.value_counts()"
   ]
  },
  {
   "cell_type": "code",
   "execution_count": 69,
   "id": "1239dae7",
   "metadata": {},
   "outputs": [
    {
     "data": {
      "text/plain": [
       "False    718\n",
       "Name: count, dtype: int64"
      ]
     },
     "execution_count": 69,
     "metadata": {},
     "output_type": "execute_result"
    }
   ],
   "source": [
    "df1=(df['FL']<10)&(df['SECTION']=='DELTA')\n",
    "df1.value_counts()"
   ]
  },
  {
   "cell_type": "code",
   "execution_count": 70,
   "id": "105b36d2",
   "metadata": {},
   "outputs": [
    {
     "data": {
      "text/plain": [
       "False    711\n",
       "True       7\n",
       "Name: count, dtype: int64"
      ]
     },
     "execution_count": 70,
     "metadata": {},
     "output_type": "execute_result"
    }
   ],
   "source": [
    "df1=(df['FL']<10)&(df['SECTION']=='OMEGA')\n",
    "df1.value_counts()"
   ]
  },
  {
   "cell_type": "code",
   "execution_count": 71,
   "id": "fbfd0e49",
   "metadata": {},
   "outputs": [
    {
     "data": {
      "text/plain": [
       "False    711\n",
       "True       7\n",
       "Name: count, dtype: int64"
      ]
     },
     "execution_count": 71,
     "metadata": {},
     "output_type": "execute_result"
    }
   ],
   "source": [
    "df1=(df['FL']<10)&(df['SECTION']=='EPSILON')\n",
    "df1.value_counts()"
   ]
  },
  {
   "cell_type": "code",
   "execution_count": 72,
   "id": "66399a88",
   "metadata": {},
   "outputs": [
    {
     "data": {
      "text/plain": [
       "False    704\n",
       "True      14\n",
       "Name: count, dtype: int64"
      ]
     },
     "execution_count": 72,
     "metadata": {},
     "output_type": "execute_result"
    }
   ],
   "source": [
    "df1=(df['FL']<10)&(df['SECTION']=='ZETA')\n",
    "df1.value_counts()"
   ]
  },
  {
   "cell_type": "code",
   "execution_count": 73,
   "id": "9a211ef7",
   "metadata": {},
   "outputs": [
    {
     "data": {
      "text/plain": [
       "False    718\n",
       "Name: count, dtype: int64"
      ]
     },
     "execution_count": 73,
     "metadata": {},
     "output_type": "execute_result"
    }
   ],
   "source": [
    "df1=(df['FL']<10)&(df['SECTION']=='SIGMA')\n",
    "df1.value_counts()"
   ]
  },
  {
   "cell_type": "code",
   "execution_count": 74,
   "id": "f1c6aa90",
   "metadata": {},
   "outputs": [
    {
     "data": {
      "text/plain": [
       "False    700\n",
       "True      18\n",
       "Name: count, dtype: int64"
      ]
     },
     "execution_count": 74,
     "metadata": {},
     "output_type": "execute_result"
    }
   ],
   "source": [
    "df1=(df['M-II']<10)&(df['SECTION']=='ALPHA')\n",
    "df1.value_counts()"
   ]
  },
  {
   "cell_type": "code",
   "execution_count": 75,
   "id": "00692b5c",
   "metadata": {},
   "outputs": [
    {
     "data": {
      "text/plain": [
       "False    693\n",
       "True      25\n",
       "Name: count, dtype: int64"
      ]
     },
     "execution_count": 75,
     "metadata": {},
     "output_type": "execute_result"
    }
   ],
   "source": [
    "df1=(df['M-II']<10)&(df['SECTION']=='BETA')\n",
    "df1.value_counts()"
   ]
  },
  {
   "cell_type": "code",
   "execution_count": 76,
   "id": "c799d7bc",
   "metadata": {},
   "outputs": [
    {
     "data": {
      "text/plain": [
       "False    675\n",
       "True      43\n",
       "Name: count, dtype: int64"
      ]
     },
     "execution_count": 76,
     "metadata": {},
     "output_type": "execute_result"
    }
   ],
   "source": [
    "df1=(df['M-II']<10)&(df['SECTION']=='GAMMA')\n",
    "df1.value_counts()"
   ]
  },
  {
   "cell_type": "code",
   "execution_count": 77,
   "id": "b1dfe884",
   "metadata": {},
   "outputs": [
    {
     "data": {
      "text/plain": [
       "False    675\n",
       "True      43\n",
       "Name: count, dtype: int64"
      ]
     },
     "execution_count": 77,
     "metadata": {},
     "output_type": "execute_result"
    }
   ],
   "source": [
    "df1=(df['M-II']<10)&(df['SECTION']=='DELTA')\n",
    "df1.value_counts()"
   ]
  },
  {
   "cell_type": "code",
   "execution_count": 78,
   "id": "0513d4ba",
   "metadata": {},
   "outputs": [
    {
     "data": {
      "text/plain": [
       "False    662\n",
       "True      56\n",
       "Name: count, dtype: int64"
      ]
     },
     "execution_count": 78,
     "metadata": {},
     "output_type": "execute_result"
    }
   ],
   "source": [
    "df1=(df['M-II']<10)&(df['SECTION']=='OMEGA')\n",
    "df1.value_counts()"
   ]
  },
  {
   "cell_type": "code",
   "execution_count": 79,
   "id": "a7ac7963",
   "metadata": {},
   "outputs": [
    {
     "data": {
      "text/plain": [
       "False    655\n",
       "True      63\n",
       "Name: count, dtype: int64"
      ]
     },
     "execution_count": 79,
     "metadata": {},
     "output_type": "execute_result"
    }
   ],
   "source": [
    "df1=(df['M-II']<10)&(df['SECTION']=='EPSILON')\n",
    "df1.value_counts()"
   ]
  },
  {
   "cell_type": "code",
   "execution_count": 80,
   "id": "5d36500d",
   "metadata": {},
   "outputs": [
    {
     "data": {
      "text/plain": [
       "False    657\n",
       "True      61\n",
       "Name: count, dtype: int64"
      ]
     },
     "execution_count": 80,
     "metadata": {},
     "output_type": "execute_result"
    }
   ],
   "source": [
    "df1=(df['M-II']<10)&(df['SECTION']=='ZETA')\n",
    "df1.value_counts()"
   ]
  },
  {
   "cell_type": "code",
   "execution_count": 81,
   "id": "cda3e652",
   "metadata": {},
   "outputs": [
    {
     "data": {
      "text/plain": [
       "False    701\n",
       "True      17\n",
       "Name: count, dtype: int64"
      ]
     },
     "execution_count": 81,
     "metadata": {},
     "output_type": "execute_result"
    }
   ],
   "source": [
    "df1=(df['M-II']<10)&(df['SECTION']=='SIGMA')\n",
    "df1.value_counts()"
   ]
  },
  {
   "cell_type": "code",
   "execution_count": 82,
   "id": "07c94c4a",
   "metadata": {},
   "outputs": [
    {
     "data": {
      "text/plain": [
       "False    697\n",
       "True      21\n",
       "Name: count, dtype: int64"
      ]
     },
     "execution_count": 82,
     "metadata": {},
     "output_type": "execute_result"
    }
   ],
   "source": [
    "df1=(df['FIMS']<10)&(df['SECTION']=='ALPHA')\n",
    "df1.value_counts()"
   ]
  },
  {
   "cell_type": "code",
   "execution_count": 83,
   "id": "17b60cc8",
   "metadata": {},
   "outputs": [
    {
     "data": {
      "text/plain": [
       "False    707\n",
       "True      11\n",
       "Name: count, dtype: int64"
      ]
     },
     "execution_count": 83,
     "metadata": {},
     "output_type": "execute_result"
    }
   ],
   "source": [
    "df1=(df['FIMS']<10)&(df['SECTION']=='BETA')\n",
    "df1.value_counts()"
   ]
  },
  {
   "cell_type": "code",
   "execution_count": 84,
   "id": "871859d9",
   "metadata": {},
   "outputs": [
    {
     "data": {
      "text/plain": [
       "False    699\n",
       "True      19\n",
       "Name: count, dtype: int64"
      ]
     },
     "execution_count": 84,
     "metadata": {},
     "output_type": "execute_result"
    }
   ],
   "source": [
    "df1=(df['FIMS']<10)&(df['SECTION']=='GAMMA')\n",
    "df1.value_counts()"
   ]
  },
  {
   "cell_type": "code",
   "execution_count": 85,
   "id": "fe1dd29c",
   "metadata": {},
   "outputs": [
    {
     "data": {
      "text/plain": [
       "False    716\n",
       "True       2\n",
       "Name: count, dtype: int64"
      ]
     },
     "execution_count": 85,
     "metadata": {},
     "output_type": "execute_result"
    }
   ],
   "source": [
    "df1=(df['FIMS']<10)&(df['SECTION']=='DELTA')\n",
    "df1.value_counts()"
   ]
  },
  {
   "cell_type": "code",
   "execution_count": 86,
   "id": "048c88cd",
   "metadata": {},
   "outputs": [
    {
     "data": {
      "text/plain": [
       "False    718\n",
       "Name: count, dtype: int64"
      ]
     },
     "execution_count": 86,
     "metadata": {},
     "output_type": "execute_result"
    }
   ],
   "source": [
    "df1=(df['FIMS']<10)&(df['SECTION']=='OMEGA')\n",
    "df1.value_counts()"
   ]
  },
  {
   "cell_type": "code",
   "execution_count": 87,
   "id": "693b7bf8",
   "metadata": {},
   "outputs": [
    {
     "data": {
      "text/plain": [
       "False    697\n",
       "True      21\n",
       "Name: count, dtype: int64"
      ]
     },
     "execution_count": 87,
     "metadata": {},
     "output_type": "execute_result"
    }
   ],
   "source": [
    "df1=(df['FIMS']<10)&(df['SECTION']=='EPSILON')\n",
    "df1.value_counts()"
   ]
  },
  {
   "cell_type": "code",
   "execution_count": 88,
   "id": "736cb268",
   "metadata": {},
   "outputs": [
    {
     "data": {
      "text/plain": [
       "False    701\n",
       "True      17\n",
       "Name: count, dtype: int64"
      ]
     },
     "execution_count": 88,
     "metadata": {},
     "output_type": "execute_result"
    }
   ],
   "source": [
    "df1=(df['FIMS']<10)&(df['SECTION']=='ZETA')\n",
    "df1.value_counts()"
   ]
  },
  {
   "cell_type": "code",
   "execution_count": 89,
   "id": "ca2ae24c",
   "metadata": {},
   "outputs": [
    {
     "data": {
      "text/plain": [
       "False    715\n",
       "True       3\n",
       "Name: count, dtype: int64"
      ]
     },
     "execution_count": 89,
     "metadata": {},
     "output_type": "execute_result"
    }
   ],
   "source": [
    "df1=(df['FIMS']<10)&(df['SECTION']=='SIGMA')\n",
    "df1.value_counts()"
   ]
  },
  {
   "cell_type": "code",
   "execution_count": 90,
   "id": "987ce819",
   "metadata": {},
   "outputs": [],
   "source": [
    "# df1['PP'] = pd.to_numeric(df1['PP'], errors='coerce')\n",
    "\n",
    "# def assign_grade(PP):\n",
    "#     if pp >= 18:\n",
    "#         return 'VeryGood'\n",
    "#     elif pp >= 15:\n",
    "#         return 'Good'\n",
    "#     elif pp >= 13:\n",
    "#         return 'Average '\n",
    "#     else:\n",
    "#         return 'Poor'\n",
    "\n",
    "# df1['Grade'] = df1['PP'].apply(assign_grade)\n",
    "\n",
    "# df1"
   ]
  },
  {
   "cell_type": "code",
   "execution_count": 91,
   "id": "863cff7f",
   "metadata": {},
   "outputs": [],
   "source": [
    "import matplotlib.pyplot as plt"
   ]
  },
  {
   "cell_type": "code",
   "execution_count": 92,
   "id": "d8bbb71c",
   "metadata": {},
   "outputs": [
    {
     "data": {
      "image/png": "[encoded data removed]",
      "text/plain": [
       "<Figure size 800x800 with 1 Axes>"
      ]
     },
     "metadata": {},
     "output_type": "display_data"
    }
   ],
   "source": [
    "df1=df.groupby('DV')['Total Value']\n",
    "df1.hist(color = 'brown',figsize=[8,8],grid=False,bins=5)\n",
    "plt.title(\"Histogram of students who scored 100-600 Marks\")\n",
    "plt.xlabel(\"Total Marks obtained\")\n",
    "plt.ylabel(\"Marks in DV\")\n",
    "plt.show()"
   ]
  },
  {
   "cell_type": "markdown",
   "id": "2daae683",
   "metadata": {},
   "source": [
    "# the students scored atleast 10 mark and maximum marks is 120, implying that some students in this range secured few students marks in DV"
   ]
  },
  {
   "cell_type": "code",
   "execution_count": 94,
   "id": "98656678",
   "metadata": {},
   "outputs": [
    {
     "data": {
      "image/png": "[encoded data removed]",
      "text/plain": [
       "<Figure size 800x800 with 1 Axes>"
      ]
     },
     "metadata": {},
     "output_type": "display_data"
    }
   ],
   "source": [
    "#1\n",
    "df1=df.groupby('M-II')['Total Value']\n",
    "df1.hist(color = 'green',figsize=[8,8],grid=False,bins=5)\n",
    "plt.title(\"Histogram of students who scored 100-600 Marks\")\n",
    "plt.xlabel(\"Total Marks obtained\")\n",
    "plt.ylabel(\"Marks in M-II\")\n",
    "plt.show()"
   ]
  },
  {
   "cell_type": "markdown",
   "id": "a811b03d",
   "metadata": {},
   "source": [
    "# Many students got high marks in M-II and that's only few, so overall performance in M-II is upto the mark"
   ]
  },
  {
   "cell_type": "code",
   "execution_count": 96,
   "id": "a951b8ed",
   "metadata": {},
   "outputs": [
    {
     "data": {
      "image/png": "[encoded data removed]",
      "text/plain": [
       "<Figure size 800x800 with 1 Axes>"
      ]
     },
     "metadata": {},
     "output_type": "display_data"
    }
   ],
   "source": [
    "df1=df.groupby('PP')['Total Value']\n",
    "df1.hist(color = 'blue',figsize=[8,8],grid=False,bins=5)\n",
    "plt.title(\"Histogram of students who scored 100-600 Marks\")\n",
    "plt.xlabel(\"Total Marks obtained\")\n",
    "plt.ylabel(\"Marks in PP\")\n",
    "plt.show()"
   ]
  },
  {
   "cell_type": "markdown",
   "id": "82228115",
   "metadata": {},
   "source": [
    "# Many students got high marks in PP and that's only few, so overall performance in PP is upto the mark"
   ]
  },
  {
   "cell_type": "code",
   "execution_count": 98,
   "id": "56eff5b8",
   "metadata": {},
   "outputs": [
    {
     "data": {
      "image/png": "[encoded data removed]",
      "text/plain": [
       "<Figure size 800x800 with 1 Axes>"
      ]
     },
     "metadata": {},
     "output_type": "display_data"
    }
   ],
   "source": [
    "df1=df.groupby('BEEE')['Total Value']\n",
    "df1.hist(color = 'orange',figsize=[8,8],grid=False,bins=5)\n",
    "plt.title(\"Histogram of students who scored 100-600 Marks\")\n",
    "plt.xlabel(\"Total Marks obtained\")\n",
    "plt.ylabel(\"Marks in BEEE\")\n",
    "plt.show()"
   ]
  },
  {
   "cell_type": "markdown",
   "id": "695718f6",
   "metadata": {},
   "source": [
    "# few students got high marks in BEEE and that's only few, so overall performance in BEEE is upto the mark"
   ]
  },
  {
   "cell_type": "code",
   "execution_count": 100,
   "id": "dc0c623b",
   "metadata": {},
   "outputs": [
    {
     "data": {
      "image/png": "[encoded data removed]",
      "text/plain": [
       "<Figure size 800x800 with 1 Axes>"
      ]
     },
     "metadata": {},
     "output_type": "display_data"
    }
   ],
   "source": [
    "df1=df.groupby('FL')['Total Value']\n",
    "df1.hist(color = 'Red',figsize=[8,8],grid=False,bins=5)\n",
    "plt.title(\"Histogram of students who scored 100-600 Marks\")\n",
    "plt.xlabel(\"Total Marks obtained\")\n",
    "plt.ylabel(\"Marks in FL\")\n",
    "plt.show()"
   ]
  },
  {
   "cell_type": "markdown",
   "id": "a0900d51",
   "metadata": {},
   "source": [
    "# few students got high marks in FL and that's only few, so overall performance in FL is upto the mark"
   ]
  },
  {
   "cell_type": "code",
   "execution_count": 102,
   "id": "a160d678",
   "metadata": {},
   "outputs": [
    {
     "data": {
      "image/png": "[encoded data removed]",
      "text/plain": [
       "<Figure size 800x800 with 1 Axes>"
      ]
     },
     "metadata": {},
     "output_type": "display_data"
    }
   ],
   "source": [
    "df1=df.groupby('FIMS')['Total Value']\n",
    "df1.hist(color = 'pink',figsize=[8,8],grid=False,bins=5)\n",
    "plt.title(\"Histogram of students who scored 100-600 Marks\")\n",
    "plt.xlabel(\"Total Marks obtained\")\n",
    "plt.ylabel(\"Marks in FIMS\")\n",
    "plt.show()"
   ]
  },
  {
   "cell_type": "markdown",
   "id": "1c7e699f",
   "metadata": {},
   "source": [
    "# few students got high marks in FIMS and that's only few, so overall performance in FIMS is upto the mark"
   ]
  },
  {
   "cell_type": "code",
   "execution_count": 104,
   "id": "a8664055",
   "metadata": {},
   "outputs": [
    {
     "data": {
      "text/html": [
       "<div>\n",
       "<style scoped>\n",
       "    .dataframe tbody tr th:only-of-type {\n",
       "        vertical-align: middle;\n",
       "    }\n",
       "\n",
       "    .dataframe tbody tr th {\n",
       "        vertical-align: top;\n",
       "    }\n",
       "\n",
       "    .dataframe thead th {\n",
       "        text-align: right;\n",
       "    }\n",
       "</style>\n",
       "<table border=\"1\" class=\"dataframe\">\n",
       "  <thead>\n",
       "    <tr style=\"text-align: right;\">\n",
       "      <th></th>\n",
       "      <th>index</th>\n",
       "      <th>S.NO</th>\n",
       "      <th>SECTION</th>\n",
       "      <th>DV</th>\n",
       "      <th>M-II</th>\n",
       "      <th>PP</th>\n",
       "      <th>BEEE</th>\n",
       "      <th>FL</th>\n",
       "      <th>FIMS</th>\n",
       "      <th>Total Value</th>\n",
       "      <th>Grade</th>\n",
       "      <th>Percentage</th>\n",
       "    </tr>\n",
       "  </thead>\n",
       "  <tbody>\n",
       "    <tr>\n",
       "      <th>0</th>\n",
       "      <td>2</td>\n",
       "      <td>3.0</td>\n",
       "      <td>ALPHA</td>\n",
       "      <td>18.0</td>\n",
       "      <td>14.0</td>\n",
       "      <td>18.0</td>\n",
       "      <td>18.0</td>\n",
       "      <td>18.0</td>\n",
       "      <td>16.0</td>\n",
       "      <td>102.0</td>\n",
       "      <td>A</td>\n",
       "      <td>90.0</td>\n",
       "    </tr>\n",
       "    <tr>\n",
       "      <th>1</th>\n",
       "      <td>4</td>\n",
       "      <td>5.0</td>\n",
       "      <td>ALPHA</td>\n",
       "      <td>18.0</td>\n",
       "      <td>17.0</td>\n",
       "      <td>19.0</td>\n",
       "      <td>19.0</td>\n",
       "      <td>20.0</td>\n",
       "      <td>18.0</td>\n",
       "      <td>111.0</td>\n",
       "      <td>A</td>\n",
       "      <td>90.0</td>\n",
       "    </tr>\n",
       "    <tr>\n",
       "      <th>2</th>\n",
       "      <td>7</td>\n",
       "      <td>8.0</td>\n",
       "      <td>ALPHA</td>\n",
       "      <td>17.0</td>\n",
       "      <td>17.0</td>\n",
       "      <td>19.0</td>\n",
       "      <td>20.0</td>\n",
       "      <td>19.0</td>\n",
       "      <td>13.0</td>\n",
       "      <td>105.0</td>\n",
       "      <td>B</td>\n",
       "      <td>85.0</td>\n",
       "    </tr>\n",
       "    <tr>\n",
       "      <th>3</th>\n",
       "      <td>9</td>\n",
       "      <td>10.0</td>\n",
       "      <td>ALPHA</td>\n",
       "      <td>18.0</td>\n",
       "      <td>19.0</td>\n",
       "      <td>20.0</td>\n",
       "      <td>20.0</td>\n",
       "      <td>20.0</td>\n",
       "      <td>15.0</td>\n",
       "      <td>112.0</td>\n",
       "      <td>A</td>\n",
       "      <td>90.0</td>\n",
       "    </tr>\n",
       "    <tr>\n",
       "      <th>4</th>\n",
       "      <td>10</td>\n",
       "      <td>11.0</td>\n",
       "      <td>ALPHA</td>\n",
       "      <td>17.0</td>\n",
       "      <td>18.0</td>\n",
       "      <td>20.0</td>\n",
       "      <td>18.0</td>\n",
       "      <td>20.0</td>\n",
       "      <td>18.0</td>\n",
       "      <td>111.0</td>\n",
       "      <td>B</td>\n",
       "      <td>85.0</td>\n",
       "    </tr>\n",
       "    <tr>\n",
       "      <th>...</th>\n",
       "      <td>...</td>\n",
       "      <td>...</td>\n",
       "      <td>...</td>\n",
       "      <td>...</td>\n",
       "      <td>...</td>\n",
       "      <td>...</td>\n",
       "      <td>...</td>\n",
       "      <td>...</td>\n",
       "      <td>...</td>\n",
       "      <td>...</td>\n",
       "      <td>...</td>\n",
       "      <td>...</td>\n",
       "    </tr>\n",
       "    <tr>\n",
       "      <th>188</th>\n",
       "      <td>694</td>\n",
       "      <td>NaN</td>\n",
       "      <td>ZETA</td>\n",
       "      <td>20.0</td>\n",
       "      <td>19.0</td>\n",
       "      <td>14.0</td>\n",
       "      <td>20.0</td>\n",
       "      <td>20.0</td>\n",
       "      <td>19.0</td>\n",
       "      <td>112.0</td>\n",
       "      <td>A</td>\n",
       "      <td>100.0</td>\n",
       "    </tr>\n",
       "    <tr>\n",
       "      <th>189</th>\n",
       "      <td>697</td>\n",
       "      <td>NaN</td>\n",
       "      <td>ZETA</td>\n",
       "      <td>18.0</td>\n",
       "      <td>15.0</td>\n",
       "      <td>15.0</td>\n",
       "      <td>20.0</td>\n",
       "      <td>20.0</td>\n",
       "      <td>19.0</td>\n",
       "      <td>107.0</td>\n",
       "      <td>A</td>\n",
       "      <td>90.0</td>\n",
       "    </tr>\n",
       "    <tr>\n",
       "      <th>190</th>\n",
       "      <td>698</td>\n",
       "      <td>NaN</td>\n",
       "      <td>ZETA</td>\n",
       "      <td>18.0</td>\n",
       "      <td>17.0</td>\n",
       "      <td>15.0</td>\n",
       "      <td>16.0</td>\n",
       "      <td>20.0</td>\n",
       "      <td>16.0</td>\n",
       "      <td>102.0</td>\n",
       "      <td>A</td>\n",
       "      <td>90.0</td>\n",
       "    </tr>\n",
       "    <tr>\n",
       "      <th>191</th>\n",
       "      <td>709</td>\n",
       "      <td>NaN</td>\n",
       "      <td>ZETA</td>\n",
       "      <td>19.0</td>\n",
       "      <td>17.0</td>\n",
       "      <td>12.0</td>\n",
       "      <td>17.0</td>\n",
       "      <td>20.0</td>\n",
       "      <td>16.0</td>\n",
       "      <td>101.0</td>\n",
       "      <td>A</td>\n",
       "      <td>95.0</td>\n",
       "    </tr>\n",
       "    <tr>\n",
       "      <th>192</th>\n",
       "      <td>717</td>\n",
       "      <td>NaN</td>\n",
       "      <td>ZETA</td>\n",
       "      <td>19.0</td>\n",
       "      <td>14.0</td>\n",
       "      <td>17.0</td>\n",
       "      <td>16.0</td>\n",
       "      <td>20.0</td>\n",
       "      <td>19.0</td>\n",
       "      <td>105.0</td>\n",
       "      <td>A</td>\n",
       "      <td>95.0</td>\n",
       "    </tr>\n",
       "  </tbody>\n",
       "</table>\n",
       "<p>193 rows × 12 columns</p>\n",
       "</div>"
      ],
      "text/plain": [
       "     index  S.NO SECTION    DV  M-II    PP  BEEE    FL  FIMS  Total Value  \\\n",
       "0        2   3.0   ALPHA  18.0  14.0  18.0  18.0  18.0  16.0        102.0   \n",
       "1        4   5.0   ALPHA  18.0  17.0  19.0  19.0  20.0  18.0        111.0   \n",
       "2        7   8.0   ALPHA  17.0  17.0  19.0  20.0  19.0  13.0        105.0   \n",
       "3        9  10.0   ALPHA  18.0  19.0  20.0  20.0  20.0  15.0        112.0   \n",
       "4       10  11.0   ALPHA  17.0  18.0  20.0  18.0  20.0  18.0        111.0   \n",
       "..     ...   ...     ...   ...   ...   ...   ...   ...   ...          ...   \n",
       "188    694   NaN    ZETA  20.0  19.0  14.0  20.0  20.0  19.0        112.0   \n",
       "189    697   NaN    ZETA  18.0  15.0  15.0  20.0  20.0  19.0        107.0   \n",
       "190    698   NaN    ZETA  18.0  17.0  15.0  16.0  20.0  16.0        102.0   \n",
       "191    709   NaN    ZETA  19.0  17.0  12.0  17.0  20.0  16.0        101.0   \n",
       "192    717   NaN    ZETA  19.0  14.0  17.0  16.0  20.0  19.0        105.0   \n",
       "\n",
       "    Grade  Percentage  \n",
       "0       A        90.0  \n",
       "1       A        90.0  \n",
       "2       B        85.0  \n",
       "3       A        90.0  \n",
       "4       B        85.0  \n",
       "..    ...         ...  \n",
       "188     A       100.0  \n",
       "189     A        90.0  \n",
       "190     A        90.0  \n",
       "191     A        95.0  \n",
       "192     A        95.0  \n",
       "\n",
       "[193 rows x 12 columns]"
      ]
     },
     "execution_count": 104,
     "metadata": {},
     "output_type": "execute_result"
    }
   ],
   "source": [
    "df1=df.loc[(df['Total Value'] >= 100) & (df['Total Value'] <= 200)]\n",
    "df1=df1.reset_index()\n",
    "df1"
   ]
  },
  {
   "cell_type": "markdown",
   "id": "cd6ac001",
   "metadata": {},
   "source": [
    "# Total marks 100-200 is filtered from the data set"
   ]
  },
  {
   "cell_type": "code",
   "execution_count": null,
   "id": "ac8a6ea8",
   "metadata": {},
   "outputs": [],
   "source": [
    "#2\n",
    "df1.plot.scatter(x='DV',y='Total Value',color='orange',s=40)\n",
    "plt.title(\"100-200 Marks ANALYSIS\")\n",
    "plt.show()"
   ]
  },
  {
   "cell_type": "markdown",
   "id": "9ef4d13b",
   "metadata": {},
   "source": [
    "# Majority of the students in this range scored marks between 16-20 in DV and very few, only one students scored below 12 marks, maximum mark scored is 20 by more students."
   ]
  },
  {
   "cell_type": "code",
   "execution_count": null,
   "id": "9a793c83",
   "metadata": {},
   "outputs": [],
   "source": [
    "df1.plot.scatter(x='M-II',y='Total Value',color='purple',s=40)\n",
    "plt.title(\"100-200 Marks ANALYSIS\")\n",
    "plt.show()"
   ]
  },
  {
   "cell_type": "markdown",
   "id": "dc0fd1a1",
   "metadata": {},
   "source": [
    "# Majority of the students in this range scored marks between 14-20 in M-II and very few, only one students scored below 8 marks, maximum mark scored is 20 by more students."
   ]
  },
  {
   "cell_type": "code",
   "execution_count": null,
   "id": "e947231b",
   "metadata": {},
   "outputs": [],
   "source": [
    "df1.plot.scatter(x='BEEE',y='Total Value',color='violet',s=40)\n",
    "plt.title(\"100-200 Marks ANALYSIS\")\n",
    "plt.show()"
   ]
  },
  {
   "cell_type": "markdown",
   "id": "29ef5037",
   "metadata": {},
   "source": [
    "# Majority of the students in this range scored marks between 14-20 in BEEE and very few, only one students scored below 8 marks, maximum mark scored is 20 by more students.\n"
   ]
  },
  {
   "cell_type": "code",
   "execution_count": null,
   "id": "f323714b",
   "metadata": {},
   "outputs": [],
   "source": [
    "df1.plot.scatter(x='PP',y='Total Value',color='yellow',s=40)\n",
    "plt.title(\"100-200 Marks ANALYSIS\")\n",
    "plt.show()"
   ]
  },
  {
   "cell_type": "markdown",
   "id": "e9ecadd2",
   "metadata": {},
   "source": [
    "# Majority of the students in this range scored marks between 14-20 in PP and very few, only one students scored below 8 marks, maximum mark scored is 20 by more students.\n"
   ]
  },
  {
   "cell_type": "code",
   "execution_count": null,
   "id": "6eb61f73",
   "metadata": {},
   "outputs": [],
   "source": [
    "df1.plot.scatter(x='FL',y='Total Value',color='brown',s=40)\n",
    "plt.title(\"100-200 Marks ANALYSIS\")\n",
    "plt.show()"
   ]
  },
  {
   "cell_type": "markdown",
   "id": "3dccfc9c",
   "metadata": {},
   "source": [
    "# Majority of the students in this range scored marks between 18-20 in FL and very few, only Three students scored below 14 marks, maximum mark scored is 20 by more students."
   ]
  },
  {
   "cell_type": "code",
   "execution_count": null,
   "id": "edbf4d3b",
   "metadata": {},
   "outputs": [],
   "source": [
    "df1.plot.scatter(x='FIMS',y='Total Value',color='purple',s=40)\n",
    "plt.title(\"100-200 Marks ANALYSIS\")\n",
    "plt.show()"
   ]
  },
  {
   "cell_type": "markdown",
   "id": "b1086e06",
   "metadata": {},
   "source": [
    "# Majority of the students in this range scored marks between 14-20 in FIMS and very few, only one students scored below 8 marks, maximum mark scored is 20 by more students.\n"
   ]
  },
  {
   "cell_type": "code",
   "execution_count": null,
   "id": "704ad911",
   "metadata": {},
   "outputs": [],
   "source": [
    "df1=df.loc[(df['Total Value'] >= 100) & (df['Total Value'] <= 450)]\n",
    "df1=df1.reset_index()\n",
    "df1"
   ]
  },
  {
   "cell_type": "code",
   "execution_count": null,
   "id": "60f3d5ee",
   "metadata": {},
   "outputs": [],
   "source": [
    "df1.boxplot(by='DV', column =['Total Value'], grid = False,color='blue',figsize=[5,8])\n",
    "plt.title(\"100-450 Marks\")\n",
    "plt.ylabel(\"Total\")\n",
    "plt.show()"
   ]
  },
  {
   "cell_type": "markdown",
   "id": "5a6fc80b",
   "metadata": {},
   "source": [
    "# Majority of the students who attempted the DV in this range scored marks between 16 and 20 "
   ]
  },
  {
   "cell_type": "code",
   "execution_count": null,
   "id": "c87ebe76",
   "metadata": {},
   "outputs": [],
   "source": [
    "#3\n",
    "df1.boxplot(by='M-II', column =['Total Value'], grid = False,color='yellow',figsize=[5,8])\n",
    "plt.title(\"100-450 Marks\")\n",
    "plt.ylabel(\"Total\")\n",
    "plt.show()"
   ]
  },
  {
   "cell_type": "markdown",
   "id": "a407c93b",
   "metadata": {},
   "source": [
    "# Majority of the students who attempted the M-II in this range scored marks between 16 and 20 "
   ]
  },
  {
   "cell_type": "code",
   "execution_count": null,
   "id": "4c72cd78",
   "metadata": {
    "scrolled": true
   },
   "outputs": [],
   "source": [
    "df1.boxplot(by='PP', column =['Total Value'], grid = False,color='green',figsize=[5,8])\n",
    "plt.title(\"100-450 Marks\")\n",
    "plt.ylabel(\"Total\")\n",
    "plt.show()"
   ]
  },
  {
   "cell_type": "markdown",
   "id": "07ab6434",
   "metadata": {},
   "source": [
    "# Majority of the students who attempted the PP in this range scored marks between 16 and 20 "
   ]
  },
  {
   "cell_type": "code",
   "execution_count": null,
   "id": "8b92f2e4",
   "metadata": {
    "scrolled": true
   },
   "outputs": [],
   "source": [
    "df1.boxplot(by='BEEE', column =['Total Value'], grid = False,color='pink',figsize=[5,8])\n",
    "plt.title(\"100-450 Marks\")\n",
    "plt.ylabel(\"Total\")\n",
    "plt.show()"
   ]
  },
  {
   "cell_type": "markdown",
   "id": "827d495e",
   "metadata": {},
   "source": [
    "# Majority of the students who attempted the BEEE in this range scored marks between 16 and 20 "
   ]
  },
  {
   "cell_type": "code",
   "execution_count": null,
   "id": "222327e4",
   "metadata": {},
   "outputs": [],
   "source": [
    "df1.boxplot(by='FL', column =['Total Value'], grid = False,color='red',figsize=[5,8])\n",
    "plt.title(\"100-450 Marks\")\n",
    "plt.ylabel(\"Total\")\n",
    "plt.show()"
   ]
  },
  {
   "cell_type": "markdown",
   "id": "5d42cd4d",
   "metadata": {},
   "source": [
    "# Majority of the students who attempted the FL in this range scored marks between 13 and 20 "
   ]
  },
  {
   "cell_type": "code",
   "execution_count": null,
   "id": "ffe0d71a",
   "metadata": {},
   "outputs": [],
   "source": [
    "df1.boxplot(by='FIMS', column =['Total Value'], grid = False,color='brown',figsize=[5,8])\n",
    "plt.title(\"100-450 Marks\")\n",
    "plt.ylabel(\"Total\")\n",
    "plt.show()"
   ]
  },
  {
   "cell_type": "markdown",
   "id": "5e8e9351",
   "metadata": {},
   "source": [
    "# Majority of the students who attempted the FIMS in this range scored marks between 15 and 20 "
   ]
  },
  {
   "cell_type": "code",
   "execution_count": null,
   "id": "b3db00c5",
   "metadata": {},
   "outputs": [],
   "source": [
    "df1=df.loc[(df['Total Value']>=50) & (df['Total Value']<=550)]\n",
    "df1=df1.reset_index()\n",
    "df1"
   ]
  },
  {
   "cell_type": "markdown",
   "id": "0e3031a5",
   "metadata": {},
   "source": [
    "# Total marks 50-550 is filtered from the data set"
   ]
  },
  {
   "cell_type": "code",
   "execution_count": null,
   "id": "1945f29b",
   "metadata": {},
   "outputs": [],
   "source": [
    "df1.plot.line(x='DV',y='Total Value',color='orange')\n",
    "plt.title(\"Line Graph of DV\")\n",
    "plt.ylabel(\"Total\")\n",
    "plt.show()"
   ]
  },
  {
   "cell_type": "markdown",
   "id": "c5464443",
   "metadata": {},
   "source": [
    "# It can be increased from the above line graph that majority of the students in this range scored marks between 5 and 20. The maximum mark is 20 and minimum mark is 2 meaning none of the students left the question unattempted."
   ]
  },
  {
   "cell_type": "code",
   "execution_count": null,
   "id": "c78468aa",
   "metadata": {},
   "outputs": [],
   "source": [
    "df1.plot.line(x='M-II',y='Total Value',color='green')\n",
    "plt.title(\"Line Graph of M-II\")\n",
    "plt.ylabel(\"Total\")\n",
    "plt.show()"
   ]
  },
  {
   "cell_type": "markdown",
   "id": "0a6becd3",
   "metadata": {},
   "source": [
    "# It can be increased from the above line graph that majority of the students in this range scored marks between 0 and 20. The maximum mark is 20 and minimum mark is 0 meaning none of the students left the question unattempted."
   ]
  },
  {
   "cell_type": "code",
   "execution_count": null,
   "id": "2f48e01e",
   "metadata": {},
   "outputs": [],
   "source": [
    "df1.plot.line(x='BEEE',y='Total Value',color='blue')\n",
    "plt.title(\"Line Graph of BEEE\")\n",
    "plt.ylabel(\"Total\")\n",
    "plt.show()"
   ]
  },
  {
   "cell_type": "markdown",
   "id": "8a2879be",
   "metadata": {},
   "source": [
    "# It can be increased from the above line graph that majority of the students in this range scored marks between 0 and 20. The maximum mark is 20 and minimum mark is 0 meaning none of the students left the question unattempted."
   ]
  },
  {
   "cell_type": "code",
   "execution_count": null,
   "id": "02f5609f",
   "metadata": {},
   "outputs": [],
   "source": [
    "#4\n",
    "df1.plot.line(x='PP',y='Total Value',color='yellow')\n",
    "plt.title(\"Line Graph of PP\")\n",
    "plt.ylabel(\"Total\")\n",
    "plt.show()"
   ]
  },
  {
   "cell_type": "markdown",
   "id": "6edd5182",
   "metadata": {},
   "source": [
    "# It can be increased from the above line graph that majority of the students in this range scored marks between 0 and 20. The maximum mark is 20 and minimum mark is 0 meaning none of the students left the question unattempted."
   ]
  },
  {
   "cell_type": "code",
   "execution_count": null,
   "id": "df4212dc",
   "metadata": {},
   "outputs": [],
   "source": [
    "df1.plot.line(x='FL',y='Total Value',color='brown')\n",
    "plt.title(\"Line Graph of FL\")\n",
    "plt.ylabel(\"Total\")\n",
    "plt.show()"
   ]
  },
  {
   "cell_type": "markdown",
   "id": "4fc4a08d",
   "metadata": {},
   "source": [
    "# The students in this range scored 10-20 marks on an average The maximum mark is 20 whereas minimum mark is 6,meaning some students did not attempt this question."
   ]
  },
  {
   "cell_type": "code",
   "execution_count": null,
   "id": "423330c8",
   "metadata": {},
   "outputs": [],
   "source": [
    "df1['DV'].plot(kind='pie',subplots=True,figsize=(8,8))\n",
    "plt.title(\"Pie Chart of DV\")"
   ]
  },
  {
   "cell_type": "markdown",
   "id": "9f05ba8a",
   "metadata": {},
   "source": [
    "# From the above pie chart we can deduce that most of the student who scored marks between 50 and 550, the minimum mark is 0"
   ]
  },
  {
   "cell_type": "code",
   "execution_count": null,
   "id": "77a7be08",
   "metadata": {},
   "outputs": [],
   "source": [
    "#5\n",
    "df1['BEEE'].plot(kind='pie',subplots=True,figsize=(8,8))\n",
    "plt.title(\"Pie Chart of BEEE\")"
   ]
  },
  {
   "cell_type": "markdown",
   "id": "74ac11d5",
   "metadata": {},
   "source": [
    "# From the above pie chart we can deduce that most of the student who scored marks between 50 and 550, the minimum mark is 0"
   ]
  },
  {
   "cell_type": "markdown",
   "id": "14a7bfc8",
   "metadata": {},
   "source": [
    "# cs_4 codes"
   ]
  },
  {
   "cell_type": "code",
   "execution_count": null,
   "id": "74b3887a",
   "metadata": {},
   "outputs": [],
   "source": [
    "#6\n",
    "df1.plot()\n",
    "plt.show()"
   ]
  },
  {
   "cell_type": "code",
   "execution_count": null,
   "id": "631166af",
   "metadata": {},
   "outputs": [],
   "source": [
    "df1['Total Value']=df['DV']+df[\"M-II\"]\n",
    "plt.hist(df['Total Value'],color='green',edgecolor='black',bins=9)\n",
    "plt.xlabel(\"Marks scored in DV and M-II\")\n",
    "plt.ylabel(\"No.of students\")\n",
    "plt.title(\"Histogram of Total Value\")"
   ]
  },
  {
   "cell_type": "markdown",
   "id": "8675ca6d",
   "metadata": {},
   "source": [
    "# most of the students are scored above 60 marks in DV and M-II"
   ]
  },
  {
   "cell_type": "code",
   "execution_count": null,
   "id": "298ed450",
   "metadata": {},
   "outputs": [],
   "source": [
    "df1['Total Value']=df['DV']+df[\"PP\"]\n",
    "plt.hist(df['Total Value'],color='red',edgecolor='black',bins=9)\n",
    "plt.xlabel(\"Marks scored in DV and PP\")\n",
    "plt.ylabel(\"No.of students\")\n",
    "plt.title(\"Histogram of Total Value\")"
   ]
  },
  {
   "cell_type": "markdown",
   "id": "d26e6657",
   "metadata": {},
   "source": [
    "# DV and PP from above 50 students are scored 100 marks, less than 10 students scored minimum marks between 10 to 20"
   ]
  },
  {
   "cell_type": "code",
   "execution_count": null,
   "id": "cfe2e7c0",
   "metadata": {},
   "outputs": [],
   "source": [
    "df1['Total Value']=df['DV']+df[\"BEEE\"]\n",
    "plt.hist(df['Total Value'],color='pink',edgecolor='blue',bins=9)\n",
    "plt.xlabel(\"Marks scored in DV and BEEE\")\n",
    "plt.ylabel(\"No.of students\")\n",
    "plt.title(\"Histogram of Total Value\")"
   ]
  },
  {
   "cell_type": "markdown",
   "id": "e481ba63",
   "metadata": {},
   "source": [
    "# DV and BEEE from above 60 students are scored 100 marks, less than 10 students scored minimum marks between 10 to 20"
   ]
  },
  {
   "cell_type": "code",
   "execution_count": null,
   "id": "347b7b16",
   "metadata": {},
   "outputs": [],
   "source": [
    "#7\n",
    "df1['Total Value']=df['DV']+df[\"FL\"]\n",
    "plt.hist(df['Total Value'],color='violet',edgecolor='blue',bins=9)\n",
    "plt.xlabel(\"Marks scored in DV and FL\")\n",
    "plt.ylabel(\"No.of students\")\n",
    "plt.title(\"Histogram of Total Value\")"
   ]
  },
  {
   "cell_type": "markdown",
   "id": "d5f68e1e",
   "metadata": {},
   "source": [
    "# DV and FL from above 600 students are scored 100 marks, less than 10 students scored minimum marks between 10 to 20"
   ]
  },
  {
   "cell_type": "code",
   "execution_count": null,
   "id": "0ca238ec",
   "metadata": {},
   "outputs": [],
   "source": [
    "df1['Total Value']=df['DV']+df[\"FIMS\"]\n",
    "plt.hist(df['Total Value'],color='purple',edgecolor='red',bins=9)\n",
    "plt.xlabel(\"Marks scored in DV and FIMS\")\n",
    "plt.ylabel(\"No.of students\")\n",
    "plt.title(\"Histogram of Total Value\")"
   ]
  },
  {
   "cell_type": "markdown",
   "id": "a8b1e1f4",
   "metadata": {},
   "source": [
    "# DV and PP from above 100 students are scored 100 marks, less than 10 students scored minimum marks between 10 to 20"
   ]
  },
  {
   "cell_type": "code",
   "execution_count": null,
   "id": "cc923850",
   "metadata": {},
   "outputs": [],
   "source": [
    "df.plot.scatter(x = 'DV', y = 'Total Value',color='pink',s=30)\n",
    "plt.title(\"Scatter Plot for DV\")"
   ]
  },
  {
   "cell_type": "markdown",
   "id": "1efcc86d",
   "metadata": {},
   "source": [
    "# In DV subject many students are got more marks"
   ]
  },
  {
   "cell_type": "code",
   "execution_count": null,
   "id": "b6da43da",
   "metadata": {},
   "outputs": [],
   "source": [
    "df.plot.scatter(x = 'M-II', y = 'Total Value',color='green',s=30)\n",
    "plt.title(\"Scatter Plot for M-II\")"
   ]
  },
  {
   "cell_type": "markdown",
   "id": "229499f4",
   "metadata": {},
   "source": [
    "# In M-II subject many students are got more marks"
   ]
  },
  {
   "cell_type": "code",
   "execution_count": null,
   "id": "0390c280",
   "metadata": {},
   "outputs": [],
   "source": [
    "df.plot.scatter(x = 'PP', y = 'Total Value',color='orange',s=30)\n",
    "plt.title(\"Scatter Plot for PP\")"
   ]
  },
  {
   "cell_type": "markdown",
   "id": "c805bfa8",
   "metadata": {},
   "source": [
    "# In PP subject many students are got more marks"
   ]
  },
  {
   "cell_type": "code",
   "execution_count": null,
   "id": "9549d699",
   "metadata": {},
   "outputs": [],
   "source": [
    "df.plot.scatter(x = 'FL', y = 'Total Value',color='yellow',s=30)\n",
    "plt.title(\"Scatter Plot for FL\")"
   ]
  },
  {
   "cell_type": "markdown",
   "id": "2f05645e",
   "metadata": {},
   "source": [
    "# In FL subject many students are got more marks"
   ]
  },
  {
   "cell_type": "code",
   "execution_count": null,
   "id": "798c10e3",
   "metadata": {},
   "outputs": [],
   "source": [
    "df.plot.scatter(x = 'FIMS', y = 'Total Value',color='red',s=30)\n",
    "plt.title(\"Scatter Plot for FIMS\")"
   ]
  },
  {
   "cell_type": "markdown",
   "id": "ae292ef8",
   "metadata": {},
   "source": [
    "# In FIMS subject many students are got more marks"
   ]
  },
  {
   "cell_type": "code",
   "execution_count": null,
   "id": "93487bce",
   "metadata": {},
   "outputs": [],
   "source": [
    "df1.boxplot(by='DV', column =['Total Value'], grid = False,color='pink')\n",
    "plt.title(\"Boxplot of DV\")\n",
    "plt.ylabel(\"Total Value\")\n",
    "plt.show()"
   ]
  },
  {
   "cell_type": "markdown",
   "id": "78abfab8",
   "metadata": {},
   "source": [
    "# Box plot subject by DV  with less score and high score also"
   ]
  },
  {
   "cell_type": "code",
   "execution_count": null,
   "id": "99281a1e",
   "metadata": {},
   "outputs": [],
   "source": [
    "df1.boxplot(by='M-II', column =['Total Value'], grid = False,color='orange')\n",
    "plt.title(\"Boxplot of M-II\")\n",
    "plt.ylabel(\"Total Value\")\n",
    "plt.show()"
   ]
  },
  {
   "cell_type": "markdown",
   "id": "a2aa0114",
   "metadata": {},
   "source": [
    "# Box plot subject by M-II with less score and high score also"
   ]
  },
  {
   "cell_type": "code",
   "execution_count": null,
   "id": "06a9b425",
   "metadata": {},
   "outputs": [],
   "source": [
    "df1.boxplot(by='BEEE', column =['Total Value'], grid = False,color='yellow')\n",
    "plt.title(\"Boxplot of BEEE\")\n",
    "plt.ylabel(\"Total Value\")\n",
    "plt.show()"
   ]
  },
  {
   "cell_type": "markdown",
   "id": "3f526fbb",
   "metadata": {},
   "source": [
    "# Box plot subject by BEEE  with less score and high score also"
   ]
  },
  {
   "cell_type": "code",
   "execution_count": null,
   "id": "86a245c8",
   "metadata": {},
   "outputs": [],
   "source": [
    "df1.boxplot(by='FL', column =['Total Value'], grid = False,color='green')\n",
    "plt.title(\"Boxplot of FL\")\n",
    "plt.ylabel(\"Total Value\")\n",
    "plt.show()"
   ]
  },
  {
   "cell_type": "markdown",
   "id": "1fa1906d",
   "metadata": {},
   "source": [
    "# Box plot subject by FL  with less score and high score also"
   ]
  },
  {
   "cell_type": "code",
   "execution_count": null,
   "id": "c3d71187",
   "metadata": {},
   "outputs": [],
   "source": [
    "df1.boxplot(by='FIMS', column =['Total Value'], grid = False,color='purple')\n",
    "plt.title(\"Boxplot of FIMS\")\n",
    "plt.ylabel(\"Total Value\")\n",
    "plt.show()"
   ]
  },
  {
   "cell_type": "markdown",
   "id": "069d316c",
   "metadata": {},
   "source": [
    "# Box plot subject by FIMS with less score and high score also"
   ]
  },
  {
   "cell_type": "code",
   "execution_count": null,
   "id": "3dbd7e2b",
   "metadata": {},
   "outputs": [],
   "source": [
    "df1.plot.line(x='DV',y='Total Value',color='green')\n",
    "plt.title(\"Line Graph of DV\")\n",
    "plt.ylabel(\"Total Value\")"
   ]
  },
  {
   "cell_type": "markdown",
   "id": "e0761787",
   "metadata": {},
   "source": [
    "# This is an line graph of DV"
   ]
  },
  {
   "cell_type": "code",
   "execution_count": null,
   "id": "8407990a",
   "metadata": {},
   "outputs": [],
   "source": [
    "df1.plot.line(x='M-II',y='Total Value',color='orange')\n",
    "plt.title(\"Line Graph of M-II\")\n",
    "plt.ylabel(\"Total Value\")"
   ]
  },
  {
   "cell_type": "markdown",
   "id": "3c48f5e7",
   "metadata": {},
   "source": [
    "# This is an line graph of M-II"
   ]
  },
  {
   "cell_type": "code",
   "execution_count": null,
   "id": "77e61877",
   "metadata": {},
   "outputs": [],
   "source": [
    "df1.plot.line(x='BEEE',y='Total Value',color='blue')\n",
    "plt.title(\"Line Graph of BEEE\")\n",
    "plt.ylabel(\"Total Value\")"
   ]
  },
  {
   "cell_type": "markdown",
   "id": "2235bc3f",
   "metadata": {},
   "source": [
    "# This is an line graph of BEEE"
   ]
  },
  {
   "cell_type": "code",
   "execution_count": null,
   "id": "4b823de1",
   "metadata": {},
   "outputs": [],
   "source": [
    "df1.plot.line(x='PP',y='Total Value',color='purple')\n",
    "plt.title(\"Line Graph of PP\")\n",
    "plt.ylabel(\"Total Value\")"
   ]
  },
  {
   "cell_type": "markdown",
   "id": "ca60e66e",
   "metadata": {},
   "source": [
    "# This is an line graph of PP"
   ]
  },
  {
   "cell_type": "code",
   "execution_count": null,
   "id": "95da6e24",
   "metadata": {},
   "outputs": [],
   "source": [
    "df1.plot.line(x='FL',y='Total Value',color='brown')\n",
    "plt.title(\"Line Graph of FL\")\n",
    "plt.ylabel(\"Total Value\")"
   ]
  },
  {
   "cell_type": "markdown",
   "id": "8f8732d4",
   "metadata": {},
   "source": [
    "# This is an line graph of FL"
   ]
  },
  {
   "cell_type": "code",
   "execution_count": null,
   "id": "e3dc98bb",
   "metadata": {},
   "outputs": [],
   "source": [
    "df1.plot.line(x='FIMS',y='Total Value',color='violet')\n",
    "plt.title(\"Line Graph of FIMS\")\n",
    "plt.ylabel(\"Total Value\")"
   ]
  },
  {
   "cell_type": "markdown",
   "id": "4c159e35",
   "metadata": {},
   "source": [
    "# This is an line graph of FIMS"
   ]
  },
  {
   "cell_type": "code",
   "execution_count": null,
   "id": "7d13d9c0",
   "metadata": {},
   "outputs": [],
   "source": [
    "df1[\"DV\"].plot(kind='pie',subplots=True,figsize=(8,10))\n",
    "plt.title(\"Pie Chart of DV\")"
   ]
  },
  {
   "cell_type": "markdown",
   "id": "98e1acf8",
   "metadata": {},
   "source": [
    "# this is pie chart for DV subject marks scored"
   ]
  },
  {
   "cell_type": "code",
   "execution_count": null,
   "id": "98222c73",
   "metadata": {},
   "outputs": [],
   "source": [
    "n1=pd.read_csv(\"class_marks.csv\",skiprows=70)\n",
    "n1\n",
    "n1['1'].plot(kind='pie',figsize=(8,10))\n",
    "plt.title(\"Piechart of marks in DV\")"
   ]
  },
  {
   "cell_type": "markdown",
   "id": "70cb1d6d",
   "metadata": {},
   "source": [
    "# This is an pie chart graph of DV maximum marks scored by students"
   ]
  },
  {
   "cell_type": "code",
   "execution_count": null,
   "id": "ae92fe28",
   "metadata": {},
   "outputs": [],
   "source": [
    "n1=pd.read_csv(\"class_marks.csv\",skiprows=70)\n",
    "n1\n",
    "n1['1'].plot(kind='pie',figsize=(8,10))\n",
    "plt.title(\"Piechart of marks in PP\")"
   ]
  },
  {
   "cell_type": "markdown",
   "id": "c597993d",
   "metadata": {},
   "source": [
    "# This is an pie chart graph of PP maximum marks scored by students "
   ]
  },
  {
   "cell_type": "code",
   "execution_count": null,
   "id": "8cab4ec7",
   "metadata": {},
   "outputs": [],
   "source": [
    "n1=pd.read_csv(\"class_marks.csv\",skiprows=70)\n",
    "n1\n",
    "n1['1'].plot(kind='pie',figsize=(8,10))\n",
    "plt.title(\"Piechart of marks in FIMS\")"
   ]
  },
  {
   "cell_type": "markdown",
   "id": "b748ed60",
   "metadata": {},
   "source": [
    "# This is an pie chart graph of FIMS maximum marks scored by students"
   ]
  },
  {
   "cell_type": "code",
   "execution_count": null,
   "id": "1bc06a86",
   "metadata": {},
   "outputs": [],
   "source": [
    "n1=pd.read_csv(\"class_marks.csv\",skiprows=70)\n",
    "n1\n",
    "n1['1'].plot(kind='pie',figsize=(8,10))\n",
    "plt.title(\"Piechart of marks in FL\")"
   ]
  },
  {
   "cell_type": "markdown",
   "id": "649fd95e",
   "metadata": {},
   "source": [
    "# This is an pie chart graph of FL maximum marks scored by students"
   ]
  },
  {
   "cell_type": "code",
   "execution_count": null,
   "id": "a9868d6d",
   "metadata": {},
   "outputs": [],
   "source": [
    "import pandas as pd\n",
    "data = pd.ExcelFile(r\"C:\\Users\\kodad\\Desktop\\III-II\\DA\\MIDMARKS-MINOR1-EXAM.xlsx\")\n",
    "sheet_name = 'SEM2 MID 1 - ALPHA'\n",
    "df = data.parse(sheet_name)\n",
    "df['DV'] = pd.to_numeric(df['DV'], errors='coerce') \n",
    "\n",
    "students_less_than_10 = df[df['DV'] < 10]\n",
    "section_wise_counts = students_less_than_10.groupby('SECTION').size()\n",
    "\n",
    "print(\"Number of students scoring less than 10 in DV, section-wise:\")\n",
    "print(section_wise_counts)\n",
    "data"
   ]
  },
  {
   "cell_type": "code",
   "execution_count": null,
   "id": "f3b05ac1",
   "metadata": {},
   "outputs": [],
   "source": [
    "df[['DV', 'PP', 'BEEE', 'FL', 'FIMS', 'M-II']] = df[['DV', 'PP', 'BEEE', 'FL', 'FIMS', 'M-II']].apply(pd.to_numeric, errors='coerce')\n",
    "students_less_than_11 = df[\n",
    "    (df['DV'] < 10) & \n",
    "    (df['PP'] < 10) & \n",
    "    (df['BEEE'] < 10) & \n",
    "    (df['FL'] < 10) & \n",
    "    (df['FIMS'] < 10) & \n",
    "    (df['M-II'] < 10)\n",
    "]\n",
    "section_wise_counts = students_less_than_11.groupby('SECTION').size()\n",
    "print(section_wise_counts)"
   ]
  },
  {
   "cell_type": "code",
   "execution_count": null,
   "id": "763660ca",
   "metadata": {},
   "outputs": [],
   "source": [
    "df[['DV', 'PP', 'BEEE', 'FL', 'FIMS', 'M-II']] = df[['DV', 'PP', 'BEEE', 'FL', 'FIMS', 'M-II']].apply(pd.to_numeric, errors='coerce')\n",
    "students_less_than_11 = df[\n",
    "    (df['DV'] < 10) |\n",
    "    (df['PP'] < 10) |\n",
    "    (df['BEEE'] < 10) | \n",
    "    (df['FL'] < 10) |\n",
    "    (df['FIMS'] < 10) | \n",
    "    (df['M-II'] < 10)\n",
    "]\n",
    "section_wise_counts = students_less_than_11.groupby('SECTION').size()\n",
    "print(section_wise_counts)"
   ]
  },
  {
   "cell_type": "markdown",
   "id": "a6e39a19",
   "metadata": {},
   "source": [
    "# SEABORN"
   ]
  },
  {
   "cell_type": "code",
   "execution_count": null,
   "id": "d16b1c53",
   "metadata": {},
   "outputs": [],
   "source": [
    "import pandas as pd\n",
    "import seaborn as sns\n",
    "import matplotlib.pyplot as plt\n",
    "sb = pd.read_excel(\"MIDMARKS-MINOR1-EXAM.xlsx\")\n",
    "sb"
   ]
  },
  {
   "cell_type": "code",
   "execution_count": null,
   "id": "0164049b",
   "metadata": {},
   "outputs": [],
   "source": [
    "sb=sb.fillna(0)\n",
    "sb"
   ]
  },
  {
   "cell_type": "code",
   "execution_count": null,
   "id": "18982f9a",
   "metadata": {},
   "outputs": [],
   "source": [
    "import pandas as pd\n",
    "\n",
    "file_path = 'MIDMARKS-MINOR1-EXAM.xlsx' \n",
    "sb = pd.read_excel(file_path)\n",
    "\n",
    "columns_to_sum = [\"DV\", \"M-II\", \"PP\", \"BEEE\", \"FL\", \"FIMS\"]\n",
    "\n",
    "\n",
    "sb[columns_to_sum] = sb[columns_to_sum].apply(pd.to_numeric, errors='coerce')\n",
    "\n",
    "sb[\"Total\"] = sb[columns_to_sum].sum(axis=1)\n",
    "\n",
    "\n",
    "output_file_path = 'MIDMARKS_WITH_TOTAL.xlsx'  \n",
    "sb.to_excel(output_file_path, index=False)\n",
    "\n",
    "print(f\"File with 'Total' column saved to {output_file_path}\")"
   ]
  },
  {
   "cell_type": "code",
   "execution_count": null,
   "id": "ed044bfe",
   "metadata": {},
   "outputs": [],
   "source": [
    "sb"
   ]
  },
  {
   "cell_type": "code",
   "execution_count": null,
   "id": "a4f8acf1",
   "metadata": {},
   "outputs": [],
   "source": [
    "subjects = [\"DV\", \"M-II\", \"PP\", \"BEEE\", \"FL\", \"FIMS\"]\n",
    "for subject in subjects:\n",
    "    sb[subject] = pd.to_numeric(sb[subject], errors='coerce').fillna(0)\n",
    "    sb[f\"{subject}_Backlog\"] = (sb[subject] < 10).astype(int)\n",
    "sb[\"Backlog Count\"] = sb[[f\"{subject}_Backlog\" for subject in subjects]].sum(axis=1)\n",
    "sb"
   ]
  },
  {
   "cell_type": "code",
   "execution_count": null,
   "id": "85097c14",
   "metadata": {},
   "outputs": [],
   "source": [
    "sb[\"Backlog Count\"] = sb[['DV_Backlog', 'M-II_Backlog', 'PP_Backlog', 'BEEE_Backlog', 'FL_Backlog', 'FIMS_Backlog']].sum(axis=1)\n",
    "students_with_one_backlog = sb[sb[\"Backlog Count\"] == 1]\n",
    "count_with_one_backlog = len(students_with_one_backlog)\n",
    "\n",
    "print(f\"Number of students with exactly 1 backlog: {count_with_one_backlog}\")"
   ]
  },
  {
   "cell_type": "code",
   "execution_count": null,
   "id": "4ba371d2",
   "metadata": {},
   "outputs": [],
   "source": [
    "sb"
   ]
  },
  {
   "cell_type": "code",
   "execution_count": null,
   "id": "4d1bb5d8",
   "metadata": {},
   "outputs": [],
   "source": [
    "import matplotlib.pyplot as plt\n",
    "\n",
    "sb['Backlog Count'].plot()\n",
    "plt.show"
   ]
  },
  {
   "cell_type": "code",
   "execution_count": null,
   "id": "d537b19b",
   "metadata": {},
   "outputs": [],
   "source": [
    "import seaborn as sns\n",
    "#8\n",
    "x=sb.DV\n",
    "y=sb.DV_Backlog\n",
    "plt.xlabel(\"DV\")\n",
    "plt.ylabel(\"DV_Backlog\")\n",
    "sns.lineplot(x=x,y=y)\n",
    "plt.show()"
   ]
  },
  {
   "cell_type": "code",
   "execution_count": null,
   "id": "2bc7d42f",
   "metadata": {},
   "outputs": [],
   "source": [
    "sb=sb.fillna(0)\n",
    "sb"
   ]
  },
  {
   "cell_type": "code",
   "execution_count": null,
   "id": "0aab8f51",
   "metadata": {},
   "outputs": [],
   "source": [
    "x=sb.PP\n",
    "y=sb.DV_Backlog\n",
    "plt.xlabel(\"DV\")\n",
    "plt.ylabel(\"DV_Backlog\")\n",
    "sns.lineplot(x=x,y=y)\n",
    "plt.show()"
   ]
  },
  {
   "cell_type": "markdown",
   "id": "8375d483",
   "metadata": {},
   "source": [
    "# we load the midmarks dataset in seaborn with x and y axis"
   ]
  },
  {
   "cell_type": "code",
   "execution_count": null,
   "id": "83009bb2",
   "metadata": {},
   "outputs": [],
   "source": [
    "sns.histplot(sb)"
   ]
  },
  {
   "cell_type": "markdown",
   "id": "4f890b18",
   "metadata": {},
   "source": [
    "# it is a histogram plot of seaborn loaded dataset"
   ]
  },
  {
   "cell_type": "code",
   "execution_count": null,
   "id": "dc6e82d7",
   "metadata": {},
   "outputs": [],
   "source": [
    "plt.title('Title using Matplotlib Function in seaborn')\n",
    "sns.lineplot(x=\"DV\", y=\"DV_Backlog\", data=sb) "
   ]
  },
  {
   "cell_type": "markdown",
   "id": "e853839a",
   "metadata": {},
   "source": [
    "# we set the tittle in top of lineplot as \"Title using Matplotlib Function in seaborn\""
   ]
  },
  {
   "cell_type": "code",
   "execution_count": null,
   "id": "b3ef151a",
   "metadata": {},
   "outputs": [],
   "source": [
    "sb.head(10) "
   ]
  },
  {
   "cell_type": "code",
   "execution_count": null,
   "id": "0a5317ee",
   "metadata": {},
   "outputs": [],
   "source": [
    "sb[\"Backlog Count\"].plot(kind='pie',subplots=True,figsize=(8,10))\n",
    "plt.title(\"Backlog Count\")"
   ]
  },
  {
   "cell_type": "markdown",
   "id": "1dd724d9",
   "metadata": {},
   "source": [
    "# head part with 10 records of seaborn dataset"
   ]
  },
  {
   "cell_type": "code",
   "execution_count": null,
   "id": "bc6695e2",
   "metadata": {},
   "outputs": [],
   "source": [
    "sns.lineplot(x=\"DV\", y=\"DV_Backlog\", data=sb)\n",
    "sns.set_style('darkgrid')\n",
    "plt.show()"
   ]
  },
  {
   "cell_type": "markdown",
   "id": "dab40fb9",
   "metadata": {},
   "source": [
    "# color of the axes with darkgrid"
   ]
  },
  {
   "cell_type": "code",
   "execution_count": null,
   "id": "e4990200",
   "metadata": {},
   "outputs": [],
   "source": [
    "sns.lineplot(x=\"DV\", y=\"DV_Backlog\", data=sb)\n",
    "sns.set_style('whitegrid')\n",
    "plt.show()"
   ]
  },
  {
   "cell_type": "markdown",
   "id": "611c5b36",
   "metadata": {},
   "source": [
    "# color of the axes with whitegrid"
   ]
  },
  {
   "cell_type": "code",
   "execution_count": null,
   "id": "c1c95b43",
   "metadata": {},
   "outputs": [],
   "source": [
    "sns.lineplot(x=\"DV\", y=\"DV_Backlog\", data=sb)\n",
    "sns.set_style('dark')\n",
    "plt.show()"
   ]
  },
  {
   "cell_type": "markdown",
   "id": "9364cea9",
   "metadata": {},
   "source": [
    "# color of the axes with dark"
   ]
  },
  {
   "cell_type": "code",
   "execution_count": null,
   "id": "aedba495",
   "metadata": {},
   "outputs": [],
   "source": [
    "sns.lineplot(x=\"DV\", y=\"DV_Backlog\", data=sb)\n",
    "sns.set_style('white')\n",
    "plt.show()"
   ]
  },
  {
   "cell_type": "markdown",
   "id": "ec14df3a",
   "metadata": {},
   "source": [
    "# color of the axes with white"
   ]
  },
  {
   "cell_type": "code",
   "execution_count": null,
   "id": "66be9e31",
   "metadata": {},
   "outputs": [],
   "source": [
    "sns.lineplot(x=\"DV\", y=\"DV_Backlog\", data=sb)\n",
    "sns.set_style('ticks')\n",
    "plt.show()"
   ]
  },
  {
   "cell_type": "markdown",
   "id": "96d5f724",
   "metadata": {},
   "source": [
    "# color of the axes with ticks"
   ]
  },
  {
   "cell_type": "code",
   "execution_count": null,
   "id": "f4242aac",
   "metadata": {},
   "outputs": [],
   "source": [
    "sns.lineplot(x=\"DV\", y=\"DV_Backlog\", data=sb)\n",
    "sns.despine(left=True)\n",
    "plt.show()"
   ]
  },
  {
   "cell_type": "markdown",
   "id": "5ced5956",
   "metadata": {},
   "source": [
    "# despine means it removes the lines noting the data boundaries and connecting x and y axis"
   ]
  },
  {
   "cell_type": "code",
   "execution_count": null,
   "id": "d88b86e6",
   "metadata": {},
   "outputs": [],
   "source": [
    "plt.figure(figsize = (1,3))\n",
    "sns.lineplot(x=\"DV\", y=\"DV_Backlog\", data=sb)\n",
    "plt.show()"
   ]
  },
  {
   "cell_type": "markdown",
   "id": "2e6777c6",
   "metadata": {},
   "source": [
    "# changing figure size"
   ]
  },
  {
   "cell_type": "code",
   "execution_count": null,
   "id": "fc6da216",
   "metadata": {},
   "outputs": [],
   "source": [
    "sns.set_context(\"paper\",font_scale=1.6)\n",
    "sns.lineplot(x=\"DV\", y=\"DV_Backlog\", data=sb)\n",
    "plt.show()"
   ]
  },
  {
   "cell_type": "markdown",
   "id": "4d179435",
   "metadata": {},
   "source": [
    "# setting the scale/font size of the plot"
   ]
  },
  {
   "cell_type": "code",
   "execution_count": null,
   "id": "ad6e4e47",
   "metadata": {},
   "outputs": [],
   "source": [
    "with sns.axes_style('darkgrid'):\n",
    "    sns.lineplot(x=\"DV\", y=\"DV_Backlog\", data=sb)"
   ]
  },
  {
   "cell_type": "markdown",
   "id": "daf66ec7",
   "metadata": {},
   "source": [
    "# setting the style for temporarily"
   ]
  },
  {
   "cell_type": "code",
   "execution_count": null,
   "id": "9ed0b877",
   "metadata": {},
   "outputs": [],
   "source": [
    "palette = sns.color_palette('Greens',11)\n",
    "sns.palplot(palette)\n",
    "plt.show()"
   ]
  },
  {
   "cell_type": "markdown",
   "id": "9386fb90",
   "metadata": {},
   "source": [
    "# plots the color palette as a horizantal array with green colour"
   ]
  },
  {
   "cell_type": "code",
   "execution_count": null,
   "id": "d36fcb48",
   "metadata": {},
   "outputs": [],
   "source": [
    "palette = sns.color_palette('Oranges',5)\n",
    "sns.palplot(palette)\n",
    "plt.show()"
   ]
  },
  {
   "cell_type": "markdown",
   "id": "aad5b7a0",
   "metadata": {},
   "source": [
    "# plots the color palette as a horizantal array with Orange colour"
   ]
  },
  {
   "cell_type": "code",
   "execution_count": null,
   "id": "330a9078",
   "metadata": {},
   "outputs": [],
   "source": [
    "palette = sns.color_palette('PiYG',10)\n",
    "sns.palplot(palette)\n",
    "plt.show()"
   ]
  },
  {
   "cell_type": "markdown",
   "id": "30103cb3",
   "metadata": {},
   "source": [
    "# plots the color palette as a horizantal array"
   ]
  },
  {
   "cell_type": "code",
   "execution_count": null,
   "id": "3459a8ee",
   "metadata": {},
   "outputs": [],
   "source": [
    "sns.set_palette('Accent')\n",
    "sns.lineplot(x=\"DV\", y=\"DV_Backlog\", data=sb)"
   ]
  },
  {
   "cell_type": "markdown",
   "id": "268dfbd3",
   "metadata": {},
   "source": [
    "# setting the default color palette[Accent]"
   ]
  },
  {
   "cell_type": "code",
   "execution_count": null,
   "id": "7be7b4db",
   "metadata": {},
   "outputs": [],
   "source": [
    "sns.set_palette('gist_ncar_r')\n",
    "sns.lineplot(x=\"DV\", y=\"DV_Backlog\", data=sb)"
   ]
  },
  {
   "cell_type": "markdown",
   "id": "e18165f2",
   "metadata": {},
   "source": [
    "# setting the default color palette[gist_ncar_r]"
   ]
  },
  {
   "cell_type": "code",
   "execution_count": null,
   "id": "942498af",
   "metadata": {},
   "outputs": [],
   "source": [
    "def graph():\n",
    "    sns.lineplot(x=\"DV\", y=\"DV_Backlog\", data=sb)\n",
    "fig = plt.figure(figsize=(6,8))\n",
    "ax1 = fig.add_axes([0.1, 0.1, 0.8, 0.8])\n",
    "graph()\n",
    "ax2 = fig.add_axes([0.5, 0.5, 0.3, 0.3])\n",
    "graph()\n",
    "plt.show()"
   ]
  },
  {
   "cell_type": "markdown",
   "id": "42848246",
   "metadata": {},
   "source": [
    "# Multiple plots can also be created using the Matplotlib as well as Seaborn. add_axes() method with DV"
   ]
  },
  {
   "cell_type": "code",
   "execution_count": null,
   "id": "d662dfbc",
   "metadata": {},
   "outputs": [],
   "source": [
    "def graph():\n",
    "    sns.lineplot(x=\"DV\", y=\"DV_Backlog\", data=sb)\n",
    "plt.subplot(121)\n",
    "graph()\n",
    "plt.subplot(122)\n",
    "graph()\n",
    "plt.show()"
   ]
  },
  {
   "cell_type": "markdown",
   "id": "349a00f6",
   "metadata": {},
   "source": [
    "# Multiple plots can also be created using the Matplotlib as well as Seaborn.subplotgrid() method with DV"
   ]
  },
  {
   "cell_type": "code",
   "execution_count": null,
   "id": "15da79ab",
   "metadata": {},
   "outputs": [],
   "source": [
    "def graph():\n",
    "    sns.lineplot(x=\"DV\", y=\"DV_Backlog\", data=sb)\n",
    "axes1 = plt.subplot2grid ((7, 2), (0, 0), rowspan = 2, colspan = 1)\n",
    "graph()\n",
    "axes2 = plt.subplot2grid ((7, 2), (2, 0), rowspan = 2, colspan = 1)\n",
    "graph()\n",
    "axes3 = plt.subplot2grid ((7, 2), (4, 0), rowspan = 2, colspan = 1)\n",
    "graph()"
   ]
  },
  {
   "cell_type": "markdown",
   "id": "33e4cfc2",
   "metadata": {},
   "source": [
    "# Multiple plots can also be created using the Matplotlib as well as Seaborn.subplot2grid() method with DV"
   ]
  },
  {
   "cell_type": "code",
   "execution_count": null,
   "id": "249ffe0e",
   "metadata": {},
   "outputs": [],
   "source": [
    "plot = sns.FacetGrid(sb, col=\"DV\")\n",
    "plot.map(plt.plot, \"DV\")\n",
    "plt.show()"
   ]
  },
  {
   "cell_type": "markdown",
   "id": "5da7982a",
   "metadata": {},
   "source": [
    "# Using FacetGrid() method with DV"
   ]
  },
  {
   "cell_type": "code",
   "execution_count": null,
   "id": "847d7bf2",
   "metadata": {},
   "outputs": [],
   "source": [
    "plot = sns.PairGrid(sb, vars=[\"DV\", \"M-II\",\"PP\",\"BEEE\",\"FL\",\"FIMS\"])\n",
    "#plot = sns.PairGrid(sb, col=\"Q2\")\n",
    "plot.map(plt.plot)\n",
    "plt.show()"
   ]
  },
  {
   "cell_type": "markdown",
   "id": "69ea0317",
   "metadata": {},
   "source": [
    "# Using PairGrid() method forward with DV,M-II,PP,BEEE,FL,FIMS"
   ]
  },
  {
   "cell_type": "code",
   "execution_count": null,
   "id": "29c8bc50",
   "metadata": {},
   "outputs": [],
   "source": [
    "df1['PP'] = pd.to_numeric(df1['PP'], errors='coerce')\n",
    "\n",
    "def assign_grade(pp):\n",
    "    if pp >= 18:\n",
    "        return 'Excellent'\n",
    "    elif pp >= 15:\n",
    "        return 'Very Good'\n",
    "    elif pp >= 10:\n",
    "        return 'Good'\n",
    "    else:\n",
    "        return 'Needs Improvement'\n",
    "\n",
    "df1['Grade'] = df1['PP'].apply(assign_grade)\n",
    "\n",
    "df1"
   ]
  },
  {
   "cell_type": "code",
   "execution_count": null,
   "id": "dba4d5fa",
   "metadata": {},
   "outputs": [],
   "source": [
    "df1['DV'] = pd.to_numeric(df1['DV'], errors='coerce')\n",
    "\n",
    "def assign_grade(dv):\n",
    "    if dv >= 18:\n",
    "        return 'Excellent'\n",
    "    elif dv >= 15:\n",
    "        return 'Very Good'\n",
    "    elif dv >= 10:\n",
    "        return 'Good'\n",
    "    else:\n",
    "        return 'Needs Improvement'\n",
    "\n",
    "df1['Grade'] = df1['DV'].apply(assign_grade)\n",
    "\n",
    "df1"
   ]
  },
  {
   "cell_type": "code",
   "execution_count": null,
   "id": "895877f5",
   "metadata": {},
   "outputs": [],
   "source": [
    "df1['PP'] = pd.to_numeric(df1['PP'], errors='coerce')\n",
    "\n",
    "def assign_grade(pp):\n",
    "    if pp >= 18:\n",
    "        return 'VeryGood'\n",
    "    elif pp >= 15:\n",
    "        return 'Good'\n",
    "    elif pp >= 13:\n",
    "        return 'Average '\n",
    "    else:\n",
    "        return 'Poor'\n",
    "\n",
    "df1['Grade'] = df1['PP'].apply(assign_grade)\n",
    "\n",
    "df1"
   ]
  },
  {
   "cell_type": "code",
   "execution_count": null,
   "id": "994ccd82",
   "metadata": {},
   "outputs": [],
   "source": [
    "df1['DV'] = pd.to_numeric(df1['DV'], errors='coerce')\n",
    "\n",
    "def assign_grade(dv):\n",
    "    if dv >= 18:\n",
    "        return 'VeryGood'\n",
    "    elif dv >= 15:\n",
    "        return 'Good'\n",
    "    elif dv >= 13:\n",
    "        return 'Average '\n",
    "    else:\n",
    "        return 'Poor'\n",
    "\n",
    "df1['Grade'] = df1['DV'].apply(assign_grade)\n",
    "\n",
    "df1"
   ]
  },
  {
   "cell_type": "code",
   "execution_count": null,
   "id": "7ff93724",
   "metadata": {},
   "outputs": [],
   "source": [
    "#9\n",
    "plt.figure(figsize=(12, 6))\n",
    "plt.subplot(1, 2, 1)\n",
    "sns.countplot(x='DV', data=df1, palette='viridis')\n",
    "plt.title('Grade Distribution of DV')\n",
    "plt.xlabel('Grade')\n",
    "plt.ylabel('Count')\n",
    "plt.subplot(1, 2, 2)\n",
    "sns.countplot(x='BEEE', data=df1, palette='magma')\n",
    "plt.title('Grade Distribution of BEEE')\n",
    "plt.xlabel('Grade')\n",
    "plt.ylabel('Count')\n",
    "plt.tight_layout()\n",
    "plt.show()"
   ]
  },
  {
   "cell_type": "code",
   "execution_count": null,
   "id": "cfbd3f38",
   "metadata": {},
   "outputs": [],
   "source": [
    "df1_poor=df1['DV'].value_counts().get('Poor', 0)\n",
    "df1_vg=df1['DV'].value_counts().get('Very Good', 0)\n",
    "print(df1_poor)\n",
    "print(df1_vg)"
   ]
  },
  {
   "cell_type": "code",
   "execution_count": null,
   "id": "7049229e",
   "metadata": {},
   "outputs": [],
   "source": [
    "df1['FL'] = pd.to_numeric(df1['FL'], errors='coerce')\n",
    "\n",
    "def assign_status(FL):\n",
    "    if FL>= 20:\n",
    "        return '1'\n",
    "    elif FL >= 19:\n",
    "        return '0'\n",
    "   \n",
    "\n",
    "df1['status'] = df1['FL'].apply(assign_status)\n",
    "\n",
    "df1"
   ]
  },
  {
   "cell_type": "code",
   "execution_count": null,
   "id": "3d0b9d7f",
   "metadata": {},
   "outputs": [],
   "source": [
    "def status(row):\n",
    "    if row['DV'] == 20:\n",
    "        return 1\n",
    "    elif row['M-II'] == 20:\n",
    "        return 1\n",
    "    elif row['PP'] == 20:\n",
    "        return 1\n",
    "    elif row['BEEE'] == 20:\n",
    "        return 1\n",
    "    elif row['FIMS'] == 20:\n",
    "        return 1\n",
    "    elif row['FL'] == 20:\n",
    "        return 1\n",
    "    else:\n",
    "        return 0\n",
    "\n",
    "df1['status'] = df1.apply(status, axis=1)\n",
    "df1"
   ]
  },
  {
   "cell_type": "code",
   "execution_count": null,
   "id": "b4ce4bb8",
   "metadata": {},
   "outputs": [],
   "source": [
    "subject_columns = df1.columns[2:]\n",
    "max_scores = {}\n",
    "for subject in subject_columns:\n",
    "    if pd.api.types.is_numeric_dtype(df1[subject]):\n",
    "        max_score = df1[subject].max()\n",
    "        count = (df1[subject] == max_score).sum()\n",
    "        max_scores[subject] = {'Max Score': max_score, 'Count': count}\n",
    "print(max_scores)"
   ]
  },
  {
   "cell_type": "code",
   "execution_count": null,
   "id": "b22a3265",
   "metadata": {},
   "outputs": [],
   "source": [
    "df1[\"DV\"].describe()"
   ]
  },
  {
   "cell_type": "code",
   "execution_count": null,
   "id": "ab5b0896",
   "metadata": {},
   "outputs": [],
   "source": [
    "df1[\"status\"].describe()"
   ]
  },
  {
   "cell_type": "code",
   "execution_count": null,
   "id": "2b9840cc",
   "metadata": {},
   "outputs": [],
   "source": [
    "sb[\"Backlog Count\"].plot(kind='pie',subplots=True,figsize=(8,10))\n",
    "plt.title(\"Backlog Count\")"
   ]
  },
  {
   "cell_type": "code",
   "execution_count": null,
   "id": "a12b48af",
   "metadata": {},
   "outputs": [],
   "source": [
    "df1\n",
    "def assign_grade(pp):\n",
    "    if pp < 10:\n",
    "        return 'poor'\n",
    "    elif pp < 15:\n",
    "        return 'Average'\n",
    "    elif pp < 18:\n",
    "        return 'good'\n",
    "    elif pp <= 20:\n",
    "        return 'very good'\n",
    "    else:\n",
    "        return 'poor'\n",
    "df1['programming_skills'] = df1['PP'].apply(assign_grade)\n",
    "df1['analytical_skills'] = df1['DV'].apply(assign_grade)\n",
    "df1"
   ]
  },
  {
   "cell_type": "code",
   "execution_count": null,
   "id": "62f85f63",
   "metadata": {},
   "outputs": [],
   "source": [
    "#10\n",
    "df1=df1.programming_skills.value_counts()\n",
    "df1.plot(kind='pie', figsize=(8, 8), autopct='%1.1f%%')\n",
    "plt.title(\"Piechart of programming skills\")\n",
    "plt.ylabel(\"\")\n",
    "plt.show()"
   ]
  },
  {
   "cell_type": "code",
   "execution_count": null,
   "id": "21150d5d",
   "metadata": {},
   "outputs": [],
   "source": [
    "df"
   ]
  },
  {
   "cell_type": "code",
   "execution_count": null,
   "id": "230707e7",
   "metadata": {},
   "outputs": [],
   "source": []
  }
 ],
 "metadata": {
  "kernelspec": {
   "display_name": "Python [conda env:base] *",
   "language": "python",
   "name": "conda-base-py"
  },
  "language_info": {
   "codemirror_mode": {
    "name": "ipython",
    "version": 3
   },
   "file_extension": ".py",
   "mimetype": "text/x-python",
   "name": "python",
   "nbconvert_exporter": "python",
   "pygments_lexer": "ipython3",
   "version": "3.12.7"
  }
 },
 "nbformat": 4,
 "nbformat_minor": 5
}
